{
 "cells": [
  {
   "cell_type": "code",
   "execution_count": 1,
   "metadata": {
    "collapsed": true
   },
   "outputs": [],
   "source": [
    "import numpy as np\n",
    "import pandas as pd\n",
    "import random\n",
    "import xml.etree.ElementTree\n",
    "import matplotlib\n",
    "%matplotlib inline"
   ]
  },
  {
   "cell_type": "code",
   "execution_count": 2,
   "metadata": {
    "collapsed": false
   },
   "outputs": [
    {
     "name": "stderr",
     "output_type": "stream",
     "text": [
      "/home/ilya/.virtualenvs/nlp/lib/python2.7/site-packages/ipykernel/__main__.py:1: DeprecationWarning: This method will be removed in future versions.  Use 'list(elem)' or iteration over elem instead.\n",
      "  if __name__ == '__main__':\n",
      "/home/ilya/.virtualenvs/nlp/lib/python2.7/site-packages/ipykernel/__main__.py:3: DeprecationWarning: This method will be removed in future versions.  Use 'list(elem)' or iteration over elem instead.\n",
      "  app.launch_new_instance()\n",
      "/home/ilya/.virtualenvs/nlp/lib/python2.7/site-packages/ipykernel/__main__.py:5: DeprecationWarning: This method will be removed in future versions.  Use 'list(elem)' or iteration over elem instead.\n"
     ]
    }
   ],
   "source": [
    "bank_train_2016_xml = xml.etree.ElementTree.parse('../data/bank_train_2016.xml').getroot().getchildren()[1]\n",
    "rows = []\n",
    "for row_xml in bank_train_2016_xml.getchildren():\n",
    "    row = []\n",
    "    for cell in row_xml.getchildren():\n",
    "        row.append(cell.text)\n",
    "    rows.append(row)"
   ]
  },
  {
   "cell_type": "code",
   "execution_count": 3,
   "metadata": {
    "collapsed": true
   },
   "outputs": [],
   "source": [
    "bank_names = ['sberbank', 'vtb', 'gazprom', 'alfabank', 'bankmoskvy', 'raiffeisen', 'uralsib', 'rshb']"
   ]
  },
  {
   "cell_type": "code",
   "execution_count": 4,
   "metadata": {
    "collapsed": true
   },
   "outputs": [],
   "source": [
    "bank_train_2016 = pd.DataFrame(rows, columns=['id', 'twitid', 'date', 'text'] + bank_names)"
   ]
  },
  {
   "cell_type": "code",
   "execution_count": 5,
   "metadata": {
    "collapsed": false
   },
   "outputs": [
    {
     "data": {
      "text/html": [
       "<div>\n",
       "<table border=\"1\" class=\"dataframe\">\n",
       "  <thead>\n",
       "    <tr style=\"text-align: right;\">\n",
       "      <th></th>\n",
       "      <th>id</th>\n",
       "      <th>twitid</th>\n",
       "      <th>date</th>\n",
       "      <th>text</th>\n",
       "      <th>sberbank</th>\n",
       "      <th>vtb</th>\n",
       "      <th>gazprom</th>\n",
       "      <th>alfabank</th>\n",
       "      <th>bankmoskvy</th>\n",
       "      <th>raiffeisen</th>\n",
       "      <th>uralsib</th>\n",
       "      <th>rshb</th>\n",
       "    </tr>\n",
       "  </thead>\n",
       "  <tbody>\n",
       "    <tr>\n",
       "      <th>0</th>\n",
       "      <td>1</td>\n",
       "      <td>492367586156630000</td>\n",
       "      <td>1406224554</td>\n",
       "      <td>http://t.co/YEVHuvVGA1 Взять кредит тюмень аль...</td>\n",
       "      <td>NULL</td>\n",
       "      <td>NULL</td>\n",
       "      <td>NULL</td>\n",
       "      <td>0</td>\n",
       "      <td>NULL</td>\n",
       "      <td>NULL</td>\n",
       "      <td>NULL</td>\n",
       "      <td>NULL</td>\n",
       "    </tr>\n",
       "    <tr>\n",
       "      <th>1</th>\n",
       "      <td>2</td>\n",
       "      <td>492368160923070000</td>\n",
       "      <td>1406224691</td>\n",
       "      <td>Мнение о кредитной карте втб 24 http://t.co/SB...</td>\n",
       "      <td>NULL</td>\n",
       "      <td>0</td>\n",
       "      <td>NULL</td>\n",
       "      <td>NULL</td>\n",
       "      <td>NULL</td>\n",
       "      <td>NULL</td>\n",
       "      <td>NULL</td>\n",
       "      <td>NULL</td>\n",
       "    </tr>\n",
       "    <tr>\n",
       "      <th>2</th>\n",
       "      <td>3</td>\n",
       "      <td>492368608346260000</td>\n",
       "      <td>1406224798</td>\n",
       "      <td>«Райффайзенбанк»: Снижение ключевой ставки ЦБ ...</td>\n",
       "      <td>NULL</td>\n",
       "      <td>NULL</td>\n",
       "      <td>NULL</td>\n",
       "      <td>NULL</td>\n",
       "      <td>NULL</td>\n",
       "      <td>0</td>\n",
       "      <td>NULL</td>\n",
       "      <td>NULL</td>\n",
       "    </tr>\n",
       "    <tr>\n",
       "      <th>3</th>\n",
       "      <td>4</td>\n",
       "      <td>492371181946030000</td>\n",
       "      <td>1406225412</td>\n",
       "      <td>Современное состояние кредитного поведения в р...</td>\n",
       "      <td>0</td>\n",
       "      <td>NULL</td>\n",
       "      <td>NULL</td>\n",
       "      <td>NULL</td>\n",
       "      <td>NULL</td>\n",
       "      <td>NULL</td>\n",
       "      <td>NULL</td>\n",
       "      <td>NULL</td>\n",
       "    </tr>\n",
       "    <tr>\n",
       "      <th>4</th>\n",
       "      <td>5</td>\n",
       "      <td>492374836564750000</td>\n",
       "      <td>1406226283</td>\n",
       "      <td>@sawik_shuster @YevhenS Главное чтоб банки СБЕ...</td>\n",
       "      <td>1</td>\n",
       "      <td>1</td>\n",
       "      <td>NULL</td>\n",
       "      <td>NULL</td>\n",
       "      <td>NULL</td>\n",
       "      <td>NULL</td>\n",
       "      <td>NULL</td>\n",
       "      <td>NULL</td>\n",
       "    </tr>\n",
       "  </tbody>\n",
       "</table>\n",
       "</div>"
      ],
      "text/plain": [
       "  id              twitid        date  \\\n",
       "0  1  492367586156630000  1406224554   \n",
       "1  2  492368160923070000  1406224691   \n",
       "2  3  492368608346260000  1406224798   \n",
       "3  4  492371181946030000  1406225412   \n",
       "4  5  492374836564750000  1406226283   \n",
       "\n",
       "                                                text sberbank   vtb gazprom  \\\n",
       "0  http://t.co/YEVHuvVGA1 Взять кредит тюмень аль...     NULL  NULL    NULL   \n",
       "1  Мнение о кредитной карте втб 24 http://t.co/SB...     NULL     0    NULL   \n",
       "2  «Райффайзенбанк»: Снижение ключевой ставки ЦБ ...     NULL  NULL    NULL   \n",
       "3  Современное состояние кредитного поведения в р...        0  NULL    NULL   \n",
       "4  @sawik_shuster @YevhenS Главное чтоб банки СБЕ...        1     1    NULL   \n",
       "\n",
       "  alfabank bankmoskvy raiffeisen uralsib  rshb  \n",
       "0        0       NULL       NULL    NULL  NULL  \n",
       "1     NULL       NULL       NULL    NULL  NULL  \n",
       "2     NULL       NULL          0    NULL  NULL  \n",
       "3     NULL       NULL       NULL    NULL  NULL  \n",
       "4     NULL       NULL       NULL    NULL  NULL  "
      ]
     },
     "execution_count": 5,
     "metadata": {},
     "output_type": "execute_result"
    }
   ],
   "source": [
    "bank_train_2016.head()"
   ]
  },
  {
   "cell_type": "code",
   "execution_count": 6,
   "metadata": {
    "collapsed": false
   },
   "outputs": [
    {
     "data": {
      "text/plain": [
       "(9392, 12)"
      ]
     },
     "execution_count": 6,
     "metadata": {},
     "output_type": "execute_result"
    }
   ],
   "source": [
    "bank_train_2016.shape"
   ]
  },
  {
   "cell_type": "code",
   "execution_count": 7,
   "metadata": {
    "collapsed": false
   },
   "outputs": [
    {
     "name": "stdout",
     "output_type": "stream",
     "text": [
      "http://t.co/YEVHuvVGA1 Взять кредит тюмень альфа банк\n",
      "Мнение о кредитной карте втб 24 http://t.co/SBJTcsqjCg\n",
      "«Райффайзенбанк»: Снижение ключевой ставки ЦБ на заседании в эту пятницу очень маловероятно\n",
      "Современное состояние кредитного поведения в россии сбербанк http://t.co/EXAX01uR0h\n",
      "@sawik_shuster @YevhenS Главное чтоб банки СБЕР и ВТБ!!!\n",
      "http://t.co/Qr6JbSVTxY Оформить краткосрочный кредит оао банк москвы\n",
      "Самый выгодный автокредит в втб 24 http://t.co/CDJ5P40x7g\n",
      "Кредит иногородним в москве сбербанк http://t.co/AVlmacmlSf\n",
      "Кредитный калькулятор россельхозбанк чита http://t.co/EqtmPota1G\n",
      "http://t.co/h6r6GdBe4H Легко можно получить денежный кредит ы втб 24 банке\n",
      "ДЕЛО -  На 1 млрд грн ушел в минус Райффайзен Банк Аваль и была докапитализирована украинская \"дочка\" ВТБ\n",
      "Део нексия в кредит в альфа банке http://t.co/4nBxtHbczE\n",
      "Россельхозбанк кредит стань фермером http://t.co/a7LU5KQT15\n",
      "http://t.co/CuNsxVhAb0 Банк втб взять кредит 40000\n",
      "@ShtirliZ_ @Zhukova_olga @winzard @tereshenkov обязательно про сбербанк напишите! Временами похлеще интернет магазинов финты выкручивает)\n",
      "Расчитать кредит сбер банк россии в москве http://t.co/oHrZJ3uFEe\n",
      "Кредит в газпром банке тула http://t.co/jqt7NfDbma\n",
      "Кредитный калькулятор сбербанк россии http://t.co/MGS8yMyXJA\n",
      "@Umka_75 @Alfarius2012 @igor_sechin втб и сбер точно. вопрос-блокировка операций или запрет на кредиты?\n",
      "http://t.co/Snn5WoPVcf Взять кредит строительство магазина россельхозбанк\n"
     ]
    }
   ],
   "source": [
    "for row in bank_train_2016.text[:20]:\n",
    "    print row"
   ]
  },
  {
   "cell_type": "code",
   "execution_count": 9,
   "metadata": {
    "collapsed": false
   },
   "outputs": [
    {
     "name": "stdout",
     "output_type": "stream",
     "text": [
      "23 сообщения из 9к+ имеют разную тональность для разных компаний.\n"
     ]
    }
   ],
   "source": [
    "def uniform_sentiment(row):\n",
    "    return np.unique(row).shape[0] == 2;\n",
    "    \n",
    "mask = bank_train_2016[bank_names].apply(uniform_sentiment, axis=1)\n",
    "print bank_train_2016.shape[0] - bank_train_2016[mask].shape[0], 'сообщения из 9к+ имеют разную тональность для разных компаний.'"
   ]
  },
  {
   "cell_type": "markdown",
   "metadata": {},
   "source": [
    "Поэтому можем не решать задачу object-oriented, а предсказывать тональность для всего твита."
   ]
  },
  {
   "cell_type": "code",
   "execution_count": 10,
   "metadata": {
    "collapsed": false
   },
   "outputs": [
    {
     "name": "stdout",
     "output_type": "stream",
     "text": [
      "857 сообщений имеют более одного объекта\n"
     ]
    }
   ],
   "source": [
    "def one_object(row):\n",
    "    return row.value_counts()['NULL'] == len(bank_names) - 1;\n",
    "\n",
    "mask = bank_train_2016[bank_names].apply(one_object, axis=1)\n",
    "print bank_train_2016.shape[0] - bank_train_2016[mask].shape[0], 'сообщений имеют более одного объекта'"
   ]
  },
  {
   "cell_type": "markdown",
   "metadata": {},
   "source": [
    "Вариант 1ый: берём только твиты с одним видом тональности и для твитов с упоминанием нескольких компаний оставляем лишь одну копию сообщения/лейбла."
   ]
  },
  {
   "cell_type": "code",
   "execution_count": 11,
   "metadata": {
    "collapsed": false
   },
   "outputs": [
    {
     "data": {
      "text/html": [
       "<div>\n",
       "<table border=\"1\" class=\"dataframe\">\n",
       "  <thead>\n",
       "    <tr style=\"text-align: right;\">\n",
       "      <th></th>\n",
       "      <th>id</th>\n",
       "      <th>text</th>\n",
       "      <th>label</th>\n",
       "    </tr>\n",
       "  </thead>\n",
       "  <tbody>\n",
       "    <tr>\n",
       "      <th>0</th>\n",
       "      <td>1</td>\n",
       "      <td>http://t.co/YEVHuvVGA1 Взять кредит тюмень аль...</td>\n",
       "      <td>0</td>\n",
       "    </tr>\n",
       "    <tr>\n",
       "      <th>1</th>\n",
       "      <td>2</td>\n",
       "      <td>Мнение о кредитной карте втб 24 http://t.co/SB...</td>\n",
       "      <td>0</td>\n",
       "    </tr>\n",
       "    <tr>\n",
       "      <th>2</th>\n",
       "      <td>3</td>\n",
       "      <td>«Райффайзенбанк»: Снижение ключевой ставки ЦБ ...</td>\n",
       "      <td>0</td>\n",
       "    </tr>\n",
       "    <tr>\n",
       "      <th>3</th>\n",
       "      <td>4</td>\n",
       "      <td>Современное состояние кредитного поведения в р...</td>\n",
       "      <td>0</td>\n",
       "    </tr>\n",
       "    <tr>\n",
       "      <th>4</th>\n",
       "      <td>5</td>\n",
       "      <td>@sawik_shuster @YevhenS Главное чтоб банки СБЕ...</td>\n",
       "      <td>1</td>\n",
       "    </tr>\n",
       "  </tbody>\n",
       "</table>\n",
       "</div>"
      ],
      "text/plain": [
       "  id                                               text label\n",
       "0  1  http://t.co/YEVHuvVGA1 Взять кредит тюмень аль...     0\n",
       "1  2  Мнение о кредитной карте втб 24 http://t.co/SB...     0\n",
       "2  3  «Райффайзенбанк»: Снижение ключевой ставки ЦБ ...     0\n",
       "3  4  Современное состояние кредитного поведения в р...     0\n",
       "4  5  @sawik_shuster @YevhenS Главное чтоб банки СБЕ...     1"
      ]
     },
     "execution_count": 11,
     "metadata": {},
     "output_type": "execute_result"
    }
   ],
   "source": [
    "def get_one_label(row):\n",
    "    vals = list(np.unique(row))\n",
    "    vals.remove('NULL')\n",
    "    return vals[0] if len(vals) == 1 else np.nan\n",
    "\n",
    "bank_train_2016_copy = bank_train_2016.copy()\n",
    "bank_train_2016_copy['label'] = bank_train_2016_copy[bank_names].apply(get_one_label, axis=1)\n",
    "bank_train_2016_copy = bank_train_2016_copy[['id', 'text', 'label']]\n",
    "bank_train_2016_copy.head()"
   ]
  },
  {
   "cell_type": "markdown",
   "metadata": {},
   "source": [
    "Вариант 2ой: для каждого упоминания компании в твите создаём отдельный семпл с сообщением и соответствующим лейблом"
   ]
  },
  {
   "cell_type": "code",
   "execution_count": 23,
   "metadata": {
    "collapsed": true
   },
   "outputs": [],
   "source": [
    "def get_all_labels(row):\n",
    "    vals = row.values\n",
    "    vals = vals[vals != 'NULL']\n",
    "    return ' '.join(vals)"
   ]
  },
  {
   "cell_type": "code",
   "execution_count": 12,
   "metadata": {
    "collapsed": false
   },
   "outputs": [
    {
     "data": {
      "text/html": [
       "<div>\n",
       "<table border=\"1\" class=\"dataframe\">\n",
       "  <thead>\n",
       "    <tr style=\"text-align: right;\">\n",
       "      <th></th>\n",
       "      <th>id</th>\n",
       "      <th>text</th>\n",
       "      <th>label</th>\n",
       "    </tr>\n",
       "  </thead>\n",
       "  <tbody>\n",
       "    <tr>\n",
       "      <th>0</th>\n",
       "      <td>1</td>\n",
       "      <td>http://t.co/YEVHuvVGA1 Взять кредит тюмень аль...</td>\n",
       "      <td>0</td>\n",
       "    </tr>\n",
       "    <tr>\n",
       "      <th>1</th>\n",
       "      <td>2</td>\n",
       "      <td>Мнение о кредитной карте втб 24 http://t.co/SB...</td>\n",
       "      <td>0</td>\n",
       "    </tr>\n",
       "    <tr>\n",
       "      <th>2</th>\n",
       "      <td>3</td>\n",
       "      <td>«Райффайзенбанк»: Снижение ключевой ставки ЦБ ...</td>\n",
       "      <td>0</td>\n",
       "    </tr>\n",
       "    <tr>\n",
       "      <th>3</th>\n",
       "      <td>4</td>\n",
       "      <td>Современное состояние кредитного поведения в р...</td>\n",
       "      <td>0</td>\n",
       "    </tr>\n",
       "    <tr>\n",
       "      <th>4</th>\n",
       "      <td>5</td>\n",
       "      <td>@sawik_shuster @YevhenS Главное чтоб банки СБЕ...</td>\n",
       "      <td>1</td>\n",
       "    </tr>\n",
       "  </tbody>\n",
       "</table>\n",
       "</div>"
      ],
      "text/plain": [
       "  id                                               text label\n",
       "0  1  http://t.co/YEVHuvVGA1 Взять кредит тюмень аль...     0\n",
       "1  2  Мнение о кредитной карте втб 24 http://t.co/SB...     0\n",
       "2  3  «Райффайзенбанк»: Снижение ключевой ставки ЦБ ...     0\n",
       "3  4  Современное состояние кредитного поведения в р...     0\n",
       "4  5  @sawik_shuster @YevhenS Главное чтоб банки СБЕ...     1"
      ]
     },
     "execution_count": 12,
     "metadata": {},
     "output_type": "execute_result"
    }
   ],
   "source": [
    "bank_train_2016_copy = bank_train_2016.copy()\n",
    "bank_train_2016_copy['labels'] = bank_train_2016_copy[bank_names].apply(get_all_labels, axis=1)\n",
    "bank_train_2016_copy = bank_train_2016_copy[['id', 'text', 'labels']]\n",
    "\n",
    "lbs = bank_train_2016_copy['labels'].str.split(' ').apply(pd.Series, 1).stack()\n",
    "lbs.index = lbs.index.droplevel(-1)\n",
    "lbs.name = 'label'\n",
    "del bank_train_2016_copy['labels']\n",
    "\n",
    "bank_train_2016_copy = bank_train_2016_copy.join(lbs)\n",
    "bank_train_2016_copy.head()"
   ]
  },
  {
   "cell_type": "code",
   "execution_count": 13,
   "metadata": {
    "collapsed": false
   },
   "outputs": [
    {
     "name": "stdout",
     "output_type": "stream",
     "text": [
      "(10725, 3)\n",
      "(10725, 3)\n"
     ]
    }
   ],
   "source": [
    "print bank_train_2016_copy.shape\n",
    "bank_train_2016_copy.dropna(inplace=True)\n",
    "print bank_train_2016_copy.shape"
   ]
  },
  {
   "cell_type": "markdown",
   "metadata": {},
   "source": [
    "Соотношение классов:"
   ]
  },
  {
   "cell_type": "code",
   "execution_count": 14,
   "metadata": {
    "collapsed": false
   },
   "outputs": [
    {
     "data": {
      "text/plain": [
       "0     7158\n",
       "-1    2807\n",
       "1      760\n",
       "Name: label, dtype: int64"
      ]
     },
     "execution_count": 14,
     "metadata": {},
     "output_type": "execute_result"
    }
   ],
   "source": [
    "bank_train_2016_copy.label.value_counts()"
   ]
  },
  {
   "cell_type": "markdown",
   "metadata": {},
   "source": [
    "Распределение длин сообщений в символах."
   ]
  },
  {
   "cell_type": "code",
   "execution_count": 15,
   "metadata": {
    "collapsed": false
   },
   "outputs": [
    {
     "data": {
      "text/plain": [
       "<matplotlib.axes._subplots.AxesSubplot at 0x7fee16475590>"
      ]
     },
     "execution_count": 15,
     "metadata": {},
     "output_type": "execute_result"
    },
    {
     "data": {
      "image/png": "[encoded data removed]",
      "text/plain": [
       "<matplotlib.figure.Figure at 0x7fee20b7e650>"
      ]
     },
     "metadata": {},
     "output_type": "display_data"
    }
   ],
   "source": [
    "bank_train_2016_copy.text.apply(len).hist()"
   ]
  },
  {
   "cell_type": "markdown",
   "metadata": {},
   "source": [
    "Распределение длин сообщений в словах."
   ]
  },
  {
   "cell_type": "code",
   "execution_count": 16,
   "metadata": {
    "collapsed": false
   },
   "outputs": [
    {
     "data": {
      "text/plain": [
       "<matplotlib.axes._subplots.AxesSubplot at 0x7fee5acaeed0>"
      ]
     },
     "execution_count": 16,
     "metadata": {},
     "output_type": "execute_result"
    },
    {
     "data": {
      "image/png": "[encoded data removed]",
      "text/plain": [
       "<matplotlib.figure.Figure at 0x7fee5acc80d0>"
      ]
     },
     "metadata": {},
     "output_type": "display_data"
    }
   ],
   "source": [
    "bank_train_2016_copy.text.apply(lambda s: len(s.split())).hist()"
   ]
  },
  {
   "cell_type": "markdown",
   "metadata": {},
   "source": [
    "Сохраняем предобработанную выборку."
   ]
  },
  {
   "cell_type": "code",
   "execution_count": 17,
   "metadata": {
    "collapsed": false
   },
   "outputs": [],
   "source": [
    "bank_train_2016_copy.to_csv('../data/bank_train.csv', sep='\\t', index=False, encoding='utf-8')"
   ]
  },
  {
   "cell_type": "markdown",
   "metadata": {},
   "source": [
    "---"
   ]
  },
  {
   "cell_type": "markdown",
   "metadata": {},
   "source": [
    "Проведём аналогичную предобработку и для тестовой выборки."
   ]
  },
  {
   "cell_type": "code",
   "execution_count": 19,
   "metadata": {
    "collapsed": false
   },
   "outputs": [
    {
     "name": "stderr",
     "output_type": "stream",
     "text": [
      "/home/ilya/.virtualenvs/nlp/lib/python2.7/site-packages/ipykernel/__main__.py:1: DeprecationWarning: This method will be removed in future versions.  Use 'list(elem)' or iteration over elem instead.\n",
      "  if __name__ == '__main__':\n",
      "/home/ilya/.virtualenvs/nlp/lib/python2.7/site-packages/ipykernel/__main__.py:3: DeprecationWarning: This method will be removed in future versions.  Use 'list(elem)' or iteration over elem instead.\n",
      "  app.launch_new_instance()\n",
      "/home/ilya/.virtualenvs/nlp/lib/python2.7/site-packages/ipykernel/__main__.py:5: DeprecationWarning: This method will be removed in future versions.  Use 'list(elem)' or iteration over elem instead.\n"
     ]
    }
   ],
   "source": [
    "bank_test_2016_xml = xml.etree.ElementTree.parse('../data/banks_test_etalon.xml').getroot().getchildren()[1]\n",
    "rows = []\n",
    "for row_xml in bank_test_2016_xml.getchildren():\n",
    "    row = []\n",
    "    for cell in row_xml.getchildren():\n",
    "        row.append(cell.text)\n",
    "    rows.append(row)"
   ]
  },
  {
   "cell_type": "code",
   "execution_count": 20,
   "metadata": {
    "collapsed": true
   },
   "outputs": [],
   "source": [
    "bank_test_2016 = pd.DataFrame(rows, columns=['id', 'twitid', 'date', 'text'] + bank_names)"
   ]
  },
  {
   "cell_type": "code",
   "execution_count": 21,
   "metadata": {
    "collapsed": false
   },
   "outputs": [
    {
     "data": {
      "text/html": [
       "<div>\n",
       "<table border=\"1\" class=\"dataframe\">\n",
       "  <thead>\n",
       "    <tr style=\"text-align: right;\">\n",
       "      <th></th>\n",
       "      <th>id</th>\n",
       "      <th>twitid</th>\n",
       "      <th>date</th>\n",
       "      <th>text</th>\n",
       "      <th>sberbank</th>\n",
       "      <th>vtb</th>\n",
       "      <th>gazprom</th>\n",
       "      <th>alfabank</th>\n",
       "      <th>bankmoskvy</th>\n",
       "      <th>raiffeisen</th>\n",
       "      <th>uralsib</th>\n",
       "      <th>rshb</th>\n",
       "    </tr>\n",
       "  </thead>\n",
       "  <tbody>\n",
       "    <tr>\n",
       "      <th>0</th>\n",
       "      <td>1</td>\n",
       "      <td>615732011572050000</td>\n",
       "      <td>1435636925</td>\n",
       "      <td>#Автокредит в россельхозбанк в череповце</td>\n",
       "      <td>NULL</td>\n",
       "      <td>NULL</td>\n",
       "      <td>NULL</td>\n",
       "      <td>NULL</td>\n",
       "      <td>NULL</td>\n",
       "      <td>NULL</td>\n",
       "      <td>NULL</td>\n",
       "      <td>0</td>\n",
       "    </tr>\n",
       "    <tr>\n",
       "      <th>1</th>\n",
       "      <td>2</td>\n",
       "      <td>615732055876480000</td>\n",
       "      <td>1435636936</td>\n",
       "      <td>RT @thomasabiloxuz: http://t.co/GTfMwSQQ2c #Кр...</td>\n",
       "      <td>NULL</td>\n",
       "      <td>NULL</td>\n",
       "      <td>NULL</td>\n",
       "      <td>NULL</td>\n",
       "      <td>NULL</td>\n",
       "      <td>NULL</td>\n",
       "      <td>NULL</td>\n",
       "      <td>0</td>\n",
       "    </tr>\n",
       "    <tr>\n",
       "      <th>2</th>\n",
       "      <td>3</td>\n",
       "      <td>615732615576970000</td>\n",
       "      <td>1435637069</td>\n",
       "      <td>#Автокредит в россельхозбанк 2012 http://t.co/...</td>\n",
       "      <td>NULL</td>\n",
       "      <td>NULL</td>\n",
       "      <td>NULL</td>\n",
       "      <td>NULL</td>\n",
       "      <td>NULL</td>\n",
       "      <td>NULL</td>\n",
       "      <td>NULL</td>\n",
       "      <td>0</td>\n",
       "    </tr>\n",
       "    <tr>\n",
       "      <th>3</th>\n",
       "      <td>4</td>\n",
       "      <td>615737106367930000</td>\n",
       "      <td>1435638140</td>\n",
       "      <td>RT @ronaldisogacoq: #Кредитные карты россельхо...</td>\n",
       "      <td>NULL</td>\n",
       "      <td>NULL</td>\n",
       "      <td>NULL</td>\n",
       "      <td>NULL</td>\n",
       "      <td>NULL</td>\n",
       "      <td>NULL</td>\n",
       "      <td>NULL</td>\n",
       "      <td>0</td>\n",
       "    </tr>\n",
       "    <tr>\n",
       "      <th>4</th>\n",
       "      <td>5</td>\n",
       "      <td>615737591619540000</td>\n",
       "      <td>1435638256</td>\n",
       "      <td>RT @anthonyogihulaf: #Кредиты в россельхозбанк...</td>\n",
       "      <td>NULL</td>\n",
       "      <td>NULL</td>\n",
       "      <td>NULL</td>\n",
       "      <td>NULL</td>\n",
       "      <td>NULL</td>\n",
       "      <td>NULL</td>\n",
       "      <td>NULL</td>\n",
       "      <td>0</td>\n",
       "    </tr>\n",
       "  </tbody>\n",
       "</table>\n",
       "</div>"
      ],
      "text/plain": [
       "  id              twitid        date  \\\n",
       "0  1  615732011572050000  1435636925   \n",
       "1  2  615732055876480000  1435636936   \n",
       "2  3  615732615576970000  1435637069   \n",
       "3  4  615737106367930000  1435638140   \n",
       "4  5  615737591619540000  1435638256   \n",
       "\n",
       "                                                text sberbank   vtb gazprom  \\\n",
       "0           #Автокредит в россельхозбанк в череповце     NULL  NULL    NULL   \n",
       "1  RT @thomasabiloxuz: http://t.co/GTfMwSQQ2c #Кр...     NULL  NULL    NULL   \n",
       "2  #Автокредит в россельхозбанк 2012 http://t.co/...     NULL  NULL    NULL   \n",
       "3  RT @ronaldisogacoq: #Кредитные карты россельхо...     NULL  NULL    NULL   \n",
       "4  RT @anthonyogihulaf: #Кредиты в россельхозбанк...     NULL  NULL    NULL   \n",
       "\n",
       "  alfabank bankmoskvy raiffeisen uralsib rshb  \n",
       "0     NULL       NULL       NULL    NULL    0  \n",
       "1     NULL       NULL       NULL    NULL    0  \n",
       "2     NULL       NULL       NULL    NULL    0  \n",
       "3     NULL       NULL       NULL    NULL    0  \n",
       "4     NULL       NULL       NULL    NULL    0  "
      ]
     },
     "execution_count": 21,
     "metadata": {},
     "output_type": "execute_result"
    }
   ],
   "source": [
    "bank_test_2016.head()"
   ]
  },
  {
   "cell_type": "code",
   "execution_count": 22,
   "metadata": {
    "collapsed": false
   },
   "outputs": [
    {
     "data": {
      "text/plain": [
       "(3313, 12)"
      ]
     },
     "execution_count": 22,
     "metadata": {},
     "output_type": "execute_result"
    }
   ],
   "source": [
    "bank_test_2016.shape"
   ]
  },
  {
   "cell_type": "code",
   "execution_count": 24,
   "metadata": {
    "collapsed": false
   },
   "outputs": [
    {
     "data": {
      "text/html": [
       "<div>\n",
       "<table border=\"1\" class=\"dataframe\">\n",
       "  <thead>\n",
       "    <tr style=\"text-align: right;\">\n",
       "      <th></th>\n",
       "      <th>id</th>\n",
       "      <th>text</th>\n",
       "      <th>label</th>\n",
       "    </tr>\n",
       "  </thead>\n",
       "  <tbody>\n",
       "    <tr>\n",
       "      <th>0</th>\n",
       "      <td>1</td>\n",
       "      <td>#Автокредит в россельхозбанк в череповце</td>\n",
       "      <td>0</td>\n",
       "    </tr>\n",
       "    <tr>\n",
       "      <th>1</th>\n",
       "      <td>2</td>\n",
       "      <td>RT @thomasabiloxuz: http://t.co/GTfMwSQQ2c #Кр...</td>\n",
       "      <td>0</td>\n",
       "    </tr>\n",
       "    <tr>\n",
       "      <th>2</th>\n",
       "      <td>3</td>\n",
       "      <td>#Автокредит в россельхозбанк 2012 http://t.co/...</td>\n",
       "      <td>0</td>\n",
       "    </tr>\n",
       "    <tr>\n",
       "      <th>3</th>\n",
       "      <td>4</td>\n",
       "      <td>RT @ronaldisogacoq: #Кредитные карты россельхо...</td>\n",
       "      <td>0</td>\n",
       "    </tr>\n",
       "    <tr>\n",
       "      <th>4</th>\n",
       "      <td>5</td>\n",
       "      <td>RT @anthonyogihulaf: #Кредиты в россельхозбанк...</td>\n",
       "      <td>0</td>\n",
       "    </tr>\n",
       "  </tbody>\n",
       "</table>\n",
       "</div>"
      ],
      "text/plain": [
       "  id                                               text label\n",
       "0  1           #Автокредит в россельхозбанк в череповце     0\n",
       "1  2  RT @thomasabiloxuz: http://t.co/GTfMwSQQ2c #Кр...     0\n",
       "2  3  #Автокредит в россельхозбанк 2012 http://t.co/...     0\n",
       "3  4  RT @ronaldisogacoq: #Кредитные карты россельхо...     0\n",
       "4  5  RT @anthonyogihulaf: #Кредиты в россельхозбанк...     0"
      ]
     },
     "execution_count": 24,
     "metadata": {},
     "output_type": "execute_result"
    }
   ],
   "source": [
    "bank_test_2016_copy = bank_test_2016.copy()\n",
    "bank_test_2016_copy['labels'] = bank_test_2016_copy[bank_names].apply(get_all_labels, axis=1)\n",
    "bank_test_2016_copy = bank_test_2016_copy[['id', 'text', 'labels']]\n",
    "\n",
    "lbs = bank_test_2016_copy['labels'].str.split(' ').apply(pd.Series, 1).stack()\n",
    "lbs.index = lbs.index.droplevel(-1)\n",
    "lbs.name = 'label'\n",
    "del bank_test_2016_copy['labels']\n",
    "\n",
    "bank_test_2016_copy = bank_test_2016_copy.join(lbs)\n",
    "bank_test_2016_copy.head()"
   ]
  },
  {
   "cell_type": "code",
   "execution_count": 25,
   "metadata": {
    "collapsed": false
   },
   "outputs": [
    {
     "name": "stdout",
     "output_type": "stream",
     "text": [
      "(3418, 3)\n",
      "(3418, 3)\n"
     ]
    }
   ],
   "source": [
    "print bank_test_2016_copy.shape\n",
    "bank_test_2016_copy.dropna(inplace=True)\n",
    "print bank_test_2016_copy.shape"
   ]
  },
  {
   "cell_type": "code",
   "execution_count": 26,
   "metadata": {
    "collapsed": false
   },
   "outputs": [
    {
     "data": {
      "text/plain": [
       "0     2316\n",
       "-1     784\n",
       "1      318\n",
       "Name: label, dtype: int64"
      ]
     },
     "execution_count": 26,
     "metadata": {},
     "output_type": "execute_result"
    }
   ],
   "source": [
    "bank_test_2016_copy.label.value_counts()"
   ]
  },
  {
   "cell_type": "code",
   "execution_count": 27,
   "metadata": {
    "collapsed": true
   },
   "outputs": [],
   "source": [
    "bank_test_2016_copy.to_csv('../data/bank_test.csv', sep='\\t', index=False, encoding='utf-8')"
   ]
  }
 ],
 "metadata": {
  "kernelspec": {
   "display_name": "Python 2",
   "language": "python",
   "name": "python2"
  },
  "language_info": {
   "codemirror_mode": {
    "name": "ipython",
    "version": 2
   },
   "file_extension": ".py",
   "mimetype": "text/x-python",
   "name": "python",
   "nbconvert_exporter": "python",
   "pygments_lexer": "ipython2",
   "version": "2.7.12"
  }
 },
 "nbformat": 4,
 "nbformat_minor": 1
}
