{
 "cells": [
  {
   "cell_type": "code",
   "execution_count": 1,
   "metadata": {
    "collapsed": true
   },
   "outputs": [],
   "source": [
    "import numpy as np\n",
    "import pandas as pd\n",
    "import cPickle\n",
    "import multiprocessing\n",
    "import matplotlib.pyplot as plt\n",
    "%matplotlib inline\n",
    "from IPython.display import clear_output"
   ]
  },
  {
   "cell_type": "markdown",
   "metadata": {},
   "source": [
    "### Reading tweets"
   ]
  },
  {
   "cell_type": "code",
   "execution_count": 2,
   "metadata": {
    "collapsed": true
   },
   "outputs": [],
   "source": [
    "# review_train = pd.read_csv('../data/reviews_train.csv', encoding='utf-8')\n",
    "review_train = pd.read_csv('../data/kinopoisk_train.csv', encoding='utf-8')"
   ]
  },
  {
   "cell_type": "code",
   "execution_count": 3,
   "metadata": {},
   "outputs": [
    {
     "data": {
      "text/html": [
       "<div>\n",
       "<table border=\"1\" class=\"dataframe\">\n",
       "  <thead>\n",
       "    <tr style=\"text-align: right;\">\n",
       "      <th></th>\n",
       "      <th>text</th>\n",
       "      <th>label</th>\n",
       "    </tr>\n",
       "  </thead>\n",
       "  <tbody>\n",
       "    <tr>\n",
       "      <th>0</th>\n",
       "      <td>\\n      Прежде чем вообще что-то говорить, нуж...</td>\n",
       "      <td>1</td>\n",
       "    </tr>\n",
       "    <tr>\n",
       "      <th>1</th>\n",
       "      <td>\\nНа мой взгляд, любой боевик должен быть стил...</td>\n",
       "      <td>1</td>\n",
       "    </tr>\n",
       "    <tr>\n",
       "      <th>2</th>\n",
       "      <td>\\nОб этом фильме мне довелось слышать не один ...</td>\n",
       "      <td>1</td>\n",
       "    </tr>\n",
       "    <tr>\n",
       "      <th>3</th>\n",
       "      <td>\\nОчень сложно вспомнить фильм, в котором не б...</td>\n",
       "      <td>0</td>\n",
       "    </tr>\n",
       "    <tr>\n",
       "      <th>4</th>\n",
       "      <td>\\nВ фильме показан нетрадиционный Шерлок Холмс...</td>\n",
       "      <td>1</td>\n",
       "    </tr>\n",
       "  </tbody>\n",
       "</table>\n",
       "</div>"
      ],
      "text/plain": [
       "                                                text  label\n",
       "0  \\n      Прежде чем вообще что-то говорить, нуж...      1\n",
       "1  \\nНа мой взгляд, любой боевик должен быть стил...      1\n",
       "2  \\nОб этом фильме мне довелось слышать не один ...      1\n",
       "3  \\nОчень сложно вспомнить фильм, в котором не б...      0\n",
       "4  \\nВ фильме показан нетрадиционный Шерлок Холмс...      1"
      ]
     },
     "execution_count": 3,
     "metadata": {},
     "output_type": "execute_result"
    }
   ],
   "source": [
    "review_train.head()"
   ]
  },
  {
   "cell_type": "code",
   "execution_count": 4,
   "metadata": {
    "collapsed": true
   },
   "outputs": [],
   "source": [
    "texts, labels = review_train.text.values, review_train.label.values"
   ]
  },
  {
   "cell_type": "code",
   "execution_count": 5,
   "metadata": {},
   "outputs": [
    {
     "name": "stdout",
     "output_type": "stream",
     "text": [
      "0.541235695587 0.00372515238749\n"
     ]
    },
    {
     "name": "stderr",
     "output_type": "stream",
     "text": [
      "[Parallel(n_jobs=-1)]: Done  10 out of  10 | elapsed:   16.6s finished\n"
     ]
    }
   ],
   "source": [
    "from sklearn.pipeline import Pipeline\n",
    "from sklearn.feature_extraction.text import TfidfVectorizer\n",
    "from sklearn.multiclass import OneVsRestClassifier\n",
    "from sklearn.linear_model import SGDClassifier, LogisticRegression\n",
    "from sklearn.svm import SVC\n",
    "from sklearn.model_selection import cross_val_score, GridSearchCV\n",
    "from sklearn.metrics import f1_score\n",
    "\n",
    "pipeline = Pipeline([\n",
    "        ('vect', TfidfVectorizer()),\n",
    "        ('clf', SGDClassifier())\n",
    "    ])\n",
    "cv_res = cross_val_score(pipeline, texts, labels, scoring='f1_macro', cv=10, verbose=1, n_jobs=-1)\n",
    "print cv_res.mean(), cv_res.std()"
   ]
  },
  {
   "cell_type": "code",
   "execution_count": 6,
   "metadata": {},
   "outputs": [
    {
     "name": "stdout",
     "output_type": "stream",
     "text": [
      "0.824494207331 0.00311774723948\n"
     ]
    },
    {
     "name": "stderr",
     "output_type": "stream",
     "text": [
      "[Parallel(n_jobs=-1)]: Done  10 out of  10 | elapsed:   16.3s finished\n"
     ]
    }
   ],
   "source": [
    "cv_res = cross_val_score(pipeline, texts, labels, scoring='accuracy', cv=10, verbose=1, n_jobs=-1)\n",
    "print cv_res.mean(), cv_res.std()"
   ]
  },
  {
   "cell_type": "markdown",
   "metadata": {},
   "source": [
    "### Reading vocabulary and embeddings"
   ]
  },
  {
   "cell_type": "code",
   "execution_count": 5,
   "metadata": {
    "collapsed": true
   },
   "outputs": [],
   "source": [
    "word2id, embeddings = cPickle.load(open('../data/w2v/vectors_l.pkl', 'rb'))\n",
    "# word2id, embeddings = cPickle.load(open('../data/w2v/parkin_vectors.pkl', 'rb'))"
   ]
  },
  {
   "cell_type": "raw",
   "metadata": {},
   "source": [
    "word2id[u'</s>'] = embeddings.shape[0]\n",
    "embeddings = np.concatenate((embeddings, np.zeros((1, embeddings.shape[1]))))"
   ]
  },
  {
   "cell_type": "code",
   "execution_count": 6,
   "metadata": {
    "collapsed": true
   },
   "outputs": [],
   "source": [
    "vocabulary = word2id.keys()\n",
    "eos_id = word2id[u'</s>']"
   ]
  },
  {
   "cell_type": "markdown",
   "metadata": {},
   "source": [
    "### Lemmatizing and replacing words with ids"
   ]
  },
  {
   "cell_type": "code",
   "execution_count": 7,
   "metadata": {},
   "outputs": [
    {
     "name": "stdout",
     "output_type": "stream",
     "text": [
      "Заказывал принтер сетевой по безналичной оплате с доставкой в Самару. Доставили через 4 дня после оплаты. Всем доволен.\n",
      "Заказывал принтер сетевой по безналичной оплате с доставкой в Самару Доставили через дня после оплаты Всем доволен\n",
      "заказывать принтер сетевой по безналичный оплата с доставка в самар доставить через день после оплата весь довольный\n",
      "[5814, 9452, 6700, 17, 30383, 2409, 8, 5692, 2, 7312, 4145, 183, 132, 117, 2409, 11, 2123, 0]\n"
     ]
    }
   ],
   "source": [
    "from nltk.tokenize import RegexpTokenizer\n",
    "import pymorphy2\n",
    "\n",
    "tokenizer = RegexpTokenizer(u'[а-яА-Яa-zA-Z]+')\n",
    "morph = pymorphy2.MorphAnalyzer()\n",
    "\n",
    "def text2seq(text):\n",
    "    tokens_norm = [morph.parse(w)[0].normal_form for w in tokenizer.tokenize(text)]\n",
    "    return [word2id[w] for w in tokens_norm if w in vocabulary] + [eos_id]\n",
    "\n",
    "sample = texts[49]\n",
    "\n",
    "print sample\n",
    "print u' '.join(tokenizer.tokenize(sample))\n",
    "print u' '.join([morph.parse(w)[0].normal_form for w in tokenizer.tokenize(sample)])\n",
    "print text2seq(sample)"
   ]
  },
  {
   "cell_type": "raw",
   "metadata": {},
   "source": [
    "# TODO: adding new words to vocabulary\n",
    "from fuzzywuzzy import fuzz\n",
    "metric = fuzz.ratio\n",
    "if word not in vocabulary:        \n",
    "    max_score = 0\n",
    "    closest_word = vocabulary[0]\n",
    "    for w in vocabulary:\n",
    "        score = metric(word, w)\n",
    "        if score > max_score:\n",
    "            max_score = score\n",
    "            closest_word = w\n",
    "    ..."
   ]
  },
  {
   "cell_type": "raw",
   "metadata": {},
   "source": [
    "%%time\n",
    "pool = multiprocessing.Pool()\n",
    "X = pool.map(text2seq, texts)"
   ]
  },
  {
   "cell_type": "markdown",
   "metadata": {},
   "source": [
    "Dumping"
   ]
  },
  {
   "cell_type": "raw",
   "metadata": {
    "collapsed": true
   },
   "source": [
    "cPickle.dump(X, open('../data/X_review_train.pkl', 'wb'))"
   ]
  },
  {
   "cell_type": "markdown",
   "metadata": {},
   "source": [
    "Loading"
   ]
  },
  {
   "cell_type": "code",
   "execution_count": 8,
   "metadata": {
    "collapsed": true
   },
   "outputs": [],
   "source": [
    "X = cPickle.load(open('../data/X_review_train.pkl', 'rb'))"
   ]
  },
  {
   "cell_type": "markdown",
   "metadata": {},
   "source": [
    "Distribution of sequences' lengths "
   ]
  },
  {
   "cell_type": "code",
   "execution_count": 9,
   "metadata": {},
   "outputs": [
    {
     "data": {
      "image/png": "[encoded data removed]",
      "text/plain": [
       "<matplotlib.figure.Figure at 0x7f20e32dad90>"
      ]
     },
     "metadata": {},
     "output_type": "display_data"
    }
   ],
   "source": [
    "length_max = max(map(len, X))\n",
    "plt.hist(map(len, X), bins=30)\n",
    "plt.title(\"Reviews domain\", fontsize=15)\n",
    "plt.xlabel(\"Message length (word count)\", fontsize=15)\n",
    "plt.ylabel(\"Number of messages\", fontsize=15)\n",
    "plt.show()"
   ]
  },
  {
   "cell_type": "markdown",
   "metadata": {},
   "source": [
    "Drop samples with the length > 150"
   ]
  },
  {
   "cell_type": "code",
   "execution_count": 10,
   "metadata": {
    "collapsed": true
   },
   "outputs": [],
   "source": [
    "length_max = 150\n",
    "y = review_train.label.values\n",
    "y = y[np.array(map(len, X)) <= length_max]\n",
    "X = [x for x in X if len(x) <= length_max]"
   ]
  },
  {
   "cell_type": "markdown",
   "metadata": {},
   "source": [
    "### Zero padding"
   ]
  },
  {
   "cell_type": "code",
   "execution_count": 11,
   "metadata": {
    "collapsed": true
   },
   "outputs": [],
   "source": [
    "X = [x + [eos_id]*(length_max - len(x)) for x in X]"
   ]
  },
  {
   "cell_type": "markdown",
   "metadata": {},
   "source": [
    "### Examples"
   ]
  },
  {
   "cell_type": "code",
   "execution_count": 12,
   "metadata": {},
   "outputs": [
    {
     "name": "stdout",
     "output_type": "stream",
     "text": [
      "[65, 869, 43, 2135, 37924, 2799, 11, 1100, 802, 342, 1, 514, 373, 2, 2293, 127, 43, 10, 53, 151, 8, 4434, 7611, 78, 32611, 1038, 9653, 5, 29, 869, 2, 413, 582, 9, 1475, 2, 460, 1270, 1, 10, 7611, 827, 14, 2197, 8122, 11, 1475, 241, 9626, 59, 756, 1, 11, 67, 394, 1270, 704, 703, 5, 162, 35, 1, 48, 35, 96, 151, 133, 9, 57, 382, 9, 3, 637, 68, 194, 1270, 12, 4, 137, 221, 9, 291, 11898, 22, 2, 2332, 115, 43011, 7, 78, 5763, 1, 25, 1131, 1, 2729, 449, 489, 162, 1270, 48, 57, 194, 263, 3205, 5, 29, 869, 103, 48, 11, 172, 0, 0, 0, 0, 0, 0, 0, 0, 0, 0, 0, 0, 0, 0, 0, 0, 0, 0, 0, 0, 0, 0, 0, 0, 0, 0, 0, 0, 0, 0, 0, 0, 0, 0, 0, 0, 0, 0]\n",
      "[2, 7, 869, 15574, 217, 222, 901, 3705, 78611, 206, 197, 6, 2, 413, 645, 15, 206, 429, 197, 222, 5, 62, 21530, 2795, 0, 0, 0, 0, 0, 0, 0, 0, 0, 0, 0, 0, 0, 0, 0, 0, 0, 0, 0, 0, 0, 0, 0, 0, 0, 0, 0, 0, 0, 0, 0, 0, 0, 0, 0, 0, 0, 0, 0, 0, 0, 0, 0, 0, 0, 0, 0, 0, 0, 0, 0, 0, 0, 0, 0, 0, 0, 0, 0, 0, 0, 0, 0, 0, 0, 0, 0, 0, 0, 0, 0, 0, 0, 0, 0, 0, 0, 0, 0, 0, 0, 0, 0, 0, 0, 0, 0, 0, 0, 0, 0, 0, 0, 0, 0, 0, 0, 0, 0, 0, 0, 0, 0, 0, 0, 0, 0, 0, 0, 0, 0, 0, 0, 0, 0, 0, 0, 0, 0, 0, 0, 0, 0, 0, 0, 0]\n",
      "[11, 2400, 29, 20136, 412, 3, 770, 22, 150, 1627, 791, 77, 904, 2649, 10, 350, 49, 31907, 4, 10969, 4, 71725, 1627, 194, 2345, 76, 170, 3530, 7, 377, 8, 7269, 43, 465, 217, 416, 1592, 43, 20136, 4384, 150, 105, 55, 2509, 1211, 33343, 283, 760, 861, 5, 1891, 1, 3, 42, 189, 13, 588, 351, 5094, 0, 0, 0, 0, 0, 0, 0, 0, 0, 0, 0, 0, 0, 0, 0, 0, 0, 0, 0, 0, 0, 0, 0, 0, 0, 0, 0, 0, 0, 0, 0, 0, 0, 0, 0, 0, 0, 0, 0, 0, 0, 0, 0, 0, 0, 0, 0, 0, 0, 0, 0, 0, 0, 0, 0, 0, 0, 0, 0, 0, 0, 0, 0, 0, 0, 0, 0, 0, 0, 0, 0, 0, 0, 0, 0, 0, 0, 0, 0, 0, 0, 0, 0, 0, 0, 0, 0, 0, 0, 0, 0]\n"
     ]
    }
   ],
   "source": [
    "for x in X[:3]:\n",
    "    print x"
   ]
  },
  {
   "cell_type": "markdown",
   "metadata": {},
   "source": [
    "### Split into train and validation sets"
   ]
  },
  {
   "cell_type": "code",
   "execution_count": 13,
   "metadata": {
    "collapsed": true
   },
   "outputs": [],
   "source": [
    "X = np.array(X)"
   ]
  },
  {
   "cell_type": "code",
   "execution_count": 14,
   "metadata": {
    "collapsed": true
   },
   "outputs": [],
   "source": [
    "def cls2probs(cls):\n",
    "    if cls == -1:\n",
    "        return [1.,0.]\n",
    "    else:\n",
    "        return [0.,1.]\n",
    "y = np.array([cls2probs(cls) for cls in y])"
   ]
  },
  {
   "cell_type": "code",
   "execution_count": 15,
   "metadata": {
    "collapsed": true
   },
   "outputs": [],
   "source": [
    "from sklearn.model_selection import train_test_split\n",
    "\n",
    "TEST_SIZE = 0.1\n",
    "\n",
    "X_tr, X_val, y_tr, y_val = train_test_split(X, y, test_size=TEST_SIZE, random_state=40)"
   ]
  },
  {
   "cell_type": "raw",
   "metadata": {},
   "source": [
    "# To use if y is one-dimensional array\n",
    "from collections import Counter\n",
    "\n",
    "print Counter(y_tr)\n",
    "print Counter(y_val)"
   ]
  },
  {
   "cell_type": "code",
   "execution_count": 16,
   "metadata": {},
   "outputs": [
    {
     "name": "stdout",
     "output_type": "stream",
     "text": [
      "Train class frequencies:\t[10840, 42049]\n",
      "Validation class frequencies:\t[1209, 4668]\n",
      "Constant classifier's validation accuracy:\t0.794282797346\n"
     ]
    }
   ],
   "source": [
    "print \"Train class frequencies:\\t\", [col.nonzero()[0].shape[0] for col in y_tr.transpose()]\n",
    "print \"Validation class frequencies:\\t\", [col.nonzero()[0].shape[0] for col in y_val.transpose()]\n",
    "print \"Constant classifier's validation accuracy:\\t\", [col.nonzero()[0].shape[0] for col in y_val.transpose()][1] * 1. / y_val.shape[0]"
   ]
  },
  {
   "cell_type": "markdown",
   "metadata": {},
   "source": [
    "### Resampling"
   ]
  },
  {
   "cell_type": "raw",
   "metadata": {
    "collapsed": true
   },
   "source": [
    "# from imblearn.under_sampling import RandomUnderSampler\n",
    "# rus = RandomUnderSampler()\n",
    "# _y = np.argmax(y_tr, 1) - 1\n",
    "# X_resampled, y_resampled = rus.fit_sample(X_tr, _y)\n",
    "# y_resampled = np.array([cls2probs(cls) for cls in y_resampled])\n",
    "\n",
    "neutral_indices = np.random.choice(np.nonzero(y_tr[:,1])[0], np.nonzero(y_tr[:,0])[0].shape[0], replace=False)\n",
    "negative_indices = np.nonzero(y_tr[:,0])[0]\n",
    "positive_indices = np.nonzero(y_tr[:,2])[0]\n",
    "\n",
    "X_resampled = X_tr[np.concatenate([negative_indices, neutral_indices, positive_indices])]\n",
    "y_resampled = y_tr[np.concatenate([negative_indices, neutral_indices, positive_indices])]"
   ]
  },
  {
   "cell_type": "markdown",
   "metadata": {},
   "source": [
    "# Network learning"
   ]
  },
  {
   "cell_type": "code",
   "execution_count": 23,
   "metadata": {
    "collapsed": true
   },
   "outputs": [],
   "source": [
    "import tensorflow as tf\n",
    "from tensorflow.contrib.layers import fully_connected\n",
    "from utils import batch_generator"
   ]
  },
  {
   "cell_type": "code",
   "execution_count": 18,
   "metadata": {},
   "outputs": [
    {
     "name": "stdout",
     "output_type": "stream",
     "text": [
      "Constant classifier's macro-averaged F-score on validation set: 0.442674253201\n",
      "Constant classifier's micro-averaged F-score on validation set: 0.794282797346\n"
     ]
    },
    {
     "name": "stderr",
     "output_type": "stream",
     "text": [
      "/home/ilivans/.virtualenvs/cmn/local/lib/python2.7/site-packages/sklearn/metrics/classification.py:1113: UndefinedMetricWarning: F-score is ill-defined and being set to 0.0 in labels with no predicted samples.\n",
      "  'precision', 'predicted', average, warn_for)\n"
     ]
    }
   ],
   "source": [
    "from sklearn.metrics import f1_score\n",
    "f_macro = lambda y1, y2: f1_score(y1, y2, average=\"macro\")\n",
    "f_micro = lambda y1, y2: f1_score(y1, y2, average=\"micro\")\n",
    "\n",
    "y_pred_major = np.zeros(y_val.shape)\n",
    "y_pred_major[:,1] = 1.\n",
    "print \"Constant classifier's macro-averaged F-score on validation set:\", f_macro(y_val, y_pred_major)\n",
    "print \"Constant classifier's micro-averaged F-score on validation set:\", f_micro(y_val, y_pred_major)"
   ]
  },
  {
   "cell_type": "markdown",
   "metadata": {},
   "source": [
    "### CNN"
   ]
  },
  {
   "cell_type": "code",
   "execution_count": 26,
   "metadata": {
    "collapsed": true,
    "scrolled": true
   },
   "outputs": [],
   "source": [
    "EMBED_DIM = 300\n",
    "HIDDEN_SIZE = 300\n",
    "NUM_CLASSES = 2\n",
    "filter_sizes = [3, 4]\n",
    "num_filters = 300\n",
    "sequence_length = length_max\n",
    "\n",
    "tf.reset_default_graph()\n",
    "\n",
    "batch_ph   = tf.placeholder(tf.int32, [None, None])\n",
    "target_ph  = tf.placeholder(tf.float32, [None, NUM_CLASSES])\n",
    "seq_len_ph = tf.placeholder(tf.int32, [None])\n",
    "keep_prob_ph = tf.placeholder(tf.float32)\n",
    "\n",
    "embeddings_ph = tf.placeholder(tf.float32, [len(vocabulary), EMBED_DIM])\n",
    "embeddings_var = tf.Variable(tf.constant(0., shape=[len(vocabulary), EMBED_DIM]), trainable=False)\n",
    "init_embeddings = embeddings_var.assign(embeddings_ph)\n",
    "batch_embedded = tf.nn.embedding_lookup(embeddings_var, batch_ph)\n",
    "batch_embedded_expanded = tf.expand_dims(batch_embedded, -1)\n",
    "    \n",
    "# Create a convolution + maxpool layer for each filter size\n",
    "pooled_outputs = []\n",
    "for i, filter_size in enumerate(filter_sizes):\n",
    "    # Convolution Layer\n",
    "    filter_shape = [filter_size, EMBED_DIM, 1, num_filters]\n",
    "    W = tf.Variable(tf.truncated_normal(filter_shape, stddev=0.1))\n",
    "    b = tf.Variable(tf.constant(0.1, shape=[num_filters]))\n",
    "    conv = tf.nn.conv2d(\n",
    "        batch_embedded_expanded,\n",
    "        W,\n",
    "        strides=[1, 1, 1, 1],\n",
    "        padding=\"VALID\")\n",
    "    # Apply nonlinearity\n",
    "    h = tf.nn.relu(tf.nn.bias_add(conv, b), name=\"relu\")\n",
    "    # Maxpooling over the outputs\n",
    "    pooled = tf.nn.max_pool(\n",
    "        h,\n",
    "        ksize=[1, sequence_length - filter_size + 1, 1, 1],\n",
    "        strides=[1, 1, 1, 1],\n",
    "        padding='VALID')\n",
    "    pooled_outputs.append(pooled)\n",
    "\n",
    "# Combine all the pooled features\n",
    "num_filters_total = num_filters * len(filter_sizes)\n",
    "h_pool = tf.concat(pooled_outputs, 3)\n",
    "output = tf.reshape(h_pool, [-1, num_filters_total])\n",
    "\n",
    "# Dropout\n",
    "drop = tf.nn.dropout(output, keep_prob_ph)\n",
    "\n",
    "# Fully connected layer\n",
    "W = tf.Variable(tf.truncated_normal([HIDDEN_SIZE * 2, NUM_CLASSES], stddev=0.1), name=\"W\")\n",
    "b = tf.Variable(tf.constant(0., shape=[NUM_CLASSES]), name=\"b\")\n",
    "y_hat = tf.nn.xw_plus_b(drop, W, b, name=\"scores\")"
   ]
  },
  {
   "cell_type": "code",
   "execution_count": 27,
   "metadata": {
    "collapsed": true
   },
   "outputs": [],
   "source": [
    "# Adam parameters\n",
    "LEARNING_RATE = 1e-3\n",
    "EPSILON = 1e-5\n",
    "BETA1 = 0.9\n",
    "BETA2 = 0.9\n",
    "# L2 regularization coefficient\n",
    "BETA = 0\n",
    "\n",
    "cross_entropy = tf.reduce_mean(tf.nn.softmax_cross_entropy_with_logits(logits=y_hat, labels=target_ph),\n",
    "                               name=\"cross_entropy\")\n",
    "l2_loss = tf.nn.l2_loss(W, name=\"l2_loss\")\n",
    "loss = cross_entropy + l2_loss * BETA\n",
    "optimizer = tf.train.AdamOptimizer(learning_rate=LEARNING_RATE, beta1=BETA1, beta2=BETA2,\n",
    "                                   epsilon=EPSILON).minimize(loss)\n",
    "# optimizer = tf.train.MomentumOptimizer(learning_rate=1e-1, momentum=0.1).minimize(loss)\n",
    "accuracy = tf.reduce_mean(tf.cast(tf.equal(tf.argmax(target_ph, 1), tf.argmax(y_hat, 1)), tf.float32))"
   ]
  },
  {
   "cell_type": "code",
   "execution_count": 24,
   "metadata": {},
   "outputs": [
    {
     "name": "stdout",
     "output_type": "stream",
     "text": [
      "epoch: 9\n",
      "\t Train loss: 0.028\t ce: 0.028\t acc: 0.992\t f_macro: 0.989\n",
      "\t Valid loss: 0.318\t ce: 0.318\t acc: 0.890\t f_macro: 0.821\n"
     ]
    },
    {
     "data": {
      "image/png": "[encoded data removed]",
      "text/plain": [
       "<matplotlib.figure.Figure at 0x7f20567bf1d0>"
      ]
     },
     "metadata": {},
     "output_type": "display_data"
    },
    {
     "name": "stdout",
     "output_type": "stream",
     "text": [
      "CPU times: user 15min 33s, sys: 3min 15s, total: 18min 48s\n",
      "Wall time: 21min 47s\n"
     ]
    }
   ],
   "source": [
    "%%time\n",
    "from sklearn.model_selection import StratifiedKFold, KFold\n",
    "\n",
    "FOLDS = 10\n",
    "\n",
    "DROPOUT = 0.5  # Probability of keeping a neuron\n",
    "BATCH_SIZE = 256\n",
    "EPOCHS = 10\n",
    "\n",
    "\n",
    "skf = KFold(FOLDS, shuffle=True, random_state=42)\n",
    "\n",
    "results = []\n",
    "\n",
    "for train_index, test_index in skf.split(X, y):\n",
    "    X_tr, X_val = X[train_index], X[test_index]\n",
    "    y_tr, y_val = y[train_index], y[test_index]\n",
    "\n",
    "    train_batch_generator = batch_generator(X_tr, y_tr, BATCH_SIZE)\n",
    "\n",
    "    loss_tr_l = []\n",
    "    loss_val_l = []\n",
    "    ce_tr_l = []  # Cross-entropy\n",
    "    ce_val_l = []\n",
    "    acc_tr_l = []  # Accuracy\n",
    "    acc_val_l = []\n",
    "    f_macro_tr_l = []\n",
    "    f_macro_val_l = []\n",
    "    f_fair_tr_l = []\n",
    "    f_fair_val_l = []\n",
    "\n",
    "    with tf.Session() as sess:\n",
    "        sess.run(tf.global_variables_initializer())\n",
    "        sess.run(init_embeddings, feed_dict={embeddings_ph: embeddings})\n",
    "        print \"Start learning...\"\n",
    "        for epoch in range(EPOCHS):\n",
    "            for i in range(int(X_tr.shape[0] / BATCH_SIZE)):\n",
    "                x_batch, y_batch = train_batch_generator.next()\n",
    "                seq_len_tr = np.array([list(x).index(eos_id) + 1 for x in x_batch])\n",
    "                sess.run(optimizer, feed_dict={batch_ph: x_batch, target_ph: y_batch,\n",
    "                                               seq_len_ph: seq_len_tr, keep_prob_ph: DROPOUT})\n",
    "\n",
    "            y_pred_tr, ce_tr, loss_tr, acc_tr = sess.run([y_hat, cross_entropy, loss, accuracy],\n",
    "                                                  feed_dict={batch_ph: x_batch, target_ph: y_batch, \n",
    "                                                             seq_len_ph: seq_len_tr, keep_prob_ph: 1.0})\n",
    "            \n",
    "            y_pred_val, ce_val, loss_val, acc_val = [], 0, 0, 0\n",
    "            num_val_batches = X_val.shape[0] / BATCH_SIZE\n",
    "            for i in range(num_val_batches):\n",
    "                x_batch_val, y_batch_val = X_val[i * BATCH_SIZE : (i + 1) * BATCH_SIZE],\\\n",
    "                                           y_val[i * BATCH_SIZE : (i + 1) * BATCH_SIZE]\n",
    "                seq_len_val = np.array([list(x).index(eos_id) + 1 for x in x_batch_val])\n",
    "                y_pred_val_, ce_val_, loss_val_, acc_val_ = sess.run([y_hat, cross_entropy, loss, accuracy],\n",
    "                                                             feed_dict={batch_ph: x_batch_val, target_ph: y_batch_val,\n",
    "                                                                        seq_len_ph: seq_len_val, keep_prob_ph: 1.0})\n",
    "                y_pred_val += list(y_pred_val_)\n",
    "                ce_val += ce_val_\n",
    "                loss_val += loss_val_\n",
    "                acc_val += acc_val_\n",
    "            \n",
    "            y_pred_val = np.array(y_pred_val)\n",
    "            ce_val /= num_val_batches\n",
    "            loss_val /= num_val_batches\n",
    "            acc_val /= num_val_batches\n",
    "\n",
    "            y_pred_tr = np.array([cls2probs(cls) for cls in np.argmax(y_pred_tr, 1) - 1])\n",
    "            y_pred_val = np.array([cls2probs(cls) for cls in np.argmax(y_pred_val, 1) - 1])\n",
    "            f_macro_tr, f_micro_tr = f_macro(y_batch, y_pred_tr), f_micro(y_batch, y_pred_tr)\n",
    "            f_macro_val, f_micro_val = f_macro(y_val[:num_val_batches * BATCH_SIZE], y_pred_val),\\\n",
    "                                       f_micro(y_val[:num_val_batches * BATCH_SIZE], y_pred_val)\n",
    "        \n",
    "\n",
    "            loss_tr_l.append(loss_tr)\n",
    "            loss_val_l.append(loss_val)\n",
    "            ce_tr_l.append(ce_tr)\n",
    "            ce_val_l.append(ce_val)\n",
    "            acc_tr_l.append(acc_tr)\n",
    "            acc_val_l.append(acc_val)\n",
    "            f_macro_tr_l.append(f_macro_tr)\n",
    "            f_macro_val_l.append(f_macro_val)\n",
    "\n",
    "            clear_output(wait=True)\n",
    "            print \"epoch: {}\".format(epoch)\n",
    "            print \"\\t Train loss: {:.3f}\\t ce: {:.3f}\\t acc: {:.3f}\\t f_macro: {:.3f}\".format(\n",
    "                loss_tr, ce_tr, acc_tr, f_macro_tr)\n",
    "            print \"\\t Valid loss: {:.3f}\\t ce: {:.3f}\\t acc: {:.3f}\\t f_macro: {:.3f}\".format(\n",
    "                loss_val, ce_val, acc_val, f_macro_val)\n",
    "\n",
    "            plt.figure(figsize=(15,10))\n",
    "            plt.plot(ce_tr_l, color='blue', label='ce_tr')\n",
    "            plt.plot(ce_val_l, color='red', label='ce_val')        \n",
    "            plt.plot(f_macro_val_l, color='green', label='f_macro_val')\n",
    "            plt.xlim(0, EPOCHS - 1)\n",
    "            plt.ylim(0, 1)\n",
    "            plt.legend()\n",
    "            plt.show()\n",
    "            \n",
    "    results.append([max(acc_val_l), max(f_macro_val_l)])"
   ]
  },
  {
   "cell_type": "code",
   "execution_count": 25,
   "metadata": {},
   "outputs": [
    {
     "data": {
      "text/plain": [
       "[[0.90536221590909094, 0.86204278884069963],\n",
       " [0.90234375, 0.85367918253824304],\n",
       " [0.89701704545454541, 0.84285550523096697],\n",
       " [0.90287642045454541, 0.85261131486448871],\n",
       " [0.89524147727272729, 0.84816582444319666],\n",
       " [0.90056818181818177, 0.85228249474123574],\n",
       " [0.90074573863636365, 0.85866966360127295],\n",
       " [0.90269886363636365, 0.85747561036658804],\n",
       " [0.90607244318181823, 0.85701071648845861],\n",
       " [0.90092329545454541, 0.85664716343793257]]"
      ]
     },
     "execution_count": 25,
     "metadata": {},
     "output_type": "execute_result"
    }
   ],
   "source": [
    "# hid 300, ep 10, Adam 1e-3, max_val_f\n",
    "results"
   ]
  },
  {
   "cell_type": "markdown",
   "metadata": {},
   "source": [
    "---"
   ]
  },
  {
   "cell_type": "markdown",
   "metadata": {},
   "source": [
    "---"
   ]
  },
  {
   "cell_type": "markdown",
   "metadata": {},
   "source": [
    "---"
   ]
  },
  {
   "cell_type": "markdown",
   "metadata": {},
   "source": [
    "# Testing"
   ]
  },
  {
   "cell_type": "code",
   "execution_count": 7,
   "metadata": {
    "collapsed": true
   },
   "outputs": [],
   "source": [
    "review_test = pd.read_csv('../data/reviews_test.csv', sep=',', encoding='utf-8')\n",
    "texts_test, labels_test = review_test.text.values, review_test.label.values"
   ]
  },
  {
   "cell_type": "code",
   "execution_count": 8,
   "metadata": {},
   "outputs": [
    {
     "name": "stdout",
     "output_type": "stream",
     "text": [
      "0.375979044646\n",
      "0.81020021645\n"
     ]
    },
    {
     "name": "stderr",
     "output_type": "stream",
     "text": [
      "/home/ilivans/.virtualenvs/cmn/local/lib/python2.7/site-packages/sklearn/metrics/classification.py:1113: UndefinedMetricWarning: F-score is ill-defined and being set to 0.0 in labels with no predicted samples.\n",
      "  'precision', 'predicted', average, warn_for)\n"
     ]
    }
   ],
   "source": [
    "from sklearn.metrics import accuracy_score, f1_score\n",
    "\n",
    "pipeline.fit(texts, labels)\n",
    "pred = pipeline.predict(texts_test)\n",
    "print f1_score(pred, labels_test, average='macro')\n",
    "print accuracy_score(pred, labels_test)"
   ]
  },
  {
   "cell_type": "code",
   "execution_count": 263,
   "metadata": {},
   "outputs": [
    {
     "name": "stdout",
     "output_type": "stream",
     "text": [
      "CPU times: user 272 ms, sys: 728 ms, total: 1 s\n",
      "Wall time: 39 s\n"
     ]
    }
   ],
   "source": [
    "%%time\n",
    "pool = multiprocessing.Pool()\n",
    "X_test = pool.map(text2seq, texts_test)\n",
    "cPickle.dump(X_test, open('../data/X_review_test.pkl', 'wb'))"
   ]
  },
  {
   "cell_type": "code",
   "execution_count": 254,
   "metadata": {
    "collapsed": true
   },
   "outputs": [],
   "source": [
    "X_test = cPickle.load(open('../data/X_review_test.pkl', 'rb'))"
   ]
  },
  {
   "cell_type": "code",
   "execution_count": 274,
   "metadata": {
    "collapsed": true
   },
   "outputs": [],
   "source": [
    "X_test = [x + [eos_id]*(length_max - len(x)) for x in X_test]\n",
    "X_test = np.array(X_test)\n",
    "y_test = np.array([cls2probs(cls) for cls in labels_test])"
   ]
  },
  {
   "cell_type": "code",
   "execution_count": 292,
   "metadata": {},
   "outputs": [
    {
     "data": {
      "text/plain": [
       "((537, 29), (537, 3), (3418, 29), (3418, 3))"
      ]
     },
     "execution_count": 292,
     "metadata": {},
     "output_type": "execute_result"
    }
   ],
   "source": [
    "X_val.shape, y_val.shape, X_test.shape, y_test.shape"
   ]
  },
  {
   "cell_type": "code",
   "execution_count": 352,
   "metadata": {
    "collapsed": true
   },
   "outputs": [],
   "source": [
    "with tf.Session() as sess:\n",
    "    new_saver = tf.train.import_meta_graph('model_birnn_momentum.meta')\n",
    "    new_saver.restore(sess, tf.train.latest_checkpoint('./'))\n",
    "    \n",
    "    seq_len_test = np.array([list(x).index(eos_id) + 1 for x in X_test])\n",
    "    y_pred_test, ce_test, loss_test, acc_test = sess.run([y_hat, cross_entropy, loss, accuracy],\n",
    "                                                     feed_dict={batch_ph: X_test, target_ph: y_test,\n",
    "                                                                seq_len_ph: seq_len_test, keep_prob_ph: 1.0})\n",
    "    seq_len_val = np.array([list(x).index(eos_id) + 1 for x in X_val])\n",
    "    y_pred_val, ce_val, loss_val, acc_val = sess.run([y_hat, cross_entropy, loss, accuracy],\n",
    "                                                         feed_dict={batch_ph: X_val, target_ph: y_val,\n",
    "                                                                    seq_len_ph: seq_len_val, keep_prob_ph: 1.0})"
   ]
  },
  {
   "cell_type": "code",
   "execution_count": 353,
   "metadata": {},
   "outputs": [
    {
     "name": "stdout",
     "output_type": "stream",
     "text": [
      "0.629508196721 0.794366197183\n"
     ]
    }
   ],
   "source": [
    "y_pred_val = np.array([cls2probs(cls) for cls in np.argmax(y_pred_val, 1) - 1])\n",
    "f_macro_val, f_micro_val = f_macro(y_val, y_pred_val), f_micro(y_val, y_pred_val)\n",
    "print f_macro_val, f_micro_val"
   ]
  },
  {
   "cell_type": "code",
   "execution_count": 354,
   "metadata": {},
   "outputs": [
    {
     "name": "stdout",
     "output_type": "stream",
     "text": [
      "0.434433507829 0.522274881517\n"
     ]
    }
   ],
   "source": [
    "y_pred_test = np.array([cls2probs(cls) for cls in np.argmax(y_pred_test, 1) - 1])\n",
    "f_macro_test, f_micro_test = f_macro(y_test, y_pred_test), f_micro(y_test, y_pred_test)\n",
    "print f_macro_test, f_micro_test"
   ]
  },
  {
   "cell_type": "code",
   "execution_count": null,
   "metadata": {
    "collapsed": true
   },
   "outputs": [],
   "source": []
  },
  {
   "cell_type": "code",
   "execution_count": null,
   "metadata": {
    "collapsed": true
   },
   "outputs": [],
   "source": []
  },
  {
   "cell_type": "code",
   "execution_count": null,
   "metadata": {
    "collapsed": true
   },
   "outputs": [],
   "source": []
  },
  {
   "cell_type": "code",
   "execution_count": null,
   "metadata": {
    "collapsed": true
   },
   "outputs": [],
   "source": []
  },
  {
   "cell_type": "code",
   "execution_count": null,
   "metadata": {
    "collapsed": true
   },
   "outputs": [],
   "source": []
  },
  {
   "cell_type": "code",
   "execution_count": null,
   "metadata": {
    "collapsed": true
   },
   "outputs": [],
   "source": []
  },
  {
   "cell_type": "code",
   "execution_count": null,
   "metadata": {
    "collapsed": true
   },
   "outputs": [],
   "source": []
  },
  {
   "cell_type": "code",
   "execution_count": null,
   "metadata": {
    "collapsed": true
   },
   "outputs": [],
   "source": []
  },
  {
   "cell_type": "code",
   "execution_count": null,
   "metadata": {
    "collapsed": true
   },
   "outputs": [],
   "source": []
  },
  {
   "cell_type": "code",
   "execution_count": null,
   "metadata": {
    "collapsed": true
   },
   "outputs": [],
   "source": []
  },
  {
   "cell_type": "code",
   "execution_count": null,
   "metadata": {
    "collapsed": true
   },
   "outputs": [],
   "source": []
  },
  {
   "cell_type": "code",
   "execution_count": null,
   "metadata": {
    "collapsed": true
   },
   "outputs": [],
   "source": []
  }
 ],
 "metadata": {
  "kernelspec": {
   "display_name": "Python 2",
   "language": "python",
   "name": "python2"
  },
  "language_info": {
   "codemirror_mode": {
    "name": "ipython",
    "version": 2
   },
   "file_extension": ".py",
   "mimetype": "text/x-python",
   "name": "python",
   "nbconvert_exporter": "python",
   "pygments_lexer": "ipython2",
   "version": "2.7.12"
  }
 },
 "nbformat": 4,
 "nbformat_minor": 1
}
