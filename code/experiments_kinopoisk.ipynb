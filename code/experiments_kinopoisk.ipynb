{
 "cells": [
  {
   "cell_type": "code",
   "execution_count": 1,
   "metadata": {
    "collapsed": true
   },
   "outputs": [],
   "source": [
    "import numpy as np\n",
    "import pandas as pd\n",
    "import cPickle\n",
    "import multiprocessing\n",
    "import matplotlib.pyplot as plt\n",
    "%matplotlib inline\n",
    "from IPython.display import clear_output"
   ]
  },
  {
   "cell_type": "markdown",
   "metadata": {},
   "source": [
    "### Reading tweets"
   ]
  },
  {
   "cell_type": "code",
   "execution_count": 2,
   "metadata": {
    "collapsed": true
   },
   "outputs": [],
   "source": [
    "kinopoisk_train = pd.read_csv('../data/kinopoisk_train.csv', encoding='utf-8')"
   ]
  },
  {
   "cell_type": "code",
   "execution_count": 3,
   "metadata": {},
   "outputs": [
    {
     "data": {
      "text/html": [
       "<div>\n",
       "<table border=\"1\" class=\"dataframe\">\n",
       "  <thead>\n",
       "    <tr style=\"text-align: right;\">\n",
       "      <th></th>\n",
       "      <th>text</th>\n",
       "      <th>label</th>\n",
       "    </tr>\n",
       "  </thead>\n",
       "  <tbody>\n",
       "    <tr>\n",
       "      <th>0</th>\n",
       "      <td>\\n      Прежде чем вообще что-то говорить, нуж...</td>\n",
       "      <td>1</td>\n",
       "    </tr>\n",
       "    <tr>\n",
       "      <th>1</th>\n",
       "      <td>\\nНа мой взгляд, любой боевик должен быть стил...</td>\n",
       "      <td>1</td>\n",
       "    </tr>\n",
       "    <tr>\n",
       "      <th>2</th>\n",
       "      <td>\\nОб этом фильме мне довелось слышать не один ...</td>\n",
       "      <td>1</td>\n",
       "    </tr>\n",
       "    <tr>\n",
       "      <th>3</th>\n",
       "      <td>\\nОчень сложно вспомнить фильм, в котором не б...</td>\n",
       "      <td>0</td>\n",
       "    </tr>\n",
       "    <tr>\n",
       "      <th>4</th>\n",
       "      <td>\\nВ фильме показан нетрадиционный Шерлок Холмс...</td>\n",
       "      <td>1</td>\n",
       "    </tr>\n",
       "  </tbody>\n",
       "</table>\n",
       "</div>"
      ],
      "text/plain": [
       "                                                text  label\n",
       "0  \\n      Прежде чем вообще что-то говорить, нуж...      1\n",
       "1  \\nНа мой взгляд, любой боевик должен быть стил...      1\n",
       "2  \\nОб этом фильме мне довелось слышать не один ...      1\n",
       "3  \\nОчень сложно вспомнить фильм, в котором не б...      0\n",
       "4  \\nВ фильме показан нетрадиционный Шерлок Холмс...      1"
      ]
     },
     "execution_count": 3,
     "metadata": {},
     "output_type": "execute_result"
    }
   ],
   "source": [
    "kinopoisk_train.head()"
   ]
  },
  {
   "cell_type": "code",
   "execution_count": 4,
   "metadata": {
    "collapsed": true
   },
   "outputs": [],
   "source": [
    "texts, labels = kinopoisk_train.text.values, kinopoisk_train.label.values"
   ]
  },
  {
   "cell_type": "markdown",
   "metadata": {},
   "source": [
    "### Reading vocabulary and embeddings"
   ]
  },
  {
   "cell_type": "code",
   "execution_count": 5,
   "metadata": {
    "collapsed": true
   },
   "outputs": [],
   "source": [
    "word2id, embeddings = cPickle.load(open('../data/w2v/vectors_l.pkl', 'rb'))\n",
    "# word2id, embeddings = cPickle.load(open('../data/w2v/parkin_vectors.pkl', 'rb'))"
   ]
  },
  {
   "cell_type": "raw",
   "metadata": {},
   "source": [
    "word2id[u'</s>'] = embeddings.shape[0]\n",
    "embeddings = np.concatenate((embeddings, np.zeros((1, embeddings.shape[1]))))"
   ]
  },
  {
   "cell_type": "code",
   "execution_count": 6,
   "metadata": {
    "collapsed": true
   },
   "outputs": [],
   "source": [
    "vocabulary = word2id.keys()\n",
    "eos_id = word2id[u'</s>']"
   ]
  },
  {
   "cell_type": "markdown",
   "metadata": {},
   "source": [
    "### Lemmatizing and replacing words with ids"
   ]
  },
  {
   "cell_type": "code",
   "execution_count": 7,
   "metadata": {},
   "outputs": [
    {
     "name": "stdout",
     "output_type": "stream",
     "text": [
      "\n",
      "Мне странно, что отзывы о таком шедевре настолько холодные… Такое впечатление что тут открыли форум критиков «ВК»… \n",
      "\n",
      "Фильм поражает своей масштабностью, красотой и глубиной образов и самого мира — до сих пор удивляюсь, как мог один человек создать целый мир, целую эпоху со своими мифами, героями, географией, летоисчеслением, прошлым, настояшим и будующим! \n",
      "\n",
      "Гений Толкиена идеально перенесен на большие экраны и экранизация романа просто разрывает тебя на куски! Когда смотришь фильм — ты попадаешь в сказку… причем не добрую и поучительную, а реалистичную и жесткую, где высоко приподнесены такие извечные ценности как честь, достоинство, отвага, долг. \n",
      "\n",
      "А музыка фильма это отдельный разговор! Музыкальная тема фильма выше всяких похвал — ну как могут не тронуть сердце эльфийские баллады или героические мотивы на фоне батальных сцен!\n",
      "\n",
      "Бесспорно каждый Оскар из 11 полученных взят заслужено!\n",
      "\n",
      "10 из 10\n",
      "Мне странно что отзывы о таком шедевре настолько холодные Такое впечатление что тут открыли форум критиков ВК Фильм поражает своей масштабностью красотой и глубиной образов и самого мира до сих пор удивляюсь как мог один человек создать целый мир целую эпоху со своими мифами героями географией летоисчеслением прошлым настояшим и будующим Гений Толкиена идеально перенесен на большие экраны и экранизация романа просто разрывает тебя на куски Когда смотришь фильм ты попадаешь в сказку причем не добрую и поучительную а реалистичную и жесткую где высоко приподнесены такие извечные ценности как честь достоинство отвага долг А музыка фильма это отдельный разговор Музыкальная тема фильма выше всяких похвал ну как могут не тронуть сердце эльфийские баллады или героические мотивы на фоне батальных сцен Бесспорно каждый Оскар из полученных взят заслужено из\n",
      "я странно что отзыв о такой шедевр настолько холодное такой впечатление что тут открыть форум критик вк фильм поражать свой масштабность красота и глубина образ и самый мир до сей пора удивляться как мочь один человек создать целый мир целовать эпоха с свой миф герой география летоисчесление прошлое настояшим и будуть гений толкиен идеально перенести на большой экран и экранизация роман просто разрывать ты на кусок когда смотреть фильм ты попадать в сказка причём не добрый и поучительный а реалистичный и жёсткий где высоко приподнести такой извечный ценность как честь достоинство отвага долг а музыка фильм это отдельный разговор музыкальный тема фильм выше всякий похвала ну как мочь не тронуть сердце эльфийский баллада или героический мотив на фон батальный сцена бесспорный каждый оскар из получить взять заслужить из\n",
      "[10, 1031, 4, 5094, 26, 30, 4824, 1204, 5839, 30, 1363, 4, 95, 1041, 1765, 7446, 4095, 335, 4580, 24, 34095, 2032, 1, 3754, 415, 1, 69, 98, 61, 477, 205, 1794, 14, 40, 39, 27, 384, 1591, 98, 3611, 2214, 8, 24, 2500, 506, 5537, 91114, 595, 1, 13035, 3172, 30321, 8061, 4107, 5, 68, 2671, 1, 18233, 698, 62, 11241, 28, 5, 1776, 59, 155, 335, 28, 2321, 2, 1348, 305, 3, 488, 1, 13554, 6, 15146, 1, 1777, 82, 6202, 49609, 30, 14186, 873, 14, 1107, 2079, 13510, 683, 6, 1533, 335, 7, 945, 805, 4613, 270, 335, 560, 341, 12579, 54, 14, 40, 3, 7011, 1210, 51803, 23289, 46, 6168, 3082, 5, 1378, 43807, 2375, 7376, 130, 6843, 31, 198, 218, 2196, 31, 0]\n"
     ]
    }
   ],
   "source": [
    "from nltk.tokenize import RegexpTokenizer\n",
    "import pymorphy2\n",
    "\n",
    "tokenizer = RegexpTokenizer(u'[а-яА-Яa-zA-Z]+')\n",
    "morph = pymorphy2.MorphAnalyzer()\n",
    "\n",
    "def text2seq(text):\n",
    "    tokens_norm = [morph.parse(w)[0].normal_form for w in tokenizer.tokenize(text)]\n",
    "    return [word2id[w] for w in tokens_norm if w in vocabulary] + [eos_id]\n",
    "\n",
    "sample = texts[49]\n",
    "\n",
    "print sample\n",
    "print u' '.join(tokenizer.tokenize(sample))\n",
    "print u' '.join([morph.parse(w)[0].normal_form for w in tokenizer.tokenize(sample)])\n",
    "print text2seq(sample)"
   ]
  },
  {
   "cell_type": "raw",
   "metadata": {},
   "source": [
    "# TODO: adding new words to vocabulary\n",
    "from fuzzywuzzy import fuzz\n",
    "metric = fuzz.ratio\n",
    "if word not in vocabulary:        \n",
    "    max_score = 0\n",
    "    closest_word = vocabulary[0]\n",
    "    for w in vocabulary:\n",
    "        score = metric(word, w)\n",
    "        if score > max_score:\n",
    "            max_score = score\n",
    "            closest_word = w\n",
    "    ..."
   ]
  },
  {
   "cell_type": "raw",
   "metadata": {},
   "source": [
    "%%time\n",
    "pool = multiprocessing.Pool()\n",
    "X = pool.map(text2seq, texts)"
   ]
  },
  {
   "cell_type": "markdown",
   "metadata": {},
   "source": [
    "Dumping"
   ]
  },
  {
   "cell_type": "raw",
   "metadata": {
    "collapsed": true
   },
   "source": [
    "cPickle.dump(X, open('../data/X_kinopoisk_train.pkl', 'wb'))"
   ]
  },
  {
   "cell_type": "markdown",
   "metadata": {},
   "source": [
    "Loading"
   ]
  },
  {
   "cell_type": "code",
   "execution_count": 8,
   "metadata": {
    "collapsed": true
   },
   "outputs": [],
   "source": [
    "X = cPickle.load(open('../data/X_kinopoisk_train.pkl', 'rb'))"
   ]
  },
  {
   "cell_type": "markdown",
   "metadata": {},
   "source": [
    "Distribution of sequences' lengths "
   ]
  },
  {
   "cell_type": "code",
   "execution_count": 20,
   "metadata": {},
   "outputs": [
    {
     "data": {
      "image/png": "[encoded data removed]",
      "text/plain": [
       "<matplotlib.figure.Figure at 0x7f16f0bd9d10>"
      ]
     },
     "metadata": {},
     "output_type": "display_data"
    }
   ],
   "source": [
    "length_max = max(map(len, X))\n",
    "plt.figure(figsize=(10,7))\n",
    "plt.hist(map(len, X), bins=80)\n",
    "plt.title(u\"Рецензии на фильмы\", fontsize=30)\n",
    "plt.xlim(0, 1024)\n",
    "plt.xlabel(u\"Кол-во слов в документе\", fontsize=30)\n",
    "plt.ylabel(u\"Кол-во документов\", fontsize=30)\n",
    "plt.tick_params(labelsize=20)\n",
    "plt.show()"
   ]
  },
  {
   "cell_type": "code",
   "execution_count": 13,
   "metadata": {},
   "outputs": [
    {
     "data": {
      "text/plain": [
       "291"
      ]
     },
     "execution_count": 13,
     "metadata": {},
     "output_type": "execute_result"
    }
   ],
   "source": [
    "sum(map(len, X)) / len(X)"
   ]
  },
  {
   "cell_type": "markdown",
   "metadata": {},
   "source": [
    "Drop samples with the length >= 1024"
   ]
  },
  {
   "cell_type": "code",
   "execution_count": 31,
   "metadata": {
    "collapsed": true
   },
   "outputs": [],
   "source": [
    "length_max = 1024\n",
    "y = kinopoisk_train.label.values\n",
    "y = y[np.array(map(len, X)) < length_max]\n",
    "X = [x for x in X if len(x) < length_max]"
   ]
  },
  {
   "cell_type": "markdown",
   "metadata": {},
   "source": [
    "### Zero padding"
   ]
  },
  {
   "cell_type": "code",
   "execution_count": 32,
   "metadata": {
    "collapsed": true
   },
   "outputs": [],
   "source": [
    "X = [x + [eos_id]*(length_max - len(x)) for x in X]"
   ]
  },
  {
   "cell_type": "markdown",
   "metadata": {},
   "source": [
    "### Examples"
   ]
  },
  {
   "cell_type": "code",
   "execution_count": 34,
   "metadata": {},
   "outputs": [
    {
     "name": "stdout",
     "output_type": "stream",
     "text": [
      "[799, 64, 102, 4, 12, 73, 137, 2096, 281, 67, 736, 2359, 4, 7, 663, 31, 57, 94, 139, 11, 51, 8137, 281, 506, 10224, 1, 9144, 8137, 16, 6134, 605, 113, 3, 2, 1330, 506, 14, 1236, 4, 80, 12, 1, 198, 36, 48, 31095, 1, 8400, 6981, 6, 47766, 4082, 2, 1714, 12, 103, 20511, 3, 9, 2205, 15693, 15, 3, 478, 644, 64, 8400, 17, 131, 46, 47766, 11199, 140, 2205, 8687, 3, 565, 71, 39, 31, 178, 506, 6, 26, 50, 8687, 78, 73, 36, 16, 1600, 9748, 5, 2375, 1, 60, 2, 39, 485, 135, 1416, 1403, 6888, 9294, 5, 4, 9294, 5, 30, 38, 4740, 335, 33, 67, 17, 57, 1, 49, 9294, 4, 38, 561, 9294, 5, 9294, 7, 48, 3, 2, 50, 1330, 45, 1, 14, 65, 61240, 1525, 2, 30, 5352, 50, 244, 69, 65, 335, 26177, 15630, 24, 4619, 263, 17, 88, 192, 76, 170, 191, 9, 256, 4, 12, 6401, 8, 69, 368, 9, 732, 29, 1394, 43, 3743, 2, 8882, 427, 109, 2345, 5, 39, 89, 40, 123, 4, 10, 3, 256, 107, 5068, 182, 1, 910, 6, 4211, 78, 1, 281, 1223, 36, 76, 344, 0, 0, 0, 0, 0, 0, 0, 0, 0, 0, 0, 0, 0, 0, 0, 0, 0, 0, 0, 0, 0, 0, 0, 0, 0, 0, 0, 0, 0, 0, 0, 0, 0, 0, 0, 0, 0, 0, 0, 0, 0, 0, 0, 0, 0, 0, 0, 0, 0, 0, 0, 0, 0, 0, 0, 0, 0, 0, 0, 0, 0, 0, 0, 0, 0, 0, 0, 0, 0, 0, 0, 0, 0, 0, 0, 0, 0, 0, 0, 0, 0, 0, 0, 0, 0, 0, 0, 0, 0, 0, 0, 0, 0, 0, 0, 0, 0, 0, 0, 0, 0, 0, 0, 0, 0, 0, 0, 0, 0, 0, 0, 0, 0, 0, 0, 0, 0, 0, 0, 0, 0, 0, 0, 0, 0, 0, 0, 0, 0, 0, 0, 0, 0, 0, 0, 0, 0, 0, 0, 0, 0, 0, 0, 0, 0, 0, 0, 0, 0, 0, 0, 0, 0, 0, 0, 0, 0, 0, 0, 0, 0, 0, 0, 0, 0, 0, 0, 0, 0, 0, 0, 0, 0, 0, 0, 0, 0, 0, 0, 0, 0, 0, 0, 0, 0, 0, 0, 0, 0, 0, 0, 0, 0, 0, 0, 0, 0, 0, 0, 0, 0, 0, 0, 0, 0, 0, 0, 0, 0, 0, 0, 0, 0, 0, 0, 0, 0, 0, 0, 0, 0, 0, 0, 0, 0, 0, 0, 0, 0, 0, 0, 0, 0, 0, 0, 0, 0, 0, 0, 0, 0, 0, 0, 0, 0, 0, 0, 0, 0, 0, 0, 0, 0, 0, 0, 0, 0, 0, 0, 0, 0, 0, 0, 0, 0, 0, 0, 0, 0, 0, 0, 0, 0, 0, 0, 0, 0, 0, 0, 0, 0, 0, 0, 0, 0, 0, 0, 0, 0, 0, 0, 0, 0, 0, 0, 0, 0, 0, 0, 0, 0, 0, 0, 0, 0, 0, 0, 0, 0, 0, 0, 0, 0, 0, 0, 0, 0, 0, 0, 0, 0, 0, 0, 0, 0, 0, 0, 0, 0, 0, 0, 0, 0, 0, 0, 0, 0, 0, 0, 0, 0, 0, 0, 0, 0, 0, 0, 0, 0, 0, 0, 0, 0, 0, 0, 0, 0, 0, 0, 0, 0, 0, 0, 0, 0, 0, 0, 0, 0, 0, 0, 0, 0, 0, 0, 0, 0, 0, 0, 0, 0, 0, 0, 0, 0, 0, 0, 0, 0, 0, 0, 0, 0, 0, 0, 0, 0, 0, 0, 0, 0, 0, 0, 0, 0, 0, 0, 0, 0, 0, 0, 0, 0, 0, 0, 0, 0, 0, 0, 0, 0, 0, 0, 0, 0, 0, 0, 0, 0, 0, 0, 0, 0, 0, 0, 0, 0, 0, 0, 0, 0, 0, 0, 0, 0, 0, 0, 0, 0, 0, 0, 0, 0, 0, 0, 0, 0, 0, 0, 0, 0, 0, 0, 0, 0, 0, 0, 0, 0, 0, 0, 0, 0, 0, 0, 0, 0, 0, 0, 0, 0, 0, 0, 0, 0, 0, 0, 0, 0, 0, 0, 0, 0, 0, 0, 0, 0, 0, 0, 0, 0, 0, 0, 0, 0, 0, 0, 0, 0, 0, 0, 0, 0, 0, 0, 0, 0, 0, 0, 0, 0, 0, 0, 0, 0, 0, 0, 0, 0, 0, 0, 0, 0, 0, 0, 0, 0, 0, 0, 0, 0, 0, 0, 0, 0, 0, 0, 0, 0, 0, 0, 0, 0, 0, 0, 0, 0, 0, 0, 0, 0, 0, 0, 0, 0, 0, 0, 0, 0, 0, 0, 0, 0, 0, 0, 0, 0, 0, 0, 0, 0, 0, 0, 0, 0, 0, 0, 0, 0, 0, 0, 0, 0, 0, 0, 0, 0, 0, 0, 0, 0, 0, 0, 0, 0, 0, 0, 0, 0, 0, 0, 0, 0, 0, 0, 0, 0, 0, 0, 0, 0, 0, 0, 0, 0, 0, 0, 0, 0, 0, 0, 0, 0, 0, 0, 0, 0, 0, 0, 0, 0, 0, 0, 0, 0, 0, 0, 0, 0, 0, 0, 0, 0, 0, 0, 0, 0, 0, 0, 0, 0, 0, 0, 0, 0, 0, 0, 0, 0, 0, 0, 0, 0, 0, 0, 0, 0, 0, 0, 0, 0, 0, 0, 0, 0, 0, 0, 0, 0, 0, 0, 0, 0, 0, 0, 0, 0, 0, 0, 0, 0, 0, 0, 0, 0, 0, 0, 0, 0, 0, 0, 0, 0, 0, 0, 0, 0, 0, 0, 0, 0, 0, 0, 0, 0, 0, 0, 0, 0, 0, 0, 0, 0, 0, 0, 0, 0, 0, 0, 0, 0, 0, 0, 0, 0, 0, 0, 0, 0, 0, 0, 0, 0, 0, 0, 0, 0, 0, 0, 0, 0, 0, 0, 0, 0, 0, 0, 0, 0, 0, 0, 0, 0, 0, 0, 0, 0, 0, 0, 0, 0, 0, 0, 0, 0, 0, 0, 0, 0, 0, 0, 0, 0, 0, 0, 0, 0, 0, 0, 0, 0, 0, 0, 0, 0, 0, 0, 0, 0, 0, 0, 0, 0, 0, 0, 0, 0, 0, 0, 0, 0, 0, 0, 0, 0, 0]\n"
     ]
    }
   ],
   "source": [
    "print X[0]"
   ]
  },
  {
   "cell_type": "markdown",
   "metadata": {},
   "source": [
    "### Split into train and validation sets"
   ]
  },
  {
   "cell_type": "code",
   "execution_count": 35,
   "metadata": {
    "collapsed": true
   },
   "outputs": [],
   "source": [
    "X = np.array(X)"
   ]
  },
  {
   "cell_type": "code",
   "execution_count": 36,
   "metadata": {
    "collapsed": true
   },
   "outputs": [],
   "source": [
    "def cls2probs(cls):\n",
    "    if cls == -1:\n",
    "        return [1.,0.,0.]\n",
    "    elif cls == 0:\n",
    "        return [0.,1.,0.]\n",
    "    else:\n",
    "        return [0.,0.,1.]\n",
    "y = np.array([cls2probs(cls) for cls in y])"
   ]
  },
  {
   "cell_type": "code",
   "execution_count": 37,
   "metadata": {
    "collapsed": true
   },
   "outputs": [],
   "source": [
    "from sklearn.model_selection import train_test_split\n",
    "\n",
    "TEST_SIZE = 0.1\n",
    "\n",
    "X_tr, X_val, y_tr, y_val = train_test_split(X, y, test_size=TEST_SIZE, random_state=42)"
   ]
  },
  {
   "cell_type": "raw",
   "metadata": {},
   "source": [
    "# To use if y is one-dimensional array\n",
    "from collections import Counter\n",
    "\n",
    "print Counter(y_tr)\n",
    "print Counter(y_val)"
   ]
  },
  {
   "cell_type": "code",
   "execution_count": 49,
   "metadata": {},
   "outputs": [
    {
     "name": "stdout",
     "output_type": "stream",
     "text": [
      "Train class frequencies:\t[3426, 3250, 19460]\n",
      "Validation class frequencies:\t[326, 374, 2205]\n",
      "Constant classifier's validation accuracy:\t0.759036144578\n"
     ]
    }
   ],
   "source": [
    "print \"Train class frequencies:\\t\", [col.nonzero()[0].shape[0] for col in y_tr.transpose()]\n",
    "print \"Validation class frequencies:\\t\", [col.nonzero()[0].shape[0] for col in y_val.transpose()]\n",
    "print \"Constant classifier's validation accuracy:\\t\", [col.nonzero()[0].shape[0] for col in y_val.transpose()][2] * 1. / y_val.shape[0]"
   ]
  },
  {
   "cell_type": "markdown",
   "metadata": {},
   "source": [
    "### Resampling"
   ]
  },
  {
   "cell_type": "raw",
   "metadata": {
    "collapsed": true
   },
   "source": [
    "# from imblearn.under_sampling import RandomUnderSampler\n",
    "# rus = RandomUnderSampler()\n",
    "# _y = np.argmax(y_tr, 1) - 1\n",
    "# X_resampled, y_resampled = rus.fit_sample(X_tr, _y)\n",
    "# y_resampled = np.array([cls2probs(cls) for cls in y_resampled])\n",
    "\n",
    "neutral_indices = np.random.choice(np.nonzero(y_tr[:,1])[0], np.nonzero(y_tr[:,0])[0].shape[0], replace=False)\n",
    "negative_indices = np.nonzero(y_tr[:,0])[0]\n",
    "positive_indices = np.nonzero(y_tr[:,2])[0]\n",
    "\n",
    "X_resampled = X_tr[np.concatenate([negative_indices, neutral_indices, positive_indices])]\n",
    "y_resampled = y_tr[np.concatenate([negative_indices, neutral_indices, positive_indices])]"
   ]
  },
  {
   "cell_type": "markdown",
   "metadata": {},
   "source": [
    "# Network learning"
   ]
  },
  {
   "cell_type": "code",
   "execution_count": 39,
   "metadata": {
    "collapsed": true
   },
   "outputs": [],
   "source": [
    "import tensorflow as tf\n",
    "from tensorflow.contrib.rnn import GRUCell\n",
    "from tensorflow.python.ops.rnn import bidirectional_dynamic_rnn as bi_rnn\n",
    "from tensorflow.contrib.layers import fully_connected\n",
    "\n",
    "from utils import *"
   ]
  },
  {
   "cell_type": "code",
   "execution_count": 50,
   "metadata": {},
   "outputs": [
    {
     "name": "stdout",
     "output_type": "stream",
     "text": [
      "Constant classifier's macro-averaged F-score on validation set: 0.287671232877\n",
      "Constant classifier's micro-averaged F-score on validation set: 0.759036144578\n"
     ]
    }
   ],
   "source": [
    "from sklearn.metrics import f1_score\n",
    "f_macro = lambda y1, y2: f1_score(y1, y2, average=\"macro\")\n",
    "f_micro = lambda y1, y2: f1_score(y1, y2, average=\"micro\")\n",
    "\n",
    "y_pred_major = np.zeros(y_val.shape)\n",
    "y_pred_major[:,2] = 1.\n",
    "print \"Constant classifier's macro-averaged F-score on validation set:\", f_macro(y_val, y_pred_major)\n",
    "print \"Constant classifier's micro-averaged F-score on validation set:\", f_micro(y_val, y_pred_major)"
   ]
  },
  {
   "cell_type": "markdown",
   "metadata": {},
   "source": [
    "### Bi-RNN"
   ]
  },
  {
   "cell_type": "code",
   "execution_count": 52,
   "metadata": {
    "collapsed": true,
    "scrolled": true
   },
   "outputs": [],
   "source": [
    "EMBED_DIM = 300\n",
    "HIDDEN_SIZE = 100\n",
    "NUM_CLASSES = 3\n",
    "\n",
    "tf.reset_default_graph()\n",
    "\n",
    "batch_ph   = tf.placeholder(tf.int32, [None, None])\n",
    "target_ph  = tf.placeholder(tf.float32, [None, NUM_CLASSES])\n",
    "seq_len_ph = tf.placeholder(tf.int32, [None])\n",
    "keep_prob_ph = tf.placeholder(tf.float32)\n",
    "\n",
    "embeddings_ph = tf.placeholder(tf.float32, [len(vocabulary), EMBED_DIM])\n",
    "embeddings_var = tf.Variable(tf.constant(0., shape=[len(vocabulary), EMBED_DIM]), trainable=False)\n",
    "init_embeddings = embeddings_var.assign(embeddings_ph)\n",
    "batch_embedded = tf.nn.embedding_lookup(embeddings_var, batch_ph)\n",
    "    \n",
    "# Bi-RNN layers\n",
    "outputs,_ = bi_rnn(GRUCell(HIDDEN_SIZE), GRUCell(HIDDEN_SIZE),\n",
    "                   inputs=batch_embedded,sequence_length=seq_len_ph, dtype=tf.float32, scope=\"bi_rnn1\")  \n",
    "outputs = tf.concat(outputs, 2)\n",
    "# outputs,_ = bi_rnn(GRUCell(HIDDEN_SIZE), GRUCell(HIDDEN_SIZE),\n",
    "#                          inputs=outputs,sequence_length=seq_len_ph, dtype=tf.float32, scope=\"bi_rnn2\")\n",
    "# outputs = tf.concat(outputs, 2)\n",
    "\n",
    "# Last output of Bi-RNN\n",
    "output = outputs[:,0,:]\n",
    "\n",
    "# Dropout\n",
    "drop = tf.nn.dropout(output, keep_prob_ph)\n",
    "\n",
    "# Fully connected layer\n",
    "W = tf.Variable(tf.truncated_normal([HIDDEN_SIZE * 2, NUM_CLASSES], stddev=0.1), name=\"W\")\n",
    "b = tf.Variable(tf.constant(0., shape=[NUM_CLASSES]), name=\"b\")\n",
    "y_hat = tf.nn.xw_plus_b(drop, W, b, name=\"scores\")"
   ]
  },
  {
   "cell_type": "code",
   "execution_count": 53,
   "metadata": {
    "collapsed": true
   },
   "outputs": [],
   "source": [
    "# Adam parameters\n",
    "LEARNING_RATE = 0.008\n",
    "EPSILON = 1e-5\n",
    "BETA1 = 0.9\n",
    "BETA2 = 0.9\n",
    "# L2 regularization coefficient\n",
    "BETA = 0\n",
    "\n",
    "cross_entropy = tf.reduce_mean(tf.nn.softmax_cross_entropy_with_logits(logits=y_hat, labels=target_ph),\n",
    "                               name=\"cross_entropy\")\n",
    "l2_loss = tf.nn.l2_loss(W, name=\"l2_loss\")\n",
    "loss = cross_entropy + l2_loss * BETA\n",
    "optimizer = tf.train.AdamOptimizer(learning_rate=LEARNING_RATE, beta1=BETA1, beta2=BETA2,\n",
    "                                   epsilon=EPSILON).minimize(loss)\n",
    "# optimizer = tf.train.MomentumOptimizer(learning_rate=1e-1, momentum=0.1).minimize(loss)\n",
    "accuracy = tf.reduce_mean(tf.cast(tf.equal(tf.argmax(target_ph, 1), tf.argmax(y_hat, 1)), tf.float32))"
   ]
  },
  {
   "cell_type": "code",
   "execution_count": 54,
   "metadata": {},
   "outputs": [
    {
     "name": "stdout",
     "output_type": "stream",
     "text": [
      "Start learning...\n"
     ]
    },
    {
     "ename": "KeyboardInterrupt",
     "evalue": "",
     "output_type": "error",
     "traceback": [
      "\u001b[0;31m---------------------------------------------------------------------------\u001b[0m",
      "\u001b[0;31mKeyboardInterrupt\u001b[0m                         Traceback (most recent call last)",
      "\u001b[0;32m<ipython-input-54-83470d8b8889>\u001b[0m in \u001b[0;36m<module>\u001b[0;34m()\u001b[0m\n\u001b[0;32m----> 1\u001b[0;31m \u001b[0mget_ipython\u001b[0m\u001b[0;34m(\u001b[0m\u001b[0;34m)\u001b[0m\u001b[0;34m.\u001b[0m\u001b[0mrun_cell_magic\u001b[0m\u001b[0;34m(\u001b[0m\u001b[0;34mu'time'\u001b[0m\u001b[0;34m,\u001b[0m \u001b[0;34mu''\u001b[0m\u001b[0;34m,\u001b[0m \u001b[0;34mu'\\nDROPOUT = 0.5  # Probability of keeping a neuron\\nBATCH_SIZE = 256\\nEPOCHS = 10\\n\\ntrain_batch_generator = batch_generator(X_tr, y_tr, BATCH_SIZE)\\n\\nloss_tr_l = []\\nloss_val_l = []\\nce_tr_l = []  # Cross-entropy\\nce_val_l = []\\nacc_tr_l = []  # Accuracy\\nacc_val_l = []\\nf_macro_tr_l = []\\nf_macro_val_l = []\\nf_fair_tr_l = []\\nf_fair_val_l = []\\n\\nwith tf.Session() as sess:\\n    sess.run(tf.global_variables_initializer())\\n    sess.run(init_embeddings, feed_dict={embeddings_ph: embeddings})\\n    print \"Start learning...\"\\n    for epoch in range(EPOCHS):\\n        for i in range(int(X_tr.shape[0] / BATCH_SIZE)):\\n            x_batch, y_batch = train_batch_generator.next()\\n            seq_len_tr = np.array([list(x).index(eos_id) + 1 for x in x_batch])\\n            sess.run(optimizer, feed_dict={batch_ph: x_batch, target_ph: y_batch,\\n                                           seq_len_ph: seq_len_tr, keep_prob_ph: DROPOUT})\\n\\n        y_pred_tr, ce_tr, loss_tr, acc_tr = sess.run([y_hat, cross_entropy, loss, accuracy],\\n                                              feed_dict={batch_ph: x_batch, target_ph: y_batch, \\n                                                         seq_len_ph: seq_len_tr, keep_prob_ph: 1.0})\\n\\n        y_pred_val, ce_val, loss_val, acc_val = [], 0, 0, 0\\n        num_val_batches = X_val.shape[0] / BATCH_SIZE\\n        for i in range(num_val_batches):\\n            x_batch_val, y_batch_val = X_val[i * BATCH_SIZE : (i + 1) * BATCH_SIZE],\\\\\\n                                       y_val[i * BATCH_SIZE : (i + 1) * BATCH_SIZE]\\n            seq_len_val = np.array([list(x).index(eos_id) + 1 for x in x_batch_val])\\n            y_pred_val_, ce_val_, loss_val_, acc_val_ = sess.run([y_hat, cross_entropy, loss, accuracy],\\n                                                         feed_dict={batch_ph: x_batch_val, target_ph: y_batch_val,\\n                                                                    seq_len_ph: seq_len_val, keep_prob_ph: 1.0})\\n            y_pred_val += list(y_pred_val_)\\n            ce_val += ce_val_\\n            loss_val += loss_val_\\n            acc_val += acc_val_\\n\\n        y_pred_val = np.array(y_pred_val)\\n        ce_val /= num_val_batches\\n        loss_val /= num_val_batches\\n        acc_val /= num_val_batches\\n\\n        y_pred_tr = np.array([cls2probs(cls) for cls in np.argmax(y_pred_tr, 1) - 1])\\n        y_pred_val = np.array([cls2probs(cls) for cls in np.argmax(y_pred_val, 1) - 1])\\n        f_macro_tr, f_micro_tr = f_macro(y_batch, y_pred_tr), f_micro(y_batch, y_pred_tr)\\n        f_macro_val, f_micro_val = f_macro(y_val[:num_val_batches * BATCH_SIZE], y_pred_val),\\\\\\n                                   f_micro(y_val[:num_val_batches * BATCH_SIZE], y_pred_val)\\n\\n\\n        loss_tr_l.append(loss_tr)\\n        loss_val_l.append(loss_val)\\n        ce_tr_l.append(ce_tr)\\n        ce_val_l.append(ce_val)\\n        acc_tr_l.append(acc_tr)\\n        acc_val_l.append(acc_val)\\n        f_macro_tr_l.append(f_macro_tr)\\n        f_macro_val_l.append(f_macro_val)\\n\\n        clear_output(wait=True)\\n        print \"epoch: {}\".format(epoch)\\n        print \"\\\\t Train loss: {:.3f}\\\\t ce: {:.3f}\\\\t acc: {:.3f}\\\\t f_macro: {:.3f}\".format(\\n            loss_tr, ce_tr, acc_tr, f_macro_tr)\\n        print \"\\\\t Valid loss: {:.3f}\\\\t ce: {:.3f}\\\\t acc: {:.3f}\\\\t f_macro: {:.3f}\".format(\\n            loss_val, ce_val, acc_val, f_macro_val)\\n\\n        plt.figure(figsize=(15,10))\\n        plt.plot(ce_tr_l, color=\\'blue\\', label=\\'ce_tr\\')\\n        plt.plot(ce_val_l, color=\\'red\\', label=\\'ce_val\\')        \\n        plt.plot(f_macro_val_l, color=\\'green\\', label=\\'f_macro_val\\')\\n        plt.xlim(0, EPOCHS - 1)\\n        plt.ylim(0, 1)\\n        plt.legend()\\n        plt.show()\\n\\nprint max(acc_val_l), max(f_macro_val_l)'\u001b[0m\u001b[0;34m)\u001b[0m\u001b[0;34m\u001b[0m\u001b[0m\n\u001b[0m",
      "\u001b[0;32m/home/ilivans/.virtualenvs/cmn/local/lib/python2.7/site-packages/IPython/core/interactiveshell.pyc\u001b[0m in \u001b[0;36mrun_cell_magic\u001b[0;34m(self, magic_name, line, cell)\u001b[0m\n\u001b[1;32m   2113\u001b[0m             \u001b[0mmagic_arg_s\u001b[0m \u001b[0;34m=\u001b[0m \u001b[0mself\u001b[0m\u001b[0;34m.\u001b[0m\u001b[0mvar_expand\u001b[0m\u001b[0;34m(\u001b[0m\u001b[0mline\u001b[0m\u001b[0;34m,\u001b[0m \u001b[0mstack_depth\u001b[0m\u001b[0;34m)\u001b[0m\u001b[0;34m\u001b[0m\u001b[0m\n\u001b[1;32m   2114\u001b[0m             \u001b[0;32mwith\u001b[0m \u001b[0mself\u001b[0m\u001b[0;34m.\u001b[0m\u001b[0mbuiltin_trap\u001b[0m\u001b[0;34m:\u001b[0m\u001b[0;34m\u001b[0m\u001b[0m\n\u001b[0;32m-> 2115\u001b[0;31m                 \u001b[0mresult\u001b[0m \u001b[0;34m=\u001b[0m \u001b[0mfn\u001b[0m\u001b[0;34m(\u001b[0m\u001b[0mmagic_arg_s\u001b[0m\u001b[0;34m,\u001b[0m \u001b[0mcell\u001b[0m\u001b[0;34m)\u001b[0m\u001b[0;34m\u001b[0m\u001b[0m\n\u001b[0m\u001b[1;32m   2116\u001b[0m             \u001b[0;32mreturn\u001b[0m \u001b[0mresult\u001b[0m\u001b[0;34m\u001b[0m\u001b[0m\n\u001b[1;32m   2117\u001b[0m \u001b[0;34m\u001b[0m\u001b[0m\n",
      "\u001b[0;32m<decorator-gen-59>\u001b[0m in \u001b[0;36mtime\u001b[0;34m(self, line, cell, local_ns)\u001b[0m\n",
      "\u001b[0;32m/home/ilivans/.virtualenvs/cmn/local/lib/python2.7/site-packages/IPython/core/magic.pyc\u001b[0m in \u001b[0;36m<lambda>\u001b[0;34m(f, *a, **k)\u001b[0m\n\u001b[1;32m    186\u001b[0m     \u001b[0;31m# but it's overkill for just that one bit of state.\u001b[0m\u001b[0;34m\u001b[0m\u001b[0;34m\u001b[0m\u001b[0m\n\u001b[1;32m    187\u001b[0m     \u001b[0;32mdef\u001b[0m \u001b[0mmagic_deco\u001b[0m\u001b[0;34m(\u001b[0m\u001b[0marg\u001b[0m\u001b[0;34m)\u001b[0m\u001b[0;34m:\u001b[0m\u001b[0;34m\u001b[0m\u001b[0m\n\u001b[0;32m--> 188\u001b[0;31m         \u001b[0mcall\u001b[0m \u001b[0;34m=\u001b[0m \u001b[0;32mlambda\u001b[0m \u001b[0mf\u001b[0m\u001b[0;34m,\u001b[0m \u001b[0;34m*\u001b[0m\u001b[0ma\u001b[0m\u001b[0;34m,\u001b[0m \u001b[0;34m**\u001b[0m\u001b[0mk\u001b[0m\u001b[0;34m:\u001b[0m \u001b[0mf\u001b[0m\u001b[0;34m(\u001b[0m\u001b[0;34m*\u001b[0m\u001b[0ma\u001b[0m\u001b[0;34m,\u001b[0m \u001b[0;34m**\u001b[0m\u001b[0mk\u001b[0m\u001b[0;34m)\u001b[0m\u001b[0;34m\u001b[0m\u001b[0m\n\u001b[0m\u001b[1;32m    189\u001b[0m \u001b[0;34m\u001b[0m\u001b[0m\n\u001b[1;32m    190\u001b[0m         \u001b[0;32mif\u001b[0m \u001b[0mcallable\u001b[0m\u001b[0;34m(\u001b[0m\u001b[0marg\u001b[0m\u001b[0;34m)\u001b[0m\u001b[0;34m:\u001b[0m\u001b[0;34m\u001b[0m\u001b[0m\n",
      "\u001b[0;32m/home/ilivans/.virtualenvs/cmn/local/lib/python2.7/site-packages/IPython/core/magics/execution.pyc\u001b[0m in \u001b[0;36mtime\u001b[0;34m(self, line, cell, local_ns)\u001b[0m\n\u001b[1;32m   1183\u001b[0m         \u001b[0;32melse\u001b[0m\u001b[0;34m:\u001b[0m\u001b[0;34m\u001b[0m\u001b[0m\n\u001b[1;32m   1184\u001b[0m             \u001b[0mst\u001b[0m \u001b[0;34m=\u001b[0m \u001b[0mclock2\u001b[0m\u001b[0;34m(\u001b[0m\u001b[0;34m)\u001b[0m\u001b[0;34m\u001b[0m\u001b[0m\n\u001b[0;32m-> 1185\u001b[0;31m             \u001b[0;32mexec\u001b[0m\u001b[0;34m(\u001b[0m\u001b[0mcode\u001b[0m\u001b[0;34m,\u001b[0m \u001b[0mglob\u001b[0m\u001b[0;34m,\u001b[0m \u001b[0mlocal_ns\u001b[0m\u001b[0;34m)\u001b[0m\u001b[0;34m\u001b[0m\u001b[0m\n\u001b[0m\u001b[1;32m   1186\u001b[0m             \u001b[0mend\u001b[0m \u001b[0;34m=\u001b[0m \u001b[0mclock2\u001b[0m\u001b[0;34m(\u001b[0m\u001b[0;34m)\u001b[0m\u001b[0;34m\u001b[0m\u001b[0m\n\u001b[1;32m   1187\u001b[0m             \u001b[0mout\u001b[0m \u001b[0;34m=\u001b[0m \u001b[0mNone\u001b[0m\u001b[0;34m\u001b[0m\u001b[0m\n",
      "\u001b[0;32m<timed exec>\u001b[0m in \u001b[0;36m<module>\u001b[0;34m()\u001b[0m\n",
      "\u001b[0;32m/home/ilivans/.virtualenvs/cmn/local/lib/python2.7/site-packages/tensorflow/python/client/session.pyc\u001b[0m in \u001b[0;36mrun\u001b[0;34m(self, fetches, feed_dict, options, run_metadata)\u001b[0m\n\u001b[1;32m    776\u001b[0m     \u001b[0;32mtry\u001b[0m\u001b[0;34m:\u001b[0m\u001b[0;34m\u001b[0m\u001b[0m\n\u001b[1;32m    777\u001b[0m       result = self._run(None, fetches, feed_dict, options_ptr,\n\u001b[0;32m--> 778\u001b[0;31m                          run_metadata_ptr)\n\u001b[0m\u001b[1;32m    779\u001b[0m       \u001b[0;32mif\u001b[0m \u001b[0mrun_metadata\u001b[0m\u001b[0;34m:\u001b[0m\u001b[0;34m\u001b[0m\u001b[0m\n\u001b[1;32m    780\u001b[0m         \u001b[0mproto_data\u001b[0m \u001b[0;34m=\u001b[0m \u001b[0mtf_session\u001b[0m\u001b[0;34m.\u001b[0m\u001b[0mTF_GetBuffer\u001b[0m\u001b[0;34m(\u001b[0m\u001b[0mrun_metadata_ptr\u001b[0m\u001b[0;34m)\u001b[0m\u001b[0;34m\u001b[0m\u001b[0m\n",
      "\u001b[0;32m/home/ilivans/.virtualenvs/cmn/local/lib/python2.7/site-packages/tensorflow/python/client/session.pyc\u001b[0m in \u001b[0;36m_run\u001b[0;34m(self, handle, fetches, feed_dict, options, run_metadata)\u001b[0m\n\u001b[1;32m    980\u001b[0m     \u001b[0;32mif\u001b[0m \u001b[0mfinal_fetches\u001b[0m \u001b[0;32mor\u001b[0m \u001b[0mfinal_targets\u001b[0m\u001b[0;34m:\u001b[0m\u001b[0;34m\u001b[0m\u001b[0m\n\u001b[1;32m    981\u001b[0m       results = self._do_run(handle, final_targets, final_fetches,\n\u001b[0;32m--> 982\u001b[0;31m                              feed_dict_string, options, run_metadata)\n\u001b[0m\u001b[1;32m    983\u001b[0m     \u001b[0;32melse\u001b[0m\u001b[0;34m:\u001b[0m\u001b[0;34m\u001b[0m\u001b[0m\n\u001b[1;32m    984\u001b[0m       \u001b[0mresults\u001b[0m \u001b[0;34m=\u001b[0m \u001b[0;34m[\u001b[0m\u001b[0;34m]\u001b[0m\u001b[0;34m\u001b[0m\u001b[0m\n",
      "\u001b[0;32m/home/ilivans/.virtualenvs/cmn/local/lib/python2.7/site-packages/tensorflow/python/client/session.pyc\u001b[0m in \u001b[0;36m_do_run\u001b[0;34m(self, handle, target_list, fetch_list, feed_dict, options, run_metadata)\u001b[0m\n\u001b[1;32m   1030\u001b[0m     \u001b[0;32mif\u001b[0m \u001b[0mhandle\u001b[0m \u001b[0;32mis\u001b[0m \u001b[0mNone\u001b[0m\u001b[0;34m:\u001b[0m\u001b[0;34m\u001b[0m\u001b[0m\n\u001b[1;32m   1031\u001b[0m       return self._do_call(_run_fn, self._session, feed_dict, fetch_list,\n\u001b[0;32m-> 1032\u001b[0;31m                            target_list, options, run_metadata)\n\u001b[0m\u001b[1;32m   1033\u001b[0m     \u001b[0;32melse\u001b[0m\u001b[0;34m:\u001b[0m\u001b[0;34m\u001b[0m\u001b[0m\n\u001b[1;32m   1034\u001b[0m       return self._do_call(_prun_fn, self._session, handle, feed_dict,\n",
      "\u001b[0;32m/home/ilivans/.virtualenvs/cmn/local/lib/python2.7/site-packages/tensorflow/python/client/session.pyc\u001b[0m in \u001b[0;36m_do_call\u001b[0;34m(self, fn, *args)\u001b[0m\n\u001b[1;32m   1037\u001b[0m   \u001b[0;32mdef\u001b[0m \u001b[0m_do_call\u001b[0m\u001b[0;34m(\u001b[0m\u001b[0mself\u001b[0m\u001b[0;34m,\u001b[0m \u001b[0mfn\u001b[0m\u001b[0;34m,\u001b[0m \u001b[0;34m*\u001b[0m\u001b[0margs\u001b[0m\u001b[0;34m)\u001b[0m\u001b[0;34m:\u001b[0m\u001b[0;34m\u001b[0m\u001b[0m\n\u001b[1;32m   1038\u001b[0m     \u001b[0;32mtry\u001b[0m\u001b[0;34m:\u001b[0m\u001b[0;34m\u001b[0m\u001b[0m\n\u001b[0;32m-> 1039\u001b[0;31m       \u001b[0;32mreturn\u001b[0m \u001b[0mfn\u001b[0m\u001b[0;34m(\u001b[0m\u001b[0;34m*\u001b[0m\u001b[0margs\u001b[0m\u001b[0;34m)\u001b[0m\u001b[0;34m\u001b[0m\u001b[0m\n\u001b[0m\u001b[1;32m   1040\u001b[0m     \u001b[0;32mexcept\u001b[0m \u001b[0merrors\u001b[0m\u001b[0;34m.\u001b[0m\u001b[0mOpError\u001b[0m \u001b[0;32mas\u001b[0m \u001b[0me\u001b[0m\u001b[0;34m:\u001b[0m\u001b[0;34m\u001b[0m\u001b[0m\n\u001b[1;32m   1041\u001b[0m       \u001b[0mmessage\u001b[0m \u001b[0;34m=\u001b[0m \u001b[0mcompat\u001b[0m\u001b[0;34m.\u001b[0m\u001b[0mas_text\u001b[0m\u001b[0;34m(\u001b[0m\u001b[0me\u001b[0m\u001b[0;34m.\u001b[0m\u001b[0mmessage\u001b[0m\u001b[0;34m)\u001b[0m\u001b[0;34m\u001b[0m\u001b[0m\n",
      "\u001b[0;32m/home/ilivans/.virtualenvs/cmn/local/lib/python2.7/site-packages/tensorflow/python/client/session.pyc\u001b[0m in \u001b[0;36m_run_fn\u001b[0;34m(session, feed_dict, fetch_list, target_list, options, run_metadata)\u001b[0m\n\u001b[1;32m   1019\u001b[0m         return tf_session.TF_Run(session, options,\n\u001b[1;32m   1020\u001b[0m                                  \u001b[0mfeed_dict\u001b[0m\u001b[0;34m,\u001b[0m \u001b[0mfetch_list\u001b[0m\u001b[0;34m,\u001b[0m \u001b[0mtarget_list\u001b[0m\u001b[0;34m,\u001b[0m\u001b[0;34m\u001b[0m\u001b[0m\n\u001b[0;32m-> 1021\u001b[0;31m                                  status, run_metadata)\n\u001b[0m\u001b[1;32m   1022\u001b[0m \u001b[0;34m\u001b[0m\u001b[0m\n\u001b[1;32m   1023\u001b[0m     \u001b[0;32mdef\u001b[0m \u001b[0m_prun_fn\u001b[0m\u001b[0;34m(\u001b[0m\u001b[0msession\u001b[0m\u001b[0;34m,\u001b[0m \u001b[0mhandle\u001b[0m\u001b[0;34m,\u001b[0m \u001b[0mfeed_dict\u001b[0m\u001b[0;34m,\u001b[0m \u001b[0mfetch_list\u001b[0m\u001b[0;34m)\u001b[0m\u001b[0;34m:\u001b[0m\u001b[0;34m\u001b[0m\u001b[0m\n",
      "\u001b[0;31mKeyboardInterrupt\u001b[0m: "
     ]
    }
   ],
   "source": [
    "%%time\n",
    "\n",
    "DROPOUT = 0.5  # Probability of keeping a neuron\n",
    "BATCH_SIZE = 256\n",
    "EPOCHS = 10\n",
    "\n",
    "train_batch_generator = batch_generator(X_tr, y_tr, BATCH_SIZE)\n",
    "\n",
    "loss_tr_l = []\n",
    "loss_val_l = []\n",
    "ce_tr_l = []  # Cross-entropy\n",
    "ce_val_l = []\n",
    "acc_tr_l = []  # Accuracy\n",
    "acc_val_l = []\n",
    "f_macro_tr_l = []\n",
    "f_macro_val_l = []\n",
    "f_fair_tr_l = []\n",
    "f_fair_val_l = []\n",
    "\n",
    "with tf.Session() as sess:\n",
    "    sess.run(tf.global_variables_initializer())\n",
    "    sess.run(init_embeddings, feed_dict={embeddings_ph: embeddings})\n",
    "    print \"Start learning...\"\n",
    "    for epoch in range(EPOCHS):\n",
    "        for i in range(int(X_tr.shape[0] / BATCH_SIZE)):\n",
    "            x_batch, y_batch = train_batch_generator.next()\n",
    "            seq_len_tr = np.array([list(x).index(eos_id) + 1 for x in x_batch])\n",
    "            sess.run(optimizer, feed_dict={batch_ph: x_batch, target_ph: y_batch,\n",
    "                                           seq_len_ph: seq_len_tr, keep_prob_ph: DROPOUT})\n",
    "\n",
    "        y_pred_tr, ce_tr, loss_tr, acc_tr = sess.run([y_hat, cross_entropy, loss, accuracy],\n",
    "                                              feed_dict={batch_ph: x_batch, target_ph: y_batch, \n",
    "                                                         seq_len_ph: seq_len_tr, keep_prob_ph: 1.0})\n",
    "\n",
    "        y_pred_val, ce_val, loss_val, acc_val = [], 0, 0, 0\n",
    "        num_val_batches = X_val.shape[0] / BATCH_SIZE\n",
    "        for i in range(num_val_batches):\n",
    "            x_batch_val, y_batch_val = X_val[i * BATCH_SIZE : (i + 1) * BATCH_SIZE],\\\n",
    "                                       y_val[i * BATCH_SIZE : (i + 1) * BATCH_SIZE]\n",
    "            seq_len_val = np.array([list(x).index(eos_id) + 1 for x in x_batch_val])\n",
    "            y_pred_val_, ce_val_, loss_val_, acc_val_ = sess.run([y_hat, cross_entropy, loss, accuracy],\n",
    "                                                         feed_dict={batch_ph: x_batch_val, target_ph: y_batch_val,\n",
    "                                                                    seq_len_ph: seq_len_val, keep_prob_ph: 1.0})\n",
    "            y_pred_val += list(y_pred_val_)\n",
    "            ce_val += ce_val_\n",
    "            loss_val += loss_val_\n",
    "            acc_val += acc_val_\n",
    "\n",
    "        y_pred_val = np.array(y_pred_val)\n",
    "        ce_val /= num_val_batches\n",
    "        loss_val /= num_val_batches\n",
    "        acc_val /= num_val_batches\n",
    "\n",
    "        y_pred_tr = np.array([cls2probs(cls) for cls in np.argmax(y_pred_tr, 1) - 1])\n",
    "        y_pred_val = np.array([cls2probs(cls) for cls in np.argmax(y_pred_val, 1) - 1])\n",
    "        f_macro_tr, f_micro_tr = f_macro(y_batch, y_pred_tr), f_micro(y_batch, y_pred_tr)\n",
    "        f_macro_val, f_micro_val = f_macro(y_val[:num_val_batches * BATCH_SIZE], y_pred_val),\\\n",
    "                                   f_micro(y_val[:num_val_batches * BATCH_SIZE], y_pred_val)\n",
    "\n",
    "\n",
    "        loss_tr_l.append(loss_tr)\n",
    "        loss_val_l.append(loss_val)\n",
    "        ce_tr_l.append(ce_tr)\n",
    "        ce_val_l.append(ce_val)\n",
    "        acc_tr_l.append(acc_tr)\n",
    "        acc_val_l.append(acc_val)\n",
    "        f_macro_tr_l.append(f_macro_tr)\n",
    "        f_macro_val_l.append(f_macro_val)\n",
    "\n",
    "        clear_output(wait=True)\n",
    "        print \"epoch: {}\".format(epoch)\n",
    "        print \"\\t Train loss: {:.3f}\\t ce: {:.3f}\\t acc: {:.3f}\\t f_macro: {:.3f}\".format(\n",
    "            loss_tr, ce_tr, acc_tr, f_macro_tr)\n",
    "        print \"\\t Valid loss: {:.3f}\\t ce: {:.3f}\\t acc: {:.3f}\\t f_macro: {:.3f}\".format(\n",
    "            loss_val, ce_val, acc_val, f_macro_val)\n",
    "\n",
    "        plt.figure(figsize=(15,10))\n",
    "        plt.plot(ce_tr_l, color='blue', label='ce_tr')\n",
    "        plt.plot(ce_val_l, color='red', label='ce_val')        \n",
    "        plt.plot(f_macro_val_l, color='green', label='f_macro_val')\n",
    "        plt.xlim(0, EPOCHS - 1)\n",
    "        plt.ylim(0, 1)\n",
    "        plt.legend()\n",
    "        plt.show()\n",
    "\n",
    "print max(acc_val_l), max(f_macro_val_l)"
   ]
  },
  {
   "cell_type": "markdown",
   "metadata": {},
   "source": [
    "---"
   ]
  },
  {
   "cell_type": "code",
   "execution_count": 21,
   "metadata": {},
   "outputs": [
    {
     "name": "stdout",
     "output_type": "stream",
     "text": [
      "epoch: 9\n",
      "\t Train loss: 0.143\t ce: 0.143\t acc: 0.949\t f_macro: 0.926\n",
      "\t Valid loss: 0.232\t ce: 0.232\t acc: 0.901\t f_macro: 0.859\n"
     ]
    },
    {
     "data": {
      "image/png": "[encoded data removed]",
      "text/plain": [
       "<matplotlib.figure.Figure at 0x7f0f6474ced0>"
      ]
     },
     "metadata": {},
     "output_type": "display_data"
    },
    {
     "name": "stdout",
     "output_type": "stream",
     "text": [
      "CPU times: user 2h 4min 20s, sys: 10min 11s, total: 2h 14min 32s\n",
      "Wall time: 1h 4min 28s\n"
     ]
    }
   ],
   "source": [
    "%%time\n",
    "from sklearn.model_selection import StratifiedKFold, KFold\n",
    "\n",
    "FOLDS = 10\n",
    "\n",
    "DROPOUT = 0.5  # Probability of keeping a neuron\n",
    "BATCH_SIZE = 256\n",
    "EPOCHS = 10\n",
    "\n",
    "\n",
    "skf = KFold(FOLDS, shuffle=True, random_state=42)\n",
    "\n",
    "results = []\n",
    "\n",
    "for train_index, test_index in skf.split(X, y):\n",
    "    X_tr, X_val = X[train_index], X[test_index]\n",
    "    y_tr, y_val = y[train_index], y[test_index]\n",
    "\n",
    "    train_batch_generator = batch_generator(X_tr, y_tr, BATCH_SIZE)\n",
    "\n",
    "    loss_tr_l = []\n",
    "    loss_val_l = []\n",
    "    ce_tr_l = []  # Cross-entropy\n",
    "    ce_val_l = []\n",
    "    acc_tr_l = []  # Accuracy\n",
    "    acc_val_l = []\n",
    "    f_macro_tr_l = []\n",
    "    f_macro_val_l = []\n",
    "    f_fair_tr_l = []\n",
    "    f_fair_val_l = []\n",
    "\n",
    "    with tf.Session() as sess:\n",
    "        sess.run(tf.global_variables_initializer())\n",
    "        sess.run(init_embeddings, feed_dict={embeddings_ph: embeddings})\n",
    "        print \"Start learning...\"\n",
    "        for epoch in range(EPOCHS):\n",
    "            for i in range(int(X_tr.shape[0] / BATCH_SIZE)):\n",
    "                x_batch, y_batch = train_batch_generator.next()\n",
    "                seq_len_tr = np.array([list(x).index(eos_id) + 1 for x in x_batch])\n",
    "                sess.run(optimizer, feed_dict={batch_ph: x_batch, target_ph: y_batch,\n",
    "                                               seq_len_ph: seq_len_tr, keep_prob_ph: DROPOUT})\n",
    "\n",
    "            y_pred_tr, ce_tr, loss_tr, acc_tr = sess.run([y_hat, cross_entropy, loss, accuracy],\n",
    "                                                  feed_dict={batch_ph: x_batch, target_ph: y_batch, \n",
    "                                                             seq_len_ph: seq_len_tr, keep_prob_ph: 1.0})\n",
    "            \n",
    "            y_pred_val, ce_val, loss_val, acc_val = [], 0, 0, 0\n",
    "            num_val_batches = X_val.shape[0] / BATCH_SIZE\n",
    "            for i in range(num_val_batches):\n",
    "                x_batch_val, y_batch_val = X_val[i * BATCH_SIZE : (i + 1) * BATCH_SIZE],\\\n",
    "                                           y_val[i * BATCH_SIZE : (i + 1) * BATCH_SIZE]\n",
    "                seq_len_val = np.array([list(x).index(eos_id) + 1 for x in x_batch_val])\n",
    "                y_pred_val_, ce_val_, loss_val_, acc_val_ = sess.run([y_hat, cross_entropy, loss, accuracy],\n",
    "                                                             feed_dict={batch_ph: x_batch_val, target_ph: y_batch_val,\n",
    "                                                                        seq_len_ph: seq_len_val, keep_prob_ph: 1.0})\n",
    "                y_pred_val += list(y_pred_val_)\n",
    "                ce_val += ce_val_\n",
    "                loss_val += loss_val_\n",
    "                acc_val += acc_val_\n",
    "            \n",
    "            y_pred_val = np.array(y_pred_val)\n",
    "            ce_val /= num_val_batches\n",
    "            loss_val /= num_val_batches\n",
    "            acc_val /= num_val_batches\n",
    "\n",
    "            y_pred_tr = np.array([cls2probs(cls) for cls in np.argmax(y_pred_tr, 1) - 1])\n",
    "            y_pred_val = np.array([cls2probs(cls) for cls in np.argmax(y_pred_val, 1) - 1])\n",
    "            f_macro_tr, f_micro_tr = f_macro(y_batch, y_pred_tr), f_micro(y_batch, y_pred_tr)\n",
    "            f_macro_val, f_micro_val = f_macro(y_val[:num_val_batches * BATCH_SIZE], y_pred_val),\\\n",
    "                                       f_micro(y_val[:num_val_batches * BATCH_SIZE], y_pred_val)\n",
    "        \n",
    "\n",
    "            loss_tr_l.append(loss_tr)\n",
    "            loss_val_l.append(loss_val)\n",
    "            ce_tr_l.append(ce_tr)\n",
    "            ce_val_l.append(ce_val)\n",
    "            acc_tr_l.append(acc_tr)\n",
    "            acc_val_l.append(acc_val)\n",
    "            f_macro_tr_l.append(f_macro_tr)\n",
    "            f_macro_val_l.append(f_macro_val)\n",
    "\n",
    "            clear_output(wait=True)\n",
    "            print \"epoch: {}\".format(epoch)\n",
    "            print \"\\t Train loss: {:.3f}\\t ce: {:.3f}\\t acc: {:.3f}\\t f_macro: {:.3f}\".format(\n",
    "                loss_tr, ce_tr, acc_tr, f_macro_tr)\n",
    "            print \"\\t Valid loss: {:.3f}\\t ce: {:.3f}\\t acc: {:.3f}\\t f_macro: {:.3f}\".format(\n",
    "                loss_val, ce_val, acc_val, f_macro_val)\n",
    "\n",
    "            plt.figure(figsize=(15,10))\n",
    "            plt.plot(ce_tr_l, color='blue', label='ce_tr')\n",
    "            plt.plot(ce_val_l, color='red', label='ce_val')        \n",
    "            plt.plot(f_macro_val_l, color='green', label='f_macro_val')\n",
    "            plt.xlim(0, EPOCHS - 1)\n",
    "            plt.ylim(0, 1)\n",
    "            plt.legend()\n",
    "            plt.show()\n",
    "            \n",
    "    results.append([max(acc_val_l), max(f_macro_val_l)])"
   ]
  },
  {
   "cell_type": "code",
   "execution_count": 22,
   "metadata": {},
   "outputs": [
    {
     "data": {
      "text/plain": [
       "[[0.90660511363636365, 0.8609150287519296],\n",
       " [0.90749289772727271, 0.86527864310817271],\n",
       " [0.8984375, 0.84810574448603093],\n",
       " [0.89808238636363635, 0.84657496806072641],\n",
       " [0.89861505681818177, 0.85076954424847528],\n",
       " [0.90589488636363635, 0.85873962444018026],\n",
       " [0.90358664772727271, 0.86244872924388749],\n",
       " [0.90838068181818177, 0.86613039815504766],\n",
       " [0.91139914772727271, 0.87110309333624658],\n",
       " [0.90465198863636365, 0.8624367435301542]]"
      ]
     },
     "execution_count": 22,
     "metadata": {},
     "output_type": "execute_result"
    }
   ],
   "source": [
    "# hid 300, ep 10, Adam 1e-3, max_val_f\n",
    "results"
   ]
  },
  {
   "cell_type": "markdown",
   "metadata": {},
   "source": [
    "---"
   ]
  },
  {
   "cell_type": "markdown",
   "metadata": {},
   "source": [
    "---"
   ]
  },
  {
   "cell_type": "markdown",
   "metadata": {},
   "source": [
    "### Bi-RNN with Attention mechanism"
   ]
  },
  {
   "cell_type": "markdown",
   "metadata": {},
   "source": [
    "Attention mechanism formulas and notation\n",
    "$$\n",
    "\\upsilon_{t}=\\tanh{(W_{\\omega}\\left[\\overrightarrow{h_{t}},\\overleftarrow{h_{t}}\\right]+b_{\\omega})}\\\\\n",
    "\\alpha_{t}=\\frac{\\exp{(\\upsilon_{t}^{T}u_{\\omega})}}{\\sum_{j=1}^{T}\\exp{(\\upsilon_{j}^{T}u_{\\omega})}}\\\\\n",
    "\\upsilon=\\sum_{t=1}^{T}\\alpha_{t}h_{t}\t\n",
    "$$"
   ]
  },
  {
   "cell_type": "code",
   "execution_count": 31,
   "metadata": {
    "collapsed": true
   },
   "outputs": [],
   "source": [
    "EMBED_DIM = 300\n",
    "SEQ_LENGTH = length_max\n",
    "HIDDEN_SIZE = 300\n",
    "ATTENTION_SIZE = 20\n",
    "NUM_CLASSES = 2\n",
    "\n",
    "tf.reset_default_graph()\n",
    "\n",
    "batch_ph   = tf.placeholder(tf.int32, [None, SEQ_LENGTH])\n",
    "target_ph  = tf.placeholder(tf.float32, [None, NUM_CLASSES])\n",
    "seq_len_ph = tf.placeholder(tf.int32, [None])\n",
    "keep_prob_ph = tf.placeholder(tf.float32)\n",
    "\n",
    "embeddings_ph = tf.placeholder(tf.float32, [len(vocabulary), EMBED_DIM])\n",
    "embeddings_var = tf.Variable(tf.constant(0., shape=[len(vocabulary), EMBED_DIM]), trainable=False)\n",
    "init_embeddings = embeddings_var.assign(embeddings_ph)\n",
    "\n",
    "batch_embedded = tf.nn.embedding_lookup(embeddings_var, batch_ph)\n",
    "\n",
    "# Bi-RNN layers\n",
    "outputs,_ = bi_rnn(GRUCell(HIDDEN_SIZE), GRUCell(HIDDEN_SIZE),\n",
    "                   inputs=batch_embedded,sequence_length=seq_len_ph, dtype=tf.float32, scope=\"bi_rnn1\")  \n",
    "outputs = tf.concat(outputs, 2)\n",
    "# outputs,_ = bi_rnn(GRUCell(HIDDEN_SIZE), GRUCell(HIDDEN_SIZE),\n",
    "#                          inputs=outputs,sequence_length=seq_len_ph, dtype=tf.float32, scope=\"bi_rnn2\")\n",
    "# outputs = tf.concat(outputs, 2)\n",
    "\n",
    "# Attention mechanism\n",
    "W_omega = tf.Variable(tf.random_normal([2 * HIDDEN_SIZE, ATTENTION_SIZE], stddev=0.1))\n",
    "b_omega = tf.Variable(tf.random_normal([ATTENTION_SIZE], stddev=0.1))\n",
    "u_omega = tf.Variable(tf.random_normal([ATTENTION_SIZE], stddev=0.1))\n",
    "\n",
    "v = tf.nn.relu(tf.matmul(tf.reshape(outputs, [-1, 2 * HIDDEN_SIZE]), W_omega) + tf.reshape(b_omega, [1, -1]))\n",
    "vu = tf.matmul(v, tf.reshape(u_omega, [-1, 1]))\n",
    "exps = tf.reshape(tf.exp(vu), [-1, SEQ_LENGTH])\n",
    "alphas = exps / tf.reshape(tf.reduce_sum(exps, 1), [-1, 1])\n",
    "\n",
    "# Output of Bi-RNN reduced with attention vector\n",
    "output = tf.reduce_sum(outputs * tf.reshape(alphas, [-1, SEQ_LENGTH, 1]), 1)\n",
    "\n",
    "# Dropout\n",
    "drop = tf.nn.dropout(output, keep_prob_ph)\n",
    "\n",
    "# Fully connected layer\n",
    "W = tf.Variable(tf.truncated_normal([HIDDEN_SIZE * 2, NUM_CLASSES], stddev=0.1), name=\"W\")\n",
    "b = tf.Variable(tf.constant(0., shape=[NUM_CLASSES]), name=\"b\")\n",
    "y_hat = tf.nn.xw_plus_b(drop, W, b, name=\"scores\")"
   ]
  },
  {
   "cell_type": "code",
   "execution_count": 32,
   "metadata": {
    "collapsed": true
   },
   "outputs": [],
   "source": [
    "# Adam parameters\n",
    "LEARNING_RATE = 1e-3\n",
    "EPSILON = 1e-5\n",
    "BETA1 = 0.9\n",
    "BETA2 = 0.9\n",
    "# L2 regularization coefficient\n",
    "BETA = 0\n",
    "\n",
    "cross_entropy = tf.reduce_mean(tf.nn.softmax_cross_entropy_with_logits(labels=target_ph, logits=y_hat), name=\"cross_entropy\")\n",
    "l2_loss = tf.nn.l2_loss(W, name=\"l2_loss\")\n",
    "loss = cross_entropy + l2_loss * BETA\n",
    "optimizer = tf.train.AdamOptimizer(learning_rate=LEARNING_RATE, beta1=BETA1, beta2=BETA2,\n",
    "                                   epsilon=EPSILON).minimize(loss)\n",
    "# optimizer = tf.train.MomentumOptimizer(learning_rate=LEARNING_RATE, momentum=0.1).minimize(loss)\n",
    "\n",
    "accuracy = tf.reduce_mean(tf.cast(tf.equal(tf.argmax(target_ph, 1), tf.argmax(y_hat, 1)), tf.float32))"
   ]
  },
  {
   "cell_type": "code",
   "execution_count": 33,
   "metadata": {},
   "outputs": [
    {
     "name": "stdout",
     "output_type": "stream",
     "text": [
      "fold: 9\n",
      "epoch: 9\n",
      "\t Train loss: 0.171\t ce: 0.171\t acc: 0.930\t f_macro: 0.902\n",
      "\t Valid loss: 0.238\t ce: 0.238\t acc: 0.901\t f_macro: 0.857\n"
     ]
    },
    {
     "data": {
      "image/png": "[encoded data removed]",
      "text/plain": [
       "<matplotlib.figure.Figure at 0x7f8a6c050290>"
      ]
     },
     "metadata": {},
     "output_type": "display_data"
    }
   ],
   "source": [
    "from sklearn.model_selection import StratifiedKFold, KFold\n",
    "\n",
    "FOLDS = 10\n",
    "\n",
    "DROPOUT = 0.5  # Probability of keeping a neuron\n",
    "BATCH_SIZE = 256\n",
    "EPOCHS = 10\n",
    "\n",
    "skf = KFold(FOLDS, shuffle=True, random_state=42)\n",
    "\n",
    "results_att = []\n",
    "\n",
    "for fold_i, (train_index, test_index) in enumerate(skf.split(X, y)):\n",
    "    X_tr, X_val = X[train_index], X[test_index]\n",
    "    y_tr, y_val = y[train_index], y[test_index]\n",
    "\n",
    "    train_batch_generator = batch_generator(X_tr, y_tr, BATCH_SIZE)\n",
    "\n",
    "    loss_tr_l = []\n",
    "    loss_val_l = []\n",
    "    ce_tr_l = []  # Cross-entropy\n",
    "    ce_val_l = []\n",
    "    acc_tr_l = []  # Accuracy\n",
    "    acc_val_l = []\n",
    "    f_macro_tr_l = []\n",
    "    f_macro_val_l = []\n",
    "    f_fair_tr_l = []\n",
    "    f_fair_val_l = []\n",
    "    min_ce = 0.32\n",
    "\n",
    "    with tf.Session() as sess:\n",
    "        sess.run(tf.global_variables_initializer())\n",
    "        sess.run(init_embeddings, feed_dict={embeddings_ph: embeddings})\n",
    "        print \"Start learning...\"\n",
    "        for epoch in range(EPOCHS):\n",
    "            for i in range(int(X_tr.shape[0] / BATCH_SIZE)):\n",
    "                x_batch, y_batch = train_batch_generator.next()\n",
    "                seq_len_tr = np.array([list(x).index(eos_id) + 1 for x in x_batch])\n",
    "                sess.run(optimizer, feed_dict={batch_ph: x_batch, target_ph: y_batch,\n",
    "                                               seq_len_ph: seq_len_tr, keep_prob_ph: DROPOUT})\n",
    "\n",
    "            y_pred_tr, ce_tr, loss_tr, acc_tr = sess.run([y_hat, cross_entropy, loss, accuracy],\n",
    "                                                  feed_dict={batch_ph: x_batch, target_ph: y_batch, \n",
    "                                                             seq_len_ph: seq_len_tr, keep_prob_ph: 1.0})\n",
    "            \n",
    "            y_pred_val, ce_val, loss_val, acc_val = [], 0, 0, 0\n",
    "            num_val_batches = X_val.shape[0] / BATCH_SIZE\n",
    "            for i in range(num_val_batches):\n",
    "                x_batch_val, y_batch_val = X_val[i * BATCH_SIZE : (i + 1) * BATCH_SIZE],\\\n",
    "                                           y_val[i * BATCH_SIZE : (i + 1) * BATCH_SIZE]\n",
    "                seq_len_val = np.array([list(x).index(eos_id) + 1 for x in x_batch_val])\n",
    "                y_pred_val_, ce_val_, loss_val_, acc_val_ = sess.run([y_hat, cross_entropy, loss, accuracy],\n",
    "                                                             feed_dict={batch_ph: x_batch_val, target_ph: y_batch_val,\n",
    "                                                                        seq_len_ph: seq_len_val, keep_prob_ph: 1.0})\n",
    "                y_pred_val += list(y_pred_val_)\n",
    "                ce_val += ce_val_\n",
    "                loss_val += loss_val_\n",
    "                acc_val += acc_val_\n",
    "            \n",
    "            y_pred_val = np.array(y_pred_val)\n",
    "            ce_val /= num_val_batches\n",
    "            loss_val /= num_val_batches\n",
    "            acc_val /= num_val_batches\n",
    "\n",
    "            y_pred_tr = np.array([cls2probs(cls) for cls in np.argmax(y_pred_tr, 1) - 1])\n",
    "            y_pred_val = np.array([cls2probs(cls) for cls in np.argmax(y_pred_val, 1) - 1])\n",
    "            f_macro_tr, f_micro_tr = f_macro(y_batch, y_pred_tr), f_micro(y_batch, y_pred_tr)\n",
    "            f_macro_val, f_micro_val = f_macro(y_val[:num_val_batches * BATCH_SIZE], y_pred_val),\\\n",
    "                                       f_micro(y_val[:num_val_batches * BATCH_SIZE], y_pred_val)\n",
    "        \n",
    "\n",
    "            loss_tr_l.append(loss_tr)\n",
    "            loss_val_l.append(loss_val)\n",
    "            ce_tr_l.append(ce_tr)\n",
    "            ce_val_l.append(ce_val)\n",
    "            acc_tr_l.append(acc_tr)\n",
    "            acc_val_l.append(acc_val)\n",
    "            f_macro_tr_l.append(f_macro_tr)\n",
    "            f_macro_val_l.append(f_macro_val)\n",
    "\n",
    "            clear_output(wait=True)\n",
    "            print \"fold: {}\".format(fold_i)\n",
    "            print \"epoch: {}\".format(epoch)\n",
    "            print \"\\t Train loss: {:.3f}\\t ce: {:.3f}\\t acc: {:.3f}\\t f_macro: {:.3f}\".format(\n",
    "                loss_tr, ce_tr, acc_tr, f_macro_tr)\n",
    "            print \"\\t Valid loss: {:.3f}\\t ce: {:.3f}\\t acc: {:.3f}\\t f_macro: {:.3f}\".format(\n",
    "                loss_val, ce_val, acc_val, f_macro_val)\n",
    "\n",
    "            plt.figure(figsize=(15,10))\n",
    "            plt.plot(ce_tr_l, color='blue', label='ce_tr')\n",
    "            plt.plot(ce_val_l, color='red', label='ce_val')        \n",
    "            plt.plot(f_macro_val_l, color='green', label='f_macro_val')\n",
    "            plt.xlim(0, EPOCHS - 1)\n",
    "            plt.ylim(0, 1)\n",
    "            plt.legend()\n",
    "            plt.show()\n",
    "            \n",
    "    results_att.append([max(acc_val_l), max(f_macro_val_l)])"
   ]
  },
  {
   "cell_type": "code",
   "execution_count": 34,
   "metadata": {},
   "outputs": [
    {
     "data": {
      "text/plain": [
       "[[0.90873579545454541, 0.86610162749413266],\n",
       " [0.91086647727272729, 0.86953411924880086],\n",
       " [0.89488636363636365, 0.84473691894119796],\n",
       " [0.90056818181818177, 0.85117658751251701],\n",
       " [0.89932528409090906, 0.85202867544946137],\n",
       " [0.90518465909090906, 0.86305702427121167],\n",
       " [0.90802556818181823, 0.87076874227458811],\n",
       " [0.90607244318181823, 0.86319561263962763],\n",
       " [0.90873579545454541, 0.86436267965996139],\n",
       " [0.90340909090909094, 0.86385022069381356]]"
      ]
     },
     "execution_count": 34,
     "metadata": {},
     "output_type": "execute_result"
    }
   ],
   "source": [
    "# hid 300, att 20 relu, ep 10, Adam 1e-3, max_val_f\n",
    "results_att"
   ]
  },
  {
   "cell_type": "markdown",
   "metadata": {},
   "source": [
    "---"
   ]
  },
  {
   "cell_type": "markdown",
   "metadata": {},
   "source": [
    "---"
   ]
  },
  {
   "cell_type": "markdown",
   "metadata": {},
   "source": [
    "---"
   ]
  },
  {
   "cell_type": "markdown",
   "metadata": {},
   "source": [
    "# Testing"
   ]
  },
  {
   "cell_type": "code",
   "execution_count": 18,
   "metadata": {},
   "outputs": [],
   "source": [
    "review_test = pd.read_csv('../data/kinopoisk_test.csv', sep=',', encoding='utf-8')\n",
    "texts_test, labels_test = review_test.text.values, review_test.label.values"
   ]
  },
  {
   "cell_type": "code",
   "execution_count": 21,
   "metadata": {},
   "outputs": [
    {
     "name": "stdout",
     "output_type": "stream",
     "text": [
      "Counter({1: 21695, -1: 3754, 0: 3627})\n",
      "Counter({1: 5349, -1: 989, 0: 932})\n",
      "29076\n",
      "7270\n"
     ]
    }
   ],
   "source": [
    "from collections import Counter\n",
    "\n",
    "print Counter(labels)\n",
    "print Counter(labels_test)\n",
    "print labels.shape[0]\n",
    "print labels_test.shape[0]"
   ]
  },
  {
   "cell_type": "code",
   "execution_count": 263,
   "metadata": {},
   "outputs": [
    {
     "name": "stdout",
     "output_type": "stream",
     "text": [
      "CPU times: user 272 ms, sys: 728 ms, total: 1 s\n",
      "Wall time: 39 s\n"
     ]
    }
   ],
   "source": [
    "%%time\n",
    "pool = multiprocessing.Pool()\n",
    "X_test = pool.map(text2seq, texts_test)\n",
    "cPickle.dump(X_test, open('../data/X_review_test.pkl', 'wb'))"
   ]
  },
  {
   "cell_type": "code",
   "execution_count": 254,
   "metadata": {
    "collapsed": true
   },
   "outputs": [],
   "source": [
    "X_test = cPickle.load(open('../data/X_review_test.pkl', 'rb'))"
   ]
  },
  {
   "cell_type": "code",
   "execution_count": 274,
   "metadata": {
    "collapsed": true
   },
   "outputs": [],
   "source": [
    "X_test = [x + [eos_id]*(length_max - len(x)) for x in X_test]\n",
    "X_test = np.array(X_test)\n",
    "y_test = np.array([cls2probs(cls) for cls in labels_test])"
   ]
  },
  {
   "cell_type": "code",
   "execution_count": 292,
   "metadata": {},
   "outputs": [
    {
     "data": {
      "text/plain": [
       "((537, 29), (537, 3), (3418, 29), (3418, 3))"
      ]
     },
     "execution_count": 292,
     "metadata": {},
     "output_type": "execute_result"
    }
   ],
   "source": [
    "X_val.shape, y_val.shape, X_test.shape, y_test.shape"
   ]
  },
  {
   "cell_type": "code",
   "execution_count": 352,
   "metadata": {
    "collapsed": true
   },
   "outputs": [],
   "source": [
    "with tf.Session() as sess:\n",
    "    new_saver = tf.train.import_meta_graph('model_birnn_momentum.meta')\n",
    "    new_saver.restore(sess, tf.train.latest_checkpoint('./'))\n",
    "    \n",
    "    seq_len_test = np.array([list(x).index(eos_id) + 1 for x in X_test])\n",
    "    y_pred_test, ce_test, loss_test, acc_test = sess.run([y_hat, cross_entropy, loss, accuracy],\n",
    "                                                     feed_dict={batch_ph: X_test, target_ph: y_test,\n",
    "                                                                seq_len_ph: seq_len_test, keep_prob_ph: 1.0})\n",
    "    seq_len_val = np.array([list(x).index(eos_id) + 1 for x in X_val])\n",
    "    y_pred_val, ce_val, loss_val, acc_val = sess.run([y_hat, cross_entropy, loss, accuracy],\n",
    "                                                         feed_dict={batch_ph: X_val, target_ph: y_val,\n",
    "                                                                    seq_len_ph: seq_len_val, keep_prob_ph: 1.0})"
   ]
  },
  {
   "cell_type": "code",
   "execution_count": 353,
   "metadata": {},
   "outputs": [
    {
     "name": "stdout",
     "output_type": "stream",
     "text": [
      "0.629508196721 0.794366197183\n"
     ]
    }
   ],
   "source": [
    "y_pred_val = np.array([cls2probs(cls) for cls in np.argmax(y_pred_val, 1) - 1])\n",
    "f_macro_val, f_micro_val = f_macro(y_val, y_pred_val), f_micro(y_val, y_pred_val)\n",
    "print f_macro_val, f_micro_val"
   ]
  },
  {
   "cell_type": "code",
   "execution_count": 354,
   "metadata": {},
   "outputs": [
    {
     "name": "stdout",
     "output_type": "stream",
     "text": [
      "0.434433507829 0.522274881517\n"
     ]
    }
   ],
   "source": [
    "y_pred_test = np.array([cls2probs(cls) for cls in np.argmax(y_pred_test, 1) - 1])\n",
    "f_macro_test, f_micro_test = f_macro(y_test, y_pred_test), f_micro(y_test, y_pred_test)\n",
    "print f_macro_test, f_micro_test"
   ]
  },
  {
   "cell_type": "code",
   "execution_count": null,
   "metadata": {
    "collapsed": true
   },
   "outputs": [],
   "source": []
  },
  {
   "cell_type": "code",
   "execution_count": null,
   "metadata": {
    "collapsed": true
   },
   "outputs": [],
   "source": []
  },
  {
   "cell_type": "code",
   "execution_count": null,
   "metadata": {
    "collapsed": true
   },
   "outputs": [],
   "source": []
  },
  {
   "cell_type": "code",
   "execution_count": null,
   "metadata": {
    "collapsed": true
   },
   "outputs": [],
   "source": []
  },
  {
   "cell_type": "code",
   "execution_count": null,
   "metadata": {
    "collapsed": true
   },
   "outputs": [],
   "source": []
  },
  {
   "cell_type": "code",
   "execution_count": null,
   "metadata": {
    "collapsed": true
   },
   "outputs": [],
   "source": []
  },
  {
   "cell_type": "code",
   "execution_count": null,
   "metadata": {
    "collapsed": true
   },
   "outputs": [],
   "source": []
  },
  {
   "cell_type": "code",
   "execution_count": null,
   "metadata": {
    "collapsed": true
   },
   "outputs": [],
   "source": []
  },
  {
   "cell_type": "code",
   "execution_count": null,
   "metadata": {
    "collapsed": true
   },
   "outputs": [],
   "source": []
  },
  {
   "cell_type": "code",
   "execution_count": null,
   "metadata": {
    "collapsed": true
   },
   "outputs": [],
   "source": []
  },
  {
   "cell_type": "code",
   "execution_count": null,
   "metadata": {
    "collapsed": true
   },
   "outputs": [],
   "source": []
  },
  {
   "cell_type": "code",
   "execution_count": null,
   "metadata": {
    "collapsed": true
   },
   "outputs": [],
   "source": []
  }
 ],
 "metadata": {
  "kernelspec": {
   "display_name": "Python 2",
   "language": "python",
   "name": "python2"
  },
  "language_info": {
   "codemirror_mode": {
    "name": "ipython",
    "version": 2
   },
   "file_extension": ".py",
   "mimetype": "text/x-python",
   "name": "python",
   "nbconvert_exporter": "python",
   "pygments_lexer": "ipython2",
   "version": "2.7.12"
  }
 },
 "nbformat": 4,
 "nbformat_minor": 1
}
