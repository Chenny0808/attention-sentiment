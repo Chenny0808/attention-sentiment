{
 "cells": [
  {
   "cell_type": "code",
   "execution_count": 1,
   "metadata": {
    "collapsed": true
   },
   "outputs": [],
   "source": [
    "import numpy as np\n",
    "import pandas as pd\n",
    "import random\n",
    "import xml.etree.ElementTree\n",
    "import matplotlib\n",
    "%matplotlib inline"
   ]
  },
  {
   "cell_type": "code",
   "execution_count": 2,
   "metadata": {
    "collapsed": false
   },
   "outputs": [
    {
     "name": "stderr",
     "output_type": "stream",
     "text": [
      "/home/ilya/.virtualenvs/nlp/lib/python2.7/site-packages/ipykernel/__main__.py:1: DeprecationWarning: This method will be removed in future versions.  Use 'list(elem)' or iteration over elem instead.\n",
      "  if __name__ == '__main__':\n",
      "/home/ilya/.virtualenvs/nlp/lib/python2.7/site-packages/ipykernel/__main__.py:3: DeprecationWarning: This method will be removed in future versions.  Use 'list(elem)' or iteration over elem instead.\n",
      "  app.launch_new_instance()\n",
      "/home/ilya/.virtualenvs/nlp/lib/python2.7/site-packages/ipykernel/__main__.py:5: DeprecationWarning: This method will be removed in future versions.  Use 'list(elem)' or iteration over elem instead.\n"
     ]
    }
   ],
   "source": [
    "ttk_train_2016_xml = xml.etree.ElementTree.parse('../data/tkk_train_2016.xml').getroot().getchildren()[1]\n",
    "rows = []\n",
    "for row_xml in ttk_train_2016_xml.getchildren():\n",
    "    row = []\n",
    "    for cell in row_xml.getchildren():\n",
    "        row.append(cell.text)\n",
    "    rows.append(row)"
   ]
  },
  {
   "cell_type": "code",
   "execution_count": 3,
   "metadata": {
    "collapsed": true
   },
   "outputs": [],
   "source": [
    "ttk_names = ['beeline', 'mts', 'megafon', 'tele2', 'rostelecom', 'komstar', 'skylink']\n",
    "ttk_train_2016 = pd.DataFrame(rows, columns=['id', 'twitid', 'date', 'text'] + ttk_names)"
   ]
  },
  {
   "cell_type": "code",
   "execution_count": 4,
   "metadata": {
    "collapsed": false
   },
   "outputs": [
    {
     "data": {
      "text/html": [
       "<div>\n",
       "<table border=\"1\" class=\"dataframe\">\n",
       "  <thead>\n",
       "    <tr style=\"text-align: right;\">\n",
       "      <th></th>\n",
       "      <th>id</th>\n",
       "      <th>twitid</th>\n",
       "      <th>date</th>\n",
       "      <th>text</th>\n",
       "      <th>beeline</th>\n",
       "      <th>mts</th>\n",
       "      <th>megafon</th>\n",
       "      <th>tele2</th>\n",
       "      <th>rostelecom</th>\n",
       "      <th>komstar</th>\n",
       "      <th>skylink</th>\n",
       "    </tr>\n",
       "  </thead>\n",
       "  <tbody>\n",
       "    <tr>\n",
       "      <th>0</th>\n",
       "      <td>1</td>\n",
       "      <td>492367588165680000</td>\n",
       "      <td>1406224555</td>\n",
       "      <td>@mkomov Максим, Вашем письмо мы получили. Наши...</td>\n",
       "      <td>0</td>\n",
       "      <td>NULL</td>\n",
       "      <td>NULL</td>\n",
       "      <td>NULL</td>\n",
       "      <td>NULL</td>\n",
       "      <td>NULL</td>\n",
       "      <td>NULL</td>\n",
       "    </tr>\n",
       "    <tr>\n",
       "      <th>1</th>\n",
       "      <td>2</td>\n",
       "      <td>492369449912380000</td>\n",
       "      <td>1406224999</td>\n",
       "      <td>«Мегафон» стал владельцем 50% акций «Евросети»</td>\n",
       "      <td>NULL</td>\n",
       "      <td>NULL</td>\n",
       "      <td>0</td>\n",
       "      <td>NULL</td>\n",
       "      <td>NULL</td>\n",
       "      <td>NULL</td>\n",
       "      <td>NULL</td>\n",
       "    </tr>\n",
       "    <tr>\n",
       "      <th>2</th>\n",
       "      <td>3</td>\n",
       "      <td>492369715378290000</td>\n",
       "      <td>1406225062</td>\n",
       "      <td>RT @fuckkiev: “@EvaKobb: МТС Россия прислала ж...</td>\n",
       "      <td>NULL</td>\n",
       "      <td>-1</td>\n",
       "      <td>NULL</td>\n",
       "      <td>NULL</td>\n",
       "      <td>NULL</td>\n",
       "      <td>NULL</td>\n",
       "      <td>NULL</td>\n",
       "    </tr>\n",
       "    <tr>\n",
       "      <th>3</th>\n",
       "      <td>4</td>\n",
       "      <td>492369842205650000</td>\n",
       "      <td>1406225092</td>\n",
       "      <td>ВИДЕО: http://t.co/PSMLAhR4fI Реклама со смехо...</td>\n",
       "      <td>NULL</td>\n",
       "      <td>1</td>\n",
       "      <td>NULL</td>\n",
       "      <td>NULL</td>\n",
       "      <td>NULL</td>\n",
       "      <td>NULL</td>\n",
       "      <td>NULL</td>\n",
       "    </tr>\n",
       "    <tr>\n",
       "      <th>4</th>\n",
       "      <td>5</td>\n",
       "      <td>492371322060950000</td>\n",
       "      <td>1406225445</td>\n",
       "      <td>@parfenov1960 потому что МТС достало, а пчел н...</td>\n",
       "      <td>NULL</td>\n",
       "      <td>-1</td>\n",
       "      <td>NULL</td>\n",
       "      <td>NULL</td>\n",
       "      <td>NULL</td>\n",
       "      <td>NULL</td>\n",
       "      <td>NULL</td>\n",
       "    </tr>\n",
       "  </tbody>\n",
       "</table>\n",
       "</div>"
      ],
      "text/plain": [
       "  id              twitid        date  \\\n",
       "0  1  492367588165680000  1406224555   \n",
       "1  2  492369449912380000  1406224999   \n",
       "2  3  492369715378290000  1406225062   \n",
       "3  4  492369842205650000  1406225092   \n",
       "4  5  492371322060950000  1406225445   \n",
       "\n",
       "                                                text beeline   mts megafon  \\\n",
       "0  @mkomov Максим, Вашем письмо мы получили. Наши...       0  NULL    NULL   \n",
       "1     «Мегафон» стал владельцем 50% акций «Евросети»    NULL  NULL       0   \n",
       "2  RT @fuckkiev: “@EvaKobb: МТС Россия прислала ж...    NULL    -1    NULL   \n",
       "3  ВИДЕО: http://t.co/PSMLAhR4fI Реклама со смехо...    NULL     1    NULL   \n",
       "4  @parfenov1960 потому что МТС достало, а пчел н...    NULL    -1    NULL   \n",
       "\n",
       "  tele2 rostelecom komstar skylink  \n",
       "0  NULL       NULL    NULL    NULL  \n",
       "1  NULL       NULL    NULL    NULL  \n",
       "2  NULL       NULL    NULL    NULL  \n",
       "3  NULL       NULL    NULL    NULL  \n",
       "4  NULL       NULL    NULL    NULL  "
      ]
     },
     "execution_count": 4,
     "metadata": {},
     "output_type": "execute_result"
    }
   ],
   "source": [
    "ttk_train_2016.head()"
   ]
  },
  {
   "cell_type": "code",
   "execution_count": 5,
   "metadata": {
    "collapsed": false
   },
   "outputs": [
    {
     "data": {
      "text/plain": [
       "(8643, 11)"
      ]
     },
     "execution_count": 5,
     "metadata": {},
     "output_type": "execute_result"
    }
   ],
   "source": [
    "ttk_train_2016.shape"
   ]
  },
  {
   "cell_type": "code",
   "execution_count": 6,
   "metadata": {
    "collapsed": false
   },
   "outputs": [
    {
     "name": "stdout",
     "output_type": "stream",
     "text": [
      "@mkomov Максим, Вашем письмо мы получили. Наши сотрудники свяжутся с Вами завтра и направят запрос инженерам для проверки. #билайн\n",
      "«Мегафон» стал владельцем 50% акций «Евросети»\n",
      "RT @fuckkiev: “@EvaKobb: МТС Россия прислала жителям Херсонщины сообщения, в которых обозвала украинцев фашистами? http://t.co/RbSesXlOUZ” …\n",
      "ВИДЕО: http://t.co/PSMLAhR4fI Реклама со смехом МТС - Супер 0\n",
      "@parfenov1960 потому что МТС достало, а пчел ненавижу с детства, как и их мёд!\n",
      "RT @f_u_c_k_y_o_u_: Билайн интернет стал полным говном\n",
      "На Дне города в Тюмени «МегаФон» разыграет смартфон за лучшее селфи\n",
      "&amp;laquo;Ростелеком&amp;raquo; стал партнером всероссийского конкурса &amp;laquo;Поколение i&amp;raquo; на создание лучшего интернет-проекта для детей, о\n",
      "RT @parfenov1960: Сотовый оператор Мегафон проводит конкурс с розыгрышем 50 iPhone 5s. Для участия нужно... http://t.co/8SZYFgjtMe\n",
      "«МегаФон» поможет контролировать расходы на Интернет за границей\n",
      "@parfenov1960 Фуфло эт ваш Мегафон.просит много,дает мало.\n",
      "@vinylanarchist Ну давай ты позвонишь как будешь в парке, а я подойду\n",
      "или наоборот\n",
      "у тя мтс ?\n",
      "За 7 месяцев Tele2 провела 90 городских мероприятий, в которых участвовали 85 тыс. человек\n",
      "@Beeline_RUS То есть новый номер только в офисе и из тех, что есть в офисе? Заранее никак?\n",
      "Вот если и хаять сеть, то МТС! Просто адский оператор какой-то!\n",
      "RT @51evgen: @EvaKobb давайте откажемся от МТС,у меня 4 номера Я ГОТОВ!\n",
      "«Ростелеком» традиционно выступил партнером XIV Международного праздника Огурца в Суздале. Мероприятие, участниками которого стали более 14\n",
      "УрБК, Екатеринбург, 22.07.2014. ОАО «МегаФон» стало предоставлять услуги сверхскоростной мобильной связи 4G+ еще в 14 населенных пунктах Св\n",
      "«МегаФон» представил новую возможность сэкономить в роуминге\n",
      "@imerkouri враньё! #Мегафон ГЭ! Проверено!\n"
     ]
    }
   ],
   "source": [
    "for row in ttk_train_2016.text[:20]:\n",
    "    print row"
   ]
  },
  {
   "cell_type": "code",
   "execution_count": 8,
   "metadata": {
    "collapsed": false
   },
   "outputs": [
    {
     "name": "stdout",
     "output_type": "stream",
     "text": [
      "131 сообщения из 9к+ имеют разную тональность для разных компаний.\n"
     ]
    }
   ],
   "source": [
    "def uniform_sentiment(row):\n",
    "    return np.unique(row).shape[0] == 2;\n",
    "    \n",
    "mask = ttk_train_2016[ttk_names].apply(uniform_sentiment, axis=1)\n",
    "print ttk_train_2016.shape[0] - ttk_train_2016[mask].shape[0], 'сообщения из 9к+ имеют разную тональность для разных компаний.'"
   ]
  },
  {
   "cell_type": "markdown",
   "metadata": {},
   "source": [
    "Поэтому можем не решать задачу object-oriented, а предсказывать тональность для всего твита."
   ]
  },
  {
   "cell_type": "code",
   "execution_count": 9,
   "metadata": {
    "collapsed": false
   },
   "outputs": [
    {
     "name": "stdout",
     "output_type": "stream",
     "text": [
      "435 сообщений имеют более одного объекта\n"
     ]
    }
   ],
   "source": [
    "def one_object(row):\n",
    "    return row.value_counts()['NULL'] == len(ttk_names) - 1;\n",
    "\n",
    "mask = ttk_train_2016[ttk_names].apply(one_object, axis=1)\n",
    "print ttk_train_2016.shape[0] - ttk_train_2016[mask].shape[0], 'сообщений имеют более одного объекта'"
   ]
  },
  {
   "cell_type": "markdown",
   "metadata": {},
   "source": [
    "Вариант 1ый: берём только твиты с одним видом тональности и для твитов с упоминанием нескольких компаний оставляем лишь одну копию сообщения/лейбла"
   ]
  },
  {
   "cell_type": "code",
   "execution_count": 10,
   "metadata": {
    "collapsed": false
   },
   "outputs": [
    {
     "data": {
      "text/html": [
       "<div>\n",
       "<table border=\"1\" class=\"dataframe\">\n",
       "  <thead>\n",
       "    <tr style=\"text-align: right;\">\n",
       "      <th></th>\n",
       "      <th>id</th>\n",
       "      <th>text</th>\n",
       "      <th>label</th>\n",
       "    </tr>\n",
       "  </thead>\n",
       "  <tbody>\n",
       "    <tr>\n",
       "      <th>0</th>\n",
       "      <td>1</td>\n",
       "      <td>@mkomov Максим, Вашем письмо мы получили. Наши...</td>\n",
       "      <td>0</td>\n",
       "    </tr>\n",
       "    <tr>\n",
       "      <th>1</th>\n",
       "      <td>2</td>\n",
       "      <td>«Мегафон» стал владельцем 50% акций «Евросети»</td>\n",
       "      <td>0</td>\n",
       "    </tr>\n",
       "    <tr>\n",
       "      <th>2</th>\n",
       "      <td>3</td>\n",
       "      <td>RT @fuckkiev: “@EvaKobb: МТС Россия прислала ж...</td>\n",
       "      <td>-1</td>\n",
       "    </tr>\n",
       "    <tr>\n",
       "      <th>3</th>\n",
       "      <td>4</td>\n",
       "      <td>ВИДЕО: http://t.co/PSMLAhR4fI Реклама со смехо...</td>\n",
       "      <td>1</td>\n",
       "    </tr>\n",
       "    <tr>\n",
       "      <th>4</th>\n",
       "      <td>5</td>\n",
       "      <td>@parfenov1960 потому что МТС достало, а пчел н...</td>\n",
       "      <td>-1</td>\n",
       "    </tr>\n",
       "  </tbody>\n",
       "</table>\n",
       "</div>"
      ],
      "text/plain": [
       "  id                                               text label\n",
       "0  1  @mkomov Максим, Вашем письмо мы получили. Наши...     0\n",
       "1  2     «Мегафон» стал владельцем 50% акций «Евросети»     0\n",
       "2  3  RT @fuckkiev: “@EvaKobb: МТС Россия прислала ж...    -1\n",
       "3  4  ВИДЕО: http://t.co/PSMLAhR4fI Реклама со смехо...     1\n",
       "4  5  @parfenov1960 потому что МТС достало, а пчел н...    -1"
      ]
     },
     "execution_count": 10,
     "metadata": {},
     "output_type": "execute_result"
    }
   ],
   "source": [
    "def get_one_label(row):\n",
    "    vals = list(np.unique(row))\n",
    "    vals.remove('NULL')\n",
    "    return vals[0] if len(vals) == 1 else np.nan\n",
    "\n",
    "ttk_train_2016_copy = ttk_train_2016.copy()\n",
    "ttk_train_2016_copy['label'] = ttk_train_2016_copy[ttk_names].apply(get_one_label, axis=1)\n",
    "ttk_train_2016_copy = ttk_train_2016_copy[['id', 'text', 'label']]\n",
    "ttk_train_2016_copy.head()"
   ]
  },
  {
   "cell_type": "markdown",
   "metadata": {},
   "source": [
    "Вариант 2ой: для каждого упоминания компании в твите создаём отдельный семпл с сообщением и соответствующим лейблом"
   ]
  },
  {
   "cell_type": "code",
   "execution_count": 11,
   "metadata": {
    "collapsed": false
   },
   "outputs": [
    {
     "data": {
      "text/html": [
       "<div>\n",
       "<table border=\"1\" class=\"dataframe\">\n",
       "  <thead>\n",
       "    <tr style=\"text-align: right;\">\n",
       "      <th></th>\n",
       "      <th>id</th>\n",
       "      <th>text</th>\n",
       "      <th>label</th>\n",
       "    </tr>\n",
       "  </thead>\n",
       "  <tbody>\n",
       "    <tr>\n",
       "      <th>0</th>\n",
       "      <td>1</td>\n",
       "      <td>@mkomov Максим, Вашем письмо мы получили. Наши...</td>\n",
       "      <td>0</td>\n",
       "    </tr>\n",
       "    <tr>\n",
       "      <th>1</th>\n",
       "      <td>2</td>\n",
       "      <td>«Мегафон» стал владельцем 50% акций «Евросети»</td>\n",
       "      <td>0</td>\n",
       "    </tr>\n",
       "    <tr>\n",
       "      <th>2</th>\n",
       "      <td>3</td>\n",
       "      <td>RT @fuckkiev: “@EvaKobb: МТС Россия прислала ж...</td>\n",
       "      <td>-1</td>\n",
       "    </tr>\n",
       "    <tr>\n",
       "      <th>3</th>\n",
       "      <td>4</td>\n",
       "      <td>ВИДЕО: http://t.co/PSMLAhR4fI Реклама со смехо...</td>\n",
       "      <td>1</td>\n",
       "    </tr>\n",
       "    <tr>\n",
       "      <th>4</th>\n",
       "      <td>5</td>\n",
       "      <td>@parfenov1960 потому что МТС достало, а пчел н...</td>\n",
       "      <td>-1</td>\n",
       "    </tr>\n",
       "  </tbody>\n",
       "</table>\n",
       "</div>"
      ],
      "text/plain": [
       "  id                                               text label\n",
       "0  1  @mkomov Максим, Вашем письмо мы получили. Наши...     0\n",
       "1  2     «Мегафон» стал владельцем 50% акций «Евросети»     0\n",
       "2  3  RT @fuckkiev: “@EvaKobb: МТС Россия прислала ж...    -1\n",
       "3  4  ВИДЕО: http://t.co/PSMLAhR4fI Реклама со смехо...     1\n",
       "4  5  @parfenov1960 потому что МТС достало, а пчел н...    -1"
      ]
     },
     "execution_count": 11,
     "metadata": {},
     "output_type": "execute_result"
    }
   ],
   "source": [
    "def get_all_labels(row):\n",
    "    vals = row.values\n",
    "    vals = vals[vals != 'NULL']\n",
    "    return ' '.join(vals)\n",
    "\n",
    "ttk_train_2016_copy = ttk_train_2016.copy()\n",
    "ttk_train_2016_copy['labels'] = ttk_train_2016_copy[ttk_names].apply(get_all_labels, axis=1)\n",
    "ttk_train_2016_copy = ttk_train_2016_copy[['id', 'text', 'labels']]\n",
    "\n",
    "lbs = ttk_train_2016_copy['labels'].str.split(' ').apply(pd.Series, 1).stack()\n",
    "lbs.index = lbs.index.droplevel(-1)\n",
    "lbs.name = 'label'\n",
    "del ttk_train_2016_copy['labels']\n",
    "\n",
    "ttk_train_2016_copy = ttk_train_2016_copy.join(lbs)\n",
    "ttk_train_2016_copy.head()"
   ]
  },
  {
   "cell_type": "code",
   "execution_count": 12,
   "metadata": {
    "collapsed": false
   },
   "outputs": [
    {
     "name": "stdout",
     "output_type": "stream",
     "text": [
      "(9209, 3)\n",
      "(9209, 3)\n"
     ]
    }
   ],
   "source": [
    "print ttk_train_2016_copy.shape\n",
    "ttk_train_2016_copy.dropna(inplace=True)\n",
    "print ttk_train_2016_copy.shape"
   ]
  },
  {
   "cell_type": "markdown",
   "metadata": {},
   "source": [
    "Соотношение классов:"
   ]
  },
  {
   "cell_type": "code",
   "execution_count": 13,
   "metadata": {
    "collapsed": false
   },
   "outputs": [
    {
     "data": {
      "text/plain": [
       "0     5213\n",
       "-1    2611\n",
       "1     1385\n",
       "Name: label, dtype: int64"
      ]
     },
     "execution_count": 13,
     "metadata": {},
     "output_type": "execute_result"
    }
   ],
   "source": [
    "ttk_train_2016_copy.label.value_counts()"
   ]
  },
  {
   "cell_type": "markdown",
   "metadata": {},
   "source": [
    "Распределение длин сообщений в символах."
   ]
  },
  {
   "cell_type": "code",
   "execution_count": 14,
   "metadata": {
    "collapsed": false
   },
   "outputs": [
    {
     "data": {
      "text/plain": [
       "<matplotlib.axes._subplots.AxesSubplot at 0x7f45a61e8d10>"
      ]
     },
     "execution_count": 14,
     "metadata": {},
     "output_type": "execute_result"
    },
    {
     "data": {
      "image/png": "[encoded data removed]",
      "text/plain": [
       "<matplotlib.figure.Figure at 0x7f45e0f324d0>"
      ]
     },
     "metadata": {},
     "output_type": "display_data"
    }
   ],
   "source": [
    "ttk_train_2016_copy.text.apply(len).hist()"
   ]
  },
  {
   "cell_type": "markdown",
   "metadata": {},
   "source": [
    "Распределение длин сообщений в словах"
   ]
  },
  {
   "cell_type": "code",
   "execution_count": 15,
   "metadata": {
    "collapsed": false
   },
   "outputs": [
    {
     "data": {
      "text/plain": [
       "<matplotlib.axes._subplots.AxesSubplot at 0x7f45acf68510>"
      ]
     },
     "execution_count": 15,
     "metadata": {},
     "output_type": "execute_result"
    },
    {
     "data": {
      "image/png": "[encoded data removed]",
      "text/plain": [
       "<matplotlib.figure.Figure at 0x7f45a6174150>"
      ]
     },
     "metadata": {},
     "output_type": "display_data"
    }
   ],
   "source": [
    "ttk_train_2016_copy.text.apply(lambda s: len(s.split())).hist()"
   ]
  },
  {
   "cell_type": "code",
   "execution_count": 16,
   "metadata": {
    "collapsed": false
   },
   "outputs": [],
   "source": [
    "ttk_train_2016_copy.to_csv('../data/ttk_train.csv', sep='\\t', index=False, encoding='utf-8')"
   ]
  },
  {
   "cell_type": "markdown",
   "metadata": {},
   "source": [
    "---"
   ]
  },
  {
   "cell_type": "code",
   "execution_count": 17,
   "metadata": {
    "collapsed": false
   },
   "outputs": [
    {
     "name": "stderr",
     "output_type": "stream",
     "text": [
      "/home/ilya/.virtualenvs/nlp/lib/python2.7/site-packages/ipykernel/__main__.py:1: DeprecationWarning: This method will be removed in future versions.  Use 'list(elem)' or iteration over elem instead.\n",
      "  if __name__ == '__main__':\n",
      "/home/ilya/.virtualenvs/nlp/lib/python2.7/site-packages/ipykernel/__main__.py:3: DeprecationWarning: This method will be removed in future versions.  Use 'list(elem)' or iteration over elem instead.\n",
      "  app.launch_new_instance()\n",
      "/home/ilya/.virtualenvs/nlp/lib/python2.7/site-packages/ipykernel/__main__.py:5: DeprecationWarning: This method will be removed in future versions.  Use 'list(elem)' or iteration over elem instead.\n"
     ]
    }
   ],
   "source": [
    "ttk_test_2016_xml = xml.etree.ElementTree.parse('../data/tkk_test_etalon.xml').getroot().getchildren()[1]\n",
    "rows = []\n",
    "for row_xml in ttk_test_2016_xml.getchildren():\n",
    "    row = []\n",
    "    for cell in row_xml.getchildren():\n",
    "        row.append(cell.text)\n",
    "    rows.append(row)"
   ]
  },
  {
   "cell_type": "code",
   "execution_count": 18,
   "metadata": {
    "collapsed": true
   },
   "outputs": [],
   "source": [
    "ttk_test_2016 = pd.DataFrame(rows, columns=['id', 'twitid', 'date', 'text'] + ttk_names)"
   ]
  },
  {
   "cell_type": "code",
   "execution_count": 19,
   "metadata": {
    "collapsed": false
   },
   "outputs": [
    {
     "data": {
      "text/html": [
       "<div>\n",
       "<table border=\"1\" class=\"dataframe\">\n",
       "  <thead>\n",
       "    <tr style=\"text-align: right;\">\n",
       "      <th></th>\n",
       "      <th>id</th>\n",
       "      <th>twitid</th>\n",
       "      <th>date</th>\n",
       "      <th>text</th>\n",
       "      <th>beeline</th>\n",
       "      <th>mts</th>\n",
       "      <th>megafon</th>\n",
       "      <th>tele2</th>\n",
       "      <th>rostelecom</th>\n",
       "      <th>komstar</th>\n",
       "      <th>skylink</th>\n",
       "    </tr>\n",
       "  </thead>\n",
       "  <tbody>\n",
       "    <tr>\n",
       "      <th>0</th>\n",
       "      <td>1</td>\n",
       "      <td>615732055842910000</td>\n",
       "      <td>1435636936</td>\n",
       "      <td>RT vzglyad: По делу о работе МТС в Узбекистане...</td>\n",
       "      <td>NULL</td>\n",
       "      <td>-1</td>\n",
       "      <td>NULL</td>\n",
       "      <td>NULL</td>\n",
       "      <td>NULL</td>\n",
       "      <td>NULL</td>\n",
       "      <td>NULL</td>\n",
       "    </tr>\n",
       "    <tr>\n",
       "      <th>1</th>\n",
       "      <td>2</td>\n",
       "      <td>615732353806300000</td>\n",
       "      <td>1435637007</td>\n",
       "      <td>RT @kevinuyatukox: http://t.co/ljtrjq91v3 #Кре...</td>\n",
       "      <td>NULL</td>\n",
       "      <td>NULL</td>\n",
       "      <td>0</td>\n",
       "      <td>NULL</td>\n",
       "      <td>NULL</td>\n",
       "      <td>NULL</td>\n",
       "      <td>NULL</td>\n",
       "    </tr>\n",
       "    <tr>\n",
       "      <th>2</th>\n",
       "      <td>3</td>\n",
       "      <td>615733311873380000</td>\n",
       "      <td>1435637235</td>\n",
       "      <td>#Оформить кредитную карту в банке мтс http://t...</td>\n",
       "      <td>NULL</td>\n",
       "      <td>0</td>\n",
       "      <td>NULL</td>\n",
       "      <td>NULL</td>\n",
       "      <td>NULL</td>\n",
       "      <td>NULL</td>\n",
       "      <td>NULL</td>\n",
       "    </tr>\n",
       "    <tr>\n",
       "      <th>3</th>\n",
       "      <td>4</td>\n",
       "      <td>615734361116270000</td>\n",
       "      <td>1435637486</td>\n",
       "      <td>#Как перевести деньги с билайна на кредитную к...</td>\n",
       "      <td>0</td>\n",
       "      <td>NULL</td>\n",
       "      <td>NULL</td>\n",
       "      <td>NULL</td>\n",
       "      <td>NULL</td>\n",
       "      <td>NULL</td>\n",
       "      <td>NULL</td>\n",
       "    </tr>\n",
       "    <tr>\n",
       "      <th>4</th>\n",
       "      <td>5</td>\n",
       "      <td>615735339219610000</td>\n",
       "      <td>1435637719</td>\n",
       "      <td>#Начальник отдела кредитного контроля оао мтс ...</td>\n",
       "      <td>NULL</td>\n",
       "      <td>0</td>\n",
       "      <td>NULL</td>\n",
       "      <td>NULL</td>\n",
       "      <td>NULL</td>\n",
       "      <td>NULL</td>\n",
       "      <td>NULL</td>\n",
       "    </tr>\n",
       "  </tbody>\n",
       "</table>\n",
       "</div>"
      ],
      "text/plain": [
       "  id              twitid        date  \\\n",
       "0  1  615732055842910000  1435636936   \n",
       "1  2  615732353806300000  1435637007   \n",
       "2  3  615733311873380000  1435637235   \n",
       "3  4  615734361116270000  1435637486   \n",
       "4  5  615735339219610000  1435637719   \n",
       "\n",
       "                                                text beeline   mts megafon  \\\n",
       "0  RT vzglyad: По делу о работе МТС в Узбекистане...    NULL    -1    NULL   \n",
       "1  RT @kevinuyatukox: http://t.co/ljtrjq91v3 #Кре...    NULL  NULL       0   \n",
       "2  #Оформить кредитную карту в банке мтс http://t...    NULL     0    NULL   \n",
       "3  #Как перевести деньги с билайна на кредитную к...       0  NULL    NULL   \n",
       "4  #Начальник отдела кредитного контроля оао мтс ...    NULL     0    NULL   \n",
       "\n",
       "  tele2 rostelecom komstar skylink  \n",
       "0  NULL       NULL    NULL    NULL  \n",
       "1  NULL       NULL    NULL    NULL  \n",
       "2  NULL       NULL    NULL    NULL  \n",
       "3  NULL       NULL    NULL    NULL  \n",
       "4  NULL       NULL    NULL    NULL  "
      ]
     },
     "execution_count": 19,
     "metadata": {},
     "output_type": "execute_result"
    }
   ],
   "source": [
    "ttk_test_2016.head()"
   ]
  },
  {
   "cell_type": "code",
   "execution_count": 20,
   "metadata": {
    "collapsed": false
   },
   "outputs": [
    {
     "data": {
      "text/plain": [
       "(2247, 11)"
      ]
     },
     "execution_count": 20,
     "metadata": {},
     "output_type": "execute_result"
    }
   ],
   "source": [
    "ttk_test_2016.shape"
   ]
  },
  {
   "cell_type": "code",
   "execution_count": 21,
   "metadata": {
    "collapsed": false
   },
   "outputs": [
    {
     "data": {
      "text/html": [
       "<div>\n",
       "<table border=\"1\" class=\"dataframe\">\n",
       "  <thead>\n",
       "    <tr style=\"text-align: right;\">\n",
       "      <th></th>\n",
       "      <th>id</th>\n",
       "      <th>text</th>\n",
       "      <th>label</th>\n",
       "    </tr>\n",
       "  </thead>\n",
       "  <tbody>\n",
       "    <tr>\n",
       "      <th>0</th>\n",
       "      <td>1</td>\n",
       "      <td>RT vzglyad: По делу о работе МТС в Узбекистане...</td>\n",
       "      <td>-1</td>\n",
       "    </tr>\n",
       "    <tr>\n",
       "      <th>1</th>\n",
       "      <td>2</td>\n",
       "      <td>RT @kevinuyatukox: http://t.co/ljtrjq91v3 #Кре...</td>\n",
       "      <td>0</td>\n",
       "    </tr>\n",
       "    <tr>\n",
       "      <th>2</th>\n",
       "      <td>3</td>\n",
       "      <td>#Оформить кредитную карту в банке мтс http://t...</td>\n",
       "      <td>0</td>\n",
       "    </tr>\n",
       "    <tr>\n",
       "      <th>3</th>\n",
       "      <td>4</td>\n",
       "      <td>#Как перевести деньги с билайна на кредитную к...</td>\n",
       "      <td>0</td>\n",
       "    </tr>\n",
       "    <tr>\n",
       "      <th>4</th>\n",
       "      <td>5</td>\n",
       "      <td>#Начальник отдела кредитного контроля оао мтс ...</td>\n",
       "      <td>0</td>\n",
       "    </tr>\n",
       "  </tbody>\n",
       "</table>\n",
       "</div>"
      ],
      "text/plain": [
       "  id                                               text label\n",
       "0  1  RT vzglyad: По делу о работе МТС в Узбекистане...    -1\n",
       "1  2  RT @kevinuyatukox: http://t.co/ljtrjq91v3 #Кре...     0\n",
       "2  3  #Оформить кредитную карту в банке мтс http://t...     0\n",
       "3  4  #Как перевести деньги с билайна на кредитную к...     0\n",
       "4  5  #Начальник отдела кредитного контроля оао мтс ...     0"
      ]
     },
     "execution_count": 21,
     "metadata": {},
     "output_type": "execute_result"
    }
   ],
   "source": [
    "def get_all_labels(row):\n",
    "    vals = row.values\n",
    "    vals = vals[vals != 'NULL']\n",
    "    return ' '.join(vals)\n",
    "\n",
    "ttk_test_2016_copy = ttk_test_2016.copy()\n",
    "ttk_test_2016_copy['labels'] = ttk_test_2016_copy[ttk_names].apply(get_all_labels, axis=1)\n",
    "ttk_test_2016_copy = ttk_test_2016_copy[['id', 'text', 'labels']]\n",
    "\n",
    "lbs = ttk_test_2016_copy['labels'].str.split(' ').apply(pd.Series, 1).stack()\n",
    "lbs.index = lbs.index.droplevel(-1)\n",
    "lbs.name = 'label'\n",
    "del ttk_test_2016_copy['labels']\n",
    "\n",
    "ttk_test_2016_copy = ttk_test_2016_copy.join(lbs)\n",
    "ttk_test_2016_copy.head()"
   ]
  },
  {
   "cell_type": "code",
   "execution_count": 22,
   "metadata": {
    "collapsed": false
   },
   "outputs": [
    {
     "name": "stdout",
     "output_type": "stream",
     "text": [
      "(2460, 3)\n",
      "(2460, 3)\n"
     ]
    }
   ],
   "source": [
    "print ttk_test_2016_copy.shape\n",
    "ttk_test_2016_copy.dropna(inplace=True)\n",
    "print ttk_test_2016_copy.shape"
   ]
  },
  {
   "cell_type": "code",
   "execution_count": 23,
   "metadata": {
    "collapsed": false
   },
   "outputs": [
    {
     "data": {
      "text/plain": [
       "-1    1167\n",
       "0     1062\n",
       "1      231\n",
       "Name: label, dtype: int64"
      ]
     },
     "execution_count": 23,
     "metadata": {},
     "output_type": "execute_result"
    }
   ],
   "source": [
    "ttk_test_2016_copy.label.value_counts()"
   ]
  },
  {
   "cell_type": "code",
   "execution_count": 24,
   "metadata": {
    "collapsed": true
   },
   "outputs": [],
   "source": [
    "ttk_test_2016_copy.to_csv('../data/ttk_test.csv', sep='\\t', index=False, encoding='utf-8')"
   ]
  }
 ],
 "metadata": {
  "kernelspec": {
   "display_name": "Python 2",
   "language": "python",
   "name": "python2"
  },
  "language_info": {
   "codemirror_mode": {
    "name": "ipython",
    "version": 2
   },
   "file_extension": ".py",
   "mimetype": "text/x-python",
   "name": "python",
   "nbconvert_exporter": "python",
   "pygments_lexer": "ipython2",
   "version": "2.7.12"
  }
 },
 "nbformat": 4,
 "nbformat_minor": 1
}
