{
 "cells": [
  {
   "cell_type": "code",
   "execution_count": 4,
   "metadata": {
    "collapsed": true
   },
   "outputs": [],
   "source": [
    "import numpy as np\n",
    "import pandas as pd\n",
    "import cPickle\n",
    "import multiprocessing\n",
    "import matplotlib.pyplot as plt\n",
    "%matplotlib inline\n",
    "from IPython.display import clear_output"
   ]
  },
  {
   "cell_type": "markdown",
   "metadata": {},
   "source": [
    "### Reading tweets"
   ]
  },
  {
   "cell_type": "code",
   "execution_count": 5,
   "metadata": {
    "collapsed": true
   },
   "outputs": [],
   "source": [
    "review_train = pd.read_csv('../data/reviews_train.csv', encoding='utf-8')"
   ]
  },
  {
   "cell_type": "code",
   "execution_count": 6,
   "metadata": {},
   "outputs": [
    {
     "data": {
      "text/html": [
       "<div>\n",
       "<table border=\"1\" class=\"dataframe\">\n",
       "  <thead>\n",
       "    <tr style=\"text-align: right;\">\n",
       "      <th></th>\n",
       "      <th>text</th>\n",
       "      <th>label</th>\n",
       "    </tr>\n",
       "  </thead>\n",
       "  <tbody>\n",
       "    <tr>\n",
       "      <th>0</th>\n",
       "      <td>Хороший магазин для спокойной, неторопливой по...</td>\n",
       "      <td>1</td>\n",
       "    </tr>\n",
       "    <tr>\n",
       "      <th>1</th>\n",
       "      <td>В этом магазине заоблачные цены!!! Например тр...</td>\n",
       "      <td>-1</td>\n",
       "    </tr>\n",
       "    <tr>\n",
       "      <th>2</th>\n",
       "      <td>Всем рекомендую этот ПАБ!!!!Бываем не часто, ...</td>\n",
       "      <td>1</td>\n",
       "    </tr>\n",
       "    <tr>\n",
       "      <th>3</th>\n",
       "      <td>заказал соковыжималку и пылесос борк, позвонил...</td>\n",
       "      <td>1</td>\n",
       "    </tr>\n",
       "    <tr>\n",
       "      <th>4</th>\n",
       "      <td>Принимают заказ.Ждёшь три дня.Доставка не появ...</td>\n",
       "      <td>-1</td>\n",
       "    </tr>\n",
       "  </tbody>\n",
       "</table>\n",
       "</div>"
      ],
      "text/plain": [
       "                                                text  label\n",
       "0  Хороший магазин для спокойной, неторопливой по...      1\n",
       "1  В этом магазине заоблачные цены!!! Например тр...     -1\n",
       "2   Всем рекомендую этот ПАБ!!!!Бываем не часто, ...      1\n",
       "3  заказал соковыжималку и пылесос борк, позвонил...      1\n",
       "4  Принимают заказ.Ждёшь три дня.Доставка не появ...     -1"
      ]
     },
     "execution_count": 6,
     "metadata": {},
     "output_type": "execute_result"
    }
   ],
   "source": [
    "review_train.head()"
   ]
  },
  {
   "cell_type": "code",
   "execution_count": 7,
   "metadata": {
    "collapsed": true
   },
   "outputs": [],
   "source": [
    "texts, labels = review_train.text.values, review_train.label.values"
   ]
  },
  {
   "cell_type": "markdown",
   "metadata": {},
   "source": [
    "### Reading vocabulary and embeddings"
   ]
  },
  {
   "cell_type": "code",
   "execution_count": 8,
   "metadata": {
    "collapsed": true
   },
   "outputs": [],
   "source": [
    "word2id, embeddings = cPickle.load(open('../data/w2v/vectors_l.pkl', 'rb'))\n",
    "# word2id, embeddings = cPickle.load(open('../data/w2v/parkin_vectors.pkl', 'rb'))"
   ]
  },
  {
   "cell_type": "raw",
   "metadata": {},
   "source": [
    "word2id[u'</s>'] = embeddings.shape[0]\n",
    "embeddings = np.concatenate((embeddings, np.zeros((1, embeddings.shape[1]))))"
   ]
  },
  {
   "cell_type": "code",
   "execution_count": 9,
   "metadata": {
    "collapsed": true
   },
   "outputs": [],
   "source": [
    "vocabulary = word2id.keys()\n",
    "eos_id = word2id[u'</s>']"
   ]
  },
  {
   "cell_type": "markdown",
   "metadata": {},
   "source": [
    "### Lemmatizing and replacing words with ids"
   ]
  },
  {
   "cell_type": "code",
   "execution_count": 10,
   "metadata": {},
   "outputs": [
    {
     "name": "stdout",
     "output_type": "stream",
     "text": [
      "Заказывал принтер сетевой по безналичной оплате с доставкой в Самару. Доставили через 4 дня после оплаты. Всем доволен.\n",
      "Заказывал принтер сетевой по безналичной оплате с доставкой в Самару Доставили через дня после оплаты Всем доволен\n",
      "заказывать принтер сетевой по безналичный оплата с доставка в самар доставить через день после оплата весь довольный\n",
      "[5814, 9452, 6700, 17, 30383, 2409, 8, 5692, 2, 7312, 4145, 183, 132, 117, 2409, 11, 2123, 0]\n"
     ]
    }
   ],
   "source": [
    "from nltk.tokenize import RegexpTokenizer\n",
    "import pymorphy2\n",
    "\n",
    "tokenizer = RegexpTokenizer(u'[а-яА-Яa-zA-Z]+')\n",
    "morph = pymorphy2.MorphAnalyzer()\n",
    "\n",
    "def text2seq(text):\n",
    "    tokens_norm = [morph.parse(w)[0].normal_form for w in tokenizer.tokenize(text)]\n",
    "    return [word2id[w] for w in tokens_norm if w in vocabulary] + [eos_id]\n",
    "\n",
    "sample = texts[49]\n",
    "\n",
    "print sample\n",
    "print u' '.join(tokenizer.tokenize(sample))\n",
    "print u' '.join([morph.parse(w)[0].normal_form for w in tokenizer.tokenize(sample)])\n",
    "print text2seq(sample)"
   ]
  },
  {
   "cell_type": "raw",
   "metadata": {},
   "source": [
    "# TODO: adding new words to vocabulary\n",
    "from fuzzywuzzy import fuzz\n",
    "metric = fuzz.ratio\n",
    "if word not in vocabulary:        \n",
    "    max_score = 0\n",
    "    closest_word = vocabulary[0]\n",
    "    for w in vocabulary:\n",
    "        score = metric(word, w)\n",
    "        if score > max_score:\n",
    "            max_score = score\n",
    "            closest_word = w\n",
    "    ..."
   ]
  },
  {
   "cell_type": "raw",
   "metadata": {},
   "source": [
    "%%time\n",
    "pool = multiprocessing.Pool()\n",
    "X = pool.map(text2seq, texts)"
   ]
  },
  {
   "cell_type": "markdown",
   "metadata": {},
   "source": [
    "Dumping"
   ]
  },
  {
   "cell_type": "raw",
   "metadata": {
    "collapsed": true
   },
   "source": [
    "cPickle.dump(X, open('../data/X_review_train.pkl', 'wb'))"
   ]
  },
  {
   "cell_type": "markdown",
   "metadata": {},
   "source": [
    "Loading"
   ]
  },
  {
   "cell_type": "code",
   "execution_count": 11,
   "metadata": {
    "collapsed": true
   },
   "outputs": [],
   "source": [
    "X = cPickle.load(open('../data/X_review_train.pkl', 'rb'))"
   ]
  },
  {
   "cell_type": "markdown",
   "metadata": {},
   "source": [
    "Distribution of sequences' lengths "
   ]
  },
  {
   "cell_type": "code",
   "execution_count": 12,
   "metadata": {},
   "outputs": [
    {
     "data": {
      "image/png": "[encoded data removed]",
      "text/plain": [
       "<matplotlib.figure.Figure at 0x7f3ed3a05d10>"
      ]
     },
     "metadata": {},
     "output_type": "display_data"
    }
   ],
   "source": [
    "length_max = max(map(len, X))\n",
    "plt.hist(map(len, X), bins=length_max);"
   ]
  },
  {
   "cell_type": "markdown",
   "metadata": {},
   "source": [
    "Drop samples with the length > 150"
   ]
  },
  {
   "cell_type": "code",
   "execution_count": 13,
   "metadata": {
    "collapsed": true
   },
   "outputs": [],
   "source": [
    "length_max = 150\n",
    "y = review_train.label.values\n",
    "y = y[np.array(map(len, X)) <= length_max]\n",
    "X = [x for x in X if len(x) <= length_max]"
   ]
  },
  {
   "cell_type": "markdown",
   "metadata": {},
   "source": [
    "### Zero padding"
   ]
  },
  {
   "cell_type": "code",
   "execution_count": 14,
   "metadata": {
    "collapsed": true
   },
   "outputs": [],
   "source": [
    "X = [x + [eos_id]*(length_max - len(x)) for x in X]"
   ]
  },
  {
   "cell_type": "markdown",
   "metadata": {},
   "source": [
    "### Examples"
   ]
  },
  {
   "cell_type": "code",
   "execution_count": 12,
   "metadata": {},
   "outputs": [
    {
     "name": "stdout",
     "output_type": "stream",
     "text": [
      "[65, 869, 43, 2135, 37924, 2799, 11, 1100, 802, 342, 1, 514, 373, 2, 2293, 127, 43, 10, 53, 151, 8, 4434, 7611, 78, 32611, 1038, 9653, 5, 29, 869, 2, 413, 582, 9, 1475, 2, 460, 1270, 1, 10, 7611, 827, 14, 2197, 8122, 11, 1475, 241, 9626, 59, 756, 1, 11, 67, 394, 1270, 704, 703, 5, 162, 35, 1, 48, 35, 96, 151, 133, 9, 57, 382, 9, 3, 637, 68, 194, 1270, 12, 4, 137, 221, 9, 291, 11898, 22, 2, 2332, 115, 43011, 7, 78, 5763, 1, 25, 1131, 1, 2729, 449, 489, 162, 1270, 48, 57, 194, 263, 3205, 5, 29, 869, 103, 48, 11, 172, 0, 0, 0, 0, 0, 0, 0, 0, 0, 0, 0, 0, 0, 0, 0, 0, 0, 0, 0, 0, 0, 0, 0, 0, 0, 0, 0, 0, 0, 0, 0, 0, 0, 0, 0, 0, 0, 0]\n",
      "[2, 7, 869, 15574, 217, 222, 901, 3705, 78611, 206, 197, 6, 2, 413, 645, 15, 206, 429, 197, 222, 5, 62, 21530, 2795, 0, 0, 0, 0, 0, 0, 0, 0, 0, 0, 0, 0, 0, 0, 0, 0, 0, 0, 0, 0, 0, 0, 0, 0, 0, 0, 0, 0, 0, 0, 0, 0, 0, 0, 0, 0, 0, 0, 0, 0, 0, 0, 0, 0, 0, 0, 0, 0, 0, 0, 0, 0, 0, 0, 0, 0, 0, 0, 0, 0, 0, 0, 0, 0, 0, 0, 0, 0, 0, 0, 0, 0, 0, 0, 0, 0, 0, 0, 0, 0, 0, 0, 0, 0, 0, 0, 0, 0, 0, 0, 0, 0, 0, 0, 0, 0, 0, 0, 0, 0, 0, 0, 0, 0, 0, 0, 0, 0, 0, 0, 0, 0, 0, 0, 0, 0, 0, 0, 0, 0, 0, 0, 0, 0, 0, 0]\n",
      "[11, 2400, 29, 20136, 412, 3, 770, 22, 150, 1627, 791, 77, 904, 2649, 10, 350, 49, 31907, 4, 10969, 4, 71725, 1627, 194, 2345, 76, 170, 3530, 7, 377, 8, 7269, 43, 465, 217, 416, 1592, 43, 20136, 4384, 150, 105, 55, 2509, 1211, 33343, 283, 760, 861, 5, 1891, 1, 3, 42, 189, 13, 588, 351, 5094, 0, 0, 0, 0, 0, 0, 0, 0, 0, 0, 0, 0, 0, 0, 0, 0, 0, 0, 0, 0, 0, 0, 0, 0, 0, 0, 0, 0, 0, 0, 0, 0, 0, 0, 0, 0, 0, 0, 0, 0, 0, 0, 0, 0, 0, 0, 0, 0, 0, 0, 0, 0, 0, 0, 0, 0, 0, 0, 0, 0, 0, 0, 0, 0, 0, 0, 0, 0, 0, 0, 0, 0, 0, 0, 0, 0, 0, 0, 0, 0, 0, 0, 0, 0, 0, 0, 0, 0, 0, 0, 0]\n"
     ]
    }
   ],
   "source": [
    "for x in X[:3]:\n",
    "    print x"
   ]
  },
  {
   "cell_type": "markdown",
   "metadata": {},
   "source": [
    "### Split into train and validation sets"
   ]
  },
  {
   "cell_type": "code",
   "execution_count": 13,
   "metadata": {
    "collapsed": true
   },
   "outputs": [],
   "source": [
    "X = np.array(X)"
   ]
  },
  {
   "cell_type": "code",
   "execution_count": 19,
   "metadata": {
    "collapsed": true
   },
   "outputs": [],
   "source": [
    "def cls2probs(cls):\n",
    "    if cls == -1:\n",
    "        return [1.,0.]\n",
    "    else:\n",
    "        return [0.,1.]\n",
    "y = np.array([cls2probs(cls) for cls in y])"
   ]
  },
  {
   "cell_type": "code",
   "execution_count": 15,
   "metadata": {
    "collapsed": true
   },
   "outputs": [],
   "source": [
    "from sklearn.model_selection import train_test_split\n",
    "\n",
    "TEST_SIZE = 0.1\n",
    "\n",
    "X_tr, X_val, y_tr, y_val = train_test_split(X, y, test_size=TEST_SIZE, random_state=40)"
   ]
  },
  {
   "cell_type": "raw",
   "metadata": {},
   "source": [
    "# To use if y is one-dimensional array\n",
    "from collections import Counter\n",
    "\n",
    "print Counter(y_tr)\n",
    "print Counter(y_val)"
   ]
  },
  {
   "cell_type": "code",
   "execution_count": 16,
   "metadata": {},
   "outputs": [
    {
     "name": "stdout",
     "output_type": "stream",
     "text": [
      "Train class frequencies:\t[10840, 42049]\n",
      "Validation class frequencies:\t[1209, 4668]\n",
      "Constant classifier's validation accuracy:\t0.794282797346\n"
     ]
    }
   ],
   "source": [
    "print \"Train class frequencies:\\t\", [col.nonzero()[0].shape[0] for col in y_tr.transpose()]\n",
    "print \"Validation class frequencies:\\t\", [col.nonzero()[0].shape[0] for col in y_val.transpose()]\n",
    "print \"Constant classifier's validation accuracy:\\t\", [col.nonzero()[0].shape[0] for col in y_val.transpose()][1] * 1. / y_val.shape[0]"
   ]
  },
  {
   "cell_type": "markdown",
   "metadata": {},
   "source": [
    "### Resampling"
   ]
  },
  {
   "cell_type": "raw",
   "metadata": {
    "collapsed": true
   },
   "source": [
    "# from imblearn.under_sampling import RandomUnderSampler\n",
    "# rus = RandomUnderSampler()\n",
    "# _y = np.argmax(y_tr, 1) - 1\n",
    "# X_resampled, y_resampled = rus.fit_sample(X_tr, _y)\n",
    "# y_resampled = np.array([cls2probs(cls) for cls in y_resampled])\n",
    "\n",
    "neutral_indices = np.random.choice(np.nonzero(y_tr[:,1])[0], np.nonzero(y_tr[:,0])[0].shape[0], replace=False)\n",
    "negative_indices = np.nonzero(y_tr[:,0])[0]\n",
    "positive_indices = np.nonzero(y_tr[:,2])[0]\n",
    "\n",
    "X_resampled = X_tr[np.concatenate([negative_indices, neutral_indices, positive_indices])]\n",
    "y_resampled = y_tr[np.concatenate([negative_indices, neutral_indices, positive_indices])]"
   ]
  },
  {
   "cell_type": "markdown",
   "metadata": {},
   "source": [
    "# Network learning"
   ]
  },
  {
   "cell_type": "code",
   "execution_count": 17,
   "metadata": {
    "collapsed": true
   },
   "outputs": [],
   "source": [
    "import tensorflow as tf\n",
    "from tensorflow.contrib.rnn import GRUCell\n",
    "from tensorflow.python.ops.rnn import bidirectional_dynamic_rnn as bi_rnn\n",
    "from tensorflow.contrib.layers import fully_connected\n",
    "\n",
    "from utils import *"
   ]
  },
  {
   "cell_type": "code",
   "execution_count": 26,
   "metadata": {},
   "outputs": [
    {
     "ename": "NameError",
     "evalue": "name 'y_val' is not defined",
     "output_type": "error",
     "traceback": [
      "\u001b[0;31m---------------------------------------------------------------------------\u001b[0m",
      "\u001b[0;31mNameError\u001b[0m                                 Traceback (most recent call last)",
      "\u001b[0;32m<ipython-input-26-0275783b34eb>\u001b[0m in \u001b[0;36m<module>\u001b[0;34m()\u001b[0m\n\u001b[1;32m      3\u001b[0m \u001b[0mf_micro\u001b[0m \u001b[0;34m=\u001b[0m \u001b[0;32mlambda\u001b[0m \u001b[0my1\u001b[0m\u001b[0;34m,\u001b[0m \u001b[0my2\u001b[0m\u001b[0;34m:\u001b[0m \u001b[0mf1_score\u001b[0m\u001b[0;34m(\u001b[0m\u001b[0my1\u001b[0m\u001b[0;34m,\u001b[0m \u001b[0my2\u001b[0m\u001b[0;34m,\u001b[0m \u001b[0maverage\u001b[0m\u001b[0;34m=\u001b[0m\u001b[0;34m\"micro\"\u001b[0m\u001b[0;34m)\u001b[0m\u001b[0;34m\u001b[0m\u001b[0m\n\u001b[1;32m      4\u001b[0m \u001b[0;34m\u001b[0m\u001b[0m\n\u001b[0;32m----> 5\u001b[0;31m \u001b[0my_pred_major\u001b[0m \u001b[0;34m=\u001b[0m \u001b[0mnp\u001b[0m\u001b[0;34m.\u001b[0m\u001b[0mzeros\u001b[0m\u001b[0;34m(\u001b[0m\u001b[0my_val\u001b[0m\u001b[0;34m.\u001b[0m\u001b[0mshape\u001b[0m\u001b[0;34m)\u001b[0m\u001b[0;34m\u001b[0m\u001b[0m\n\u001b[0m\u001b[1;32m      6\u001b[0m \u001b[0my_pred_major\u001b[0m\u001b[0;34m[\u001b[0m\u001b[0;34m:\u001b[0m\u001b[0;34m,\u001b[0m\u001b[0;36m1\u001b[0m\u001b[0;34m]\u001b[0m \u001b[0;34m=\u001b[0m \u001b[0;36m1.\u001b[0m\u001b[0;34m\u001b[0m\u001b[0m\n\u001b[1;32m      7\u001b[0m \u001b[0;32mprint\u001b[0m \u001b[0;34m\"Constant classifier's macro-averaged F-score on validation set:\"\u001b[0m\u001b[0;34m,\u001b[0m \u001b[0mf_macro\u001b[0m\u001b[0;34m(\u001b[0m\u001b[0my_val\u001b[0m\u001b[0;34m,\u001b[0m \u001b[0my_pred_major\u001b[0m\u001b[0;34m)\u001b[0m\u001b[0;34m\u001b[0m\u001b[0m\n",
      "\u001b[0;31mNameError\u001b[0m: name 'y_val' is not defined"
     ]
    }
   ],
   "source": [
    "from sklearn.metrics import f1_score\n",
    "f_macro = lambda y1, y2: f1_score(y1, y2, average=\"macro\")\n",
    "f_micro = lambda y1, y2: f1_score(y1, y2, average=\"micro\")\n",
    "\n",
    "y_pred_major = np.zeros(y_val.shape)\n",
    "y_pred_major[:,1] = 1.\n",
    "print \"Constant classifier's macro-averaged F-score on validation set:\", f_macro(y_val, y_pred_major)\n",
    "print \"Constant classifier's micro-averaged F-score on validation set:\", f_micro(y_val, y_pred_major)"
   ]
  },
  {
   "cell_type": "markdown",
   "metadata": {},
   "source": [
    "### Bi-RNN"
   ]
  },
  {
   "cell_type": "code",
   "execution_count": 120,
   "metadata": {
    "collapsed": true,
    "scrolled": true
   },
   "outputs": [],
   "source": [
    "EMBED_DIM = 300\n",
    "HIDDEN_SIZE = 600\n",
    "NUM_CLASSES = 2\n",
    "\n",
    "tf.reset_default_graph()\n",
    "\n",
    "batch_ph   = tf.placeholder(tf.int32, [None, None])\n",
    "target_ph  = tf.placeholder(tf.float32, [None, NUM_CLASSES])\n",
    "seq_len_ph = tf.placeholder(tf.int32, [None])\n",
    "keep_prob_ph = tf.placeholder(tf.float32)\n",
    "\n",
    "embeddings_ph = tf.placeholder(tf.float32, [len(vocabulary), EMBED_DIM])\n",
    "embeddings_var = tf.Variable(tf.constant(0., shape=[len(vocabulary), EMBED_DIM]), trainable=False)\n",
    "init_embeddings = embeddings_var.assign(embeddings_ph)\n",
    "batch_embedded = tf.nn.embedding_lookup(embeddings_var, batch_ph)\n",
    "    \n",
    "# Bi-RNN layers\n",
    "outputs,_ = bi_rnn(GRUCell(HIDDEN_SIZE), GRUCell(HIDDEN_SIZE),\n",
    "                   inputs=batch_embedded,sequence_length=seq_len_ph, dtype=tf.float32, scope=\"bi_rnn1\")  \n",
    "outputs = tf.concat(outputs, 2)\n",
    "# outputs,_ = bi_rnn(GRUCell(HIDDEN_SIZE), GRUCell(HIDDEN_SIZE),\n",
    "#                          inputs=outputs,sequence_length=seq_len_ph, dtype=tf.float32, scope=\"bi_rnn2\")\n",
    "# outputs = tf.concat(outputs, 2)\n",
    "\n",
    "# Last output of Bi-RNN\n",
    "output = outputs[:,0,:]\n",
    "\n",
    "# Dropout\n",
    "drop = tf.nn.dropout(output, keep_prob_ph)\n",
    "\n",
    "# Fully connected layer\n",
    "W = tf.Variable(tf.truncated_normal([HIDDEN_SIZE * 2, NUM_CLASSES], stddev=0.1), name=\"W\")\n",
    "b = tf.Variable(tf.constant(0., shape=[NUM_CLASSES]), name=\"b\")\n",
    "y_hat = tf.nn.xw_plus_b(drop, W, b, name=\"scores\")"
   ]
  },
  {
   "cell_type": "code",
   "execution_count": 121,
   "metadata": {
    "collapsed": true
   },
   "outputs": [],
   "source": [
    "# Adam parameters\n",
    "LEARNING_RATE = 9e-5\n",
    "EPSILON = 1e-5\n",
    "BETA1 = 0.9\n",
    "BETA2 = 0.9\n",
    "# L2 regularization coefficient\n",
    "BETA = 0\n",
    "\n",
    "cross_entropy = tf.reduce_mean(tf.nn.softmax_cross_entropy_with_logits(logits=y_hat, labels=target_ph),\n",
    "                               name=\"cross_entropy\")\n",
    "l2_loss = tf.nn.l2_loss(W, name=\"l2_loss\")\n",
    "loss = cross_entropy + l2_loss * BETA\n",
    "# optimizer = tf.train.AdamOptimizer(learning_rate=LEARNING_RATE, beta1=BETA1, beta2=BETA2,\n",
    "#                                    epsilon=EPSILON).minimize(loss)\n",
    "optimizer = tf.train.MomentumOptimizer(learning_rate=1e-1, momentum=0.1).minimize(loss)\n",
    "accuracy = tf.reduce_mean(tf.cast(tf.equal(tf.argmax(target_ph, 1), tf.argmax(y_hat, 1)), tf.float32))"
   ]
  },
  {
   "cell_type": "code",
   "execution_count": 122,
   "metadata": {},
   "outputs": [
    {
     "name": "stdout",
     "output_type": "stream",
     "text": [
      "epoch: 14\n",
      "\t Train loss: 0.227\t ce: 0.227\t acc: 0.895\t f_macro: 0.810\n",
      "\t Valid loss: 0.236\t ce: 0.236\t acc: 0.890\t f_macro: 0.821\n"
     ]
    },
    {
     "data": {
      "image/png": "[encoded data removed]",
      "text/plain": [
       "<matplotlib.figure.Figure at 0x7f1333a02950>"
      ]
     },
     "metadata": {},
     "output_type": "display_data"
    }
   ],
   "source": [
    "DROPOUT = 0.5  # Probability of keeping a neuron\n",
    "BATCH_SIZE = 256\n",
    "EPOCHS = 15\n",
    "\n",
    "train_batch_generator = batch_generator(X_tr, y_tr, BATCH_SIZE)\n",
    "\n",
    "loss_tr_l = []\n",
    "loss_val_l = []\n",
    "ce_tr_l = []  # Cross-entropy\n",
    "ce_val_l = []\n",
    "acc_tr_l = []  # Accuracy\n",
    "acc_val_l = []\n",
    "f_macro_tr_l = []\n",
    "f_macro_val_l = []\n",
    "f_fair_tr_l = []\n",
    "f_fair_val_l = []\n",
    "max_val_f = 0.\n",
    "\n",
    "with tf.Session() as sess:\n",
    "    sess.run(tf.global_variables_initializer())\n",
    "    sess.run(init_embeddings, feed_dict={embeddings_ph: embeddings})\n",
    "    print \"Start learning...\"\n",
    "    for epoch in range(EPOCHS):\n",
    "        for i in range(int(X_tr.shape[0] / BATCH_SIZE)):\n",
    "            x_batch, y_batch = train_batch_generator.next()\n",
    "            seq_len_tr = np.array([list(x).index(eos_id) + 1 for x in x_batch])\n",
    "            sess.run(optimizer, feed_dict={batch_ph: x_batch, target_ph: y_batch,\n",
    "                                           seq_len_ph: seq_len_tr, keep_prob_ph: DROPOUT})\n",
    "\n",
    "        y_pred_tr, ce_tr, loss_tr, acc_tr = sess.run([y_hat, cross_entropy, loss, accuracy],\n",
    "                                              feed_dict={batch_ph: x_batch, target_ph: y_batch, \n",
    "                                                         seq_len_ph: seq_len_tr, keep_prob_ph: 1.0})\n",
    "\n",
    "        y_pred_val, ce_val, loss_val, acc_val = [], 0, 0, 0\n",
    "        num_val_batches = X_val.shape[0] / BATCH_SIZE\n",
    "        for i in range(num_val_batches):\n",
    "            x_batch_val, y_batch_val = X_val[i * BATCH_SIZE : (i + 1) * BATCH_SIZE],\\\n",
    "                                       y_val[i * BATCH_SIZE : (i + 1) * BATCH_SIZE]\n",
    "            seq_len_val = np.array([list(x).index(eos_id) + 1 for x in x_batch_val])\n",
    "            y_pred_val_, ce_val_, loss_val_, acc_val_ = sess.run([y_hat, cross_entropy, loss, accuracy],\n",
    "                                                         feed_dict={batch_ph: x_batch_val, target_ph: y_batch_val,\n",
    "                                                                    seq_len_ph: seq_len_val, keep_prob_ph: 1.0})\n",
    "            y_pred_val += list(y_pred_val_)\n",
    "            ce_val += ce_val_\n",
    "            loss_val += loss_val_\n",
    "            acc_val += acc_val_\n",
    "\n",
    "        y_pred_val = np.array(y_pred_val)\n",
    "        ce_val /= num_val_batches\n",
    "        loss_val /= num_val_batches\n",
    "        acc_val /= num_val_batches\n",
    "\n",
    "        y_pred_tr = np.array([cls2probs(cls) for cls in np.argmax(y_pred_tr, 1) - 1])\n",
    "        y_pred_val = np.array([cls2probs(cls) for cls in np.argmax(y_pred_val, 1) - 1])\n",
    "        f_macro_tr, f_micro_tr = f_macro(y_batch, y_pred_tr), f_micro(y_batch, y_pred_tr)\n",
    "        f_macro_val, f_micro_val = f_macro(y_val[:num_val_batches * BATCH_SIZE], y_pred_val),\\\n",
    "                                   f_micro(y_val[:num_val_batches * BATCH_SIZE], y_pred_val)\n",
    "\n",
    "\n",
    "        loss_tr_l.append(loss_tr)\n",
    "        loss_val_l.append(loss_val)\n",
    "        ce_tr_l.append(ce_tr)\n",
    "        ce_val_l.append(ce_val)\n",
    "        acc_tr_l.append(acc_tr)\n",
    "        acc_val_l.append(acc_val)\n",
    "        f_macro_tr_l.append(f_macro_tr)\n",
    "        f_macro_val_l.append(f_macro_val)\n",
    "\n",
    "        clear_output(wait=True)\n",
    "        print \"epoch: {}\".format(epoch)\n",
    "        print \"\\t Train loss: {:.3f}\\t ce: {:.3f}\\t acc: {:.3f}\\t f_macro: {:.3f}\".format(\n",
    "            loss_tr, ce_tr, acc_tr, f_macro_tr)\n",
    "        print \"\\t Valid loss: {:.3f}\\t ce: {:.3f}\\t acc: {:.3f}\\t f_macro: {:.3f}\".format(\n",
    "            loss_val, ce_val, acc_val, f_macro_val)\n",
    "\n",
    "        plt.figure(figsize=(15,10))\n",
    "        plt.plot(ce_tr_l, color='blue', label='ce_tr')\n",
    "        plt.plot(ce_val_l, color='red', label='ce_val')        \n",
    "        plt.plot(f_macro_val_l, color='green', label='f_macro_val')\n",
    "        plt.xlim(0, EPOCHS - 1)\n",
    "        plt.ylim(0, 1)\n",
    "        plt.legend()\n",
    "        plt.show()\n",
    "        \n",
    "    results = [acc_val, f_macro_val]\n",
    "\n",
    "    saver = tf.train.Saver() \n",
    "    saver.save(sess, 'model')"
   ]
  },
  {
   "cell_type": "code",
   "execution_count": 123,
   "metadata": {},
   "outputs": [
    {
     "data": {
      "text/plain": [
       "[0.88991477272727271, 0.82141921969101861]"
      ]
     },
     "execution_count": 123,
     "metadata": {},
     "output_type": "execute_result"
    }
   ],
   "source": [
    "results"
   ]
  },
  {
   "cell_type": "markdown",
   "metadata": {},
   "source": [
    "---"
   ]
  },
  {
   "cell_type": "markdown",
   "metadata": {},
   "source": [
    "### Bi-RNN with Attention mechanism"
   ]
  },
  {
   "cell_type": "markdown",
   "metadata": {},
   "source": [
    "Attention mechanism formulas and notation\n",
    "$$\n",
    "\\upsilon_{t}=\\tanh{(W_{\\omega}\\left[\\overrightarrow{h_{t}},\\overleftarrow{h_{t}}\\right]+b_{\\omega})}\\\\\n",
    "\\alpha_{t}=\\frac{\\exp{(\\upsilon_{t}^{T}u_{\\omega})}}{\\sum_{j=1}^{T}\\exp{(\\upsilon_{j}^{T}u_{\\omega})}}\\\\\n",
    "\\upsilon=\\sum_{t=1}^{T}\\alpha_{t}h_{t}\t\n",
    "$$"
   ]
  },
  {
   "cell_type": "code",
   "execution_count": 19,
   "metadata": {
    "collapsed": true
   },
   "outputs": [],
   "source": [
    "EMBED_DIM = 300\n",
    "SEQ_LENGTH = length_max\n",
    "HIDDEN_SIZE = 600\n",
    "ATTENTION_SIZE = 100\n",
    "NUM_CLASSES = 2\n",
    "\n",
    "tf.reset_default_graph()\n",
    "\n",
    "batch_ph   = tf.placeholder(tf.int32, [None, SEQ_LENGTH])\n",
    "target_ph  = tf.placeholder(tf.float32, [None, NUM_CLASSES])\n",
    "seq_len_ph = tf.placeholder(tf.int32, [None])\n",
    "keep_prob_ph = tf.placeholder(tf.float32)\n",
    "\n",
    "embeddings_ph = tf.placeholder(tf.float32, [len(vocabulary), EMBED_DIM])\n",
    "embeddings_var = tf.Variable(tf.constant(0., shape=[len(vocabulary), EMBED_DIM]), trainable=False)\n",
    "init_embeddings = embeddings_var.assign(embeddings_ph)\n",
    "\n",
    "batch_embedded = tf.nn.embedding_lookup(embeddings_var, batch_ph)\n",
    "\n",
    "# Bi-RNN layers\n",
    "outputs,_ = bi_rnn(GRUCell(HIDDEN_SIZE), GRUCell(HIDDEN_SIZE),\n",
    "                   inputs=batch_embedded,sequence_length=seq_len_ph, dtype=tf.float32, scope=\"bi_rnn1\")  \n",
    "outputs = tf.concat(outputs, 2)\n",
    "# outputs,_ = bi_rnn(GRUCell(HIDDEN_SIZE), GRUCell(HIDDEN_SIZE),\n",
    "#                          inputs=outputs,sequence_length=seq_len_ph, dtype=tf.float32, scope=\"bi_rnn2\")\n",
    "# outputs = tf.concat(outputs, 2)\n",
    "\n",
    "# Attention mechanism\n",
    "W_omega = tf.Variable(tf.random_normal([2 * HIDDEN_SIZE, ATTENTION_SIZE], stddev=0.1))\n",
    "b_omega = tf.Variable(tf.random_normal([ATTENTION_SIZE], stddev=0.1))\n",
    "u_omega = tf.Variable(tf.random_normal([ATTENTION_SIZE], stddev=0.1))\n",
    "\n",
    "v = tf.tanh(tf.matmul(tf.reshape(outputs, [-1, 2 * HIDDEN_SIZE]), W_omega) + tf.reshape(b_omega, [1, -1]))\n",
    "vu = tf.matmul(v, tf.reshape(u_omega, [-1, 1]))\n",
    "exps = tf.reshape(tf.exp(vu), [-1, SEQ_LENGTH])\n",
    "alphas = exps / tf.reshape(tf.reduce_sum(exps, 1), [-1, 1])\n",
    "\n",
    "# Output of Bi-RNN reduced with attention vector\n",
    "output = tf.reduce_sum(outputs * tf.reshape(alphas, [-1, SEQ_LENGTH, 1]), 1)\n",
    "\n",
    "# Dropout\n",
    "drop = tf.nn.dropout(output, keep_prob_ph)\n",
    "\n",
    "# Fully connected layer\n",
    "W = tf.Variable(tf.truncated_normal([HIDDEN_SIZE * 2, NUM_CLASSES], stddev=0.1), name=\"W\")\n",
    "b = tf.Variable(tf.constant(0., shape=[NUM_CLASSES]), name=\"b\")\n",
    "y_hat = tf.nn.xw_plus_b(drop, W, b, name=\"scores\")"
   ]
  },
  {
   "cell_type": "code",
   "execution_count": 20,
   "metadata": {
    "collapsed": true
   },
   "outputs": [],
   "source": [
    "# Adam parameters\n",
    "LEARNING_RATE = 1e-1\n",
    "EPSILON = 1e-5\n",
    "BETA1 = 0.9\n",
    "BETA2 = 0.9\n",
    "# L2 regularization coefficient\n",
    "BETA = 0\n",
    "\n",
    "cross_entropy = tf.reduce_mean(tf.nn.softmax_cross_entropy_with_logits(labels=target_ph, logits=y_hat), name=\"cross_entropy\")\n",
    "l2_loss = tf.nn.l2_loss(W, name=\"l2_loss\")\n",
    "loss = cross_entropy + l2_loss * BETA\n",
    "# optimizer = tf.train.AdamOptimizer(learning_rate=LEARNING_RATE, beta1=BETA1, beta2=BETA2,\n",
    "#                                    epsilon=EPSILON).minimize(loss)\n",
    "# optimizer = tf.train.AdadeltaOptimizer(learning_rate=LEARNING_RATE, rho=0.7).minimize(loss)\n",
    "# optimizer = tf.train.AdagradOptimizer(learning_rate=LEARNING_RATE, initial_accumulator_value=0.1).minimize(loss)\n",
    "optimizer = tf.train.MomentumOptimizer(learning_rate=LEARNING_RATE, momentum=0.1).minimize(loss)\n",
    "# optimizer = tf.train.RMSPropOptimizer(learning_rate=LEARNING_RATE, decay=0.9, momentum=0.1).minimize(loss)\n",
    "\n",
    "accuracy = tf.reduce_mean(tf.cast(tf.equal(tf.argmax(target_ph, 1), tf.argmax(y_hat, 1)), tf.float32))"
   ]
  },
  {
   "cell_type": "code",
   "execution_count": 21,
   "metadata": {},
   "outputs": [
    {
     "name": "stdout",
     "output_type": "stream",
     "text": [
      "epoch: 14\n",
      "\t Train loss: 0.223\t ce: 0.223\t acc: 0.918\t f_macro: 0.870\n",
      "\t Valid loss: 0.227\t ce: 0.227\t acc: 0.892\t f_macro: 0.832\n"
     ]
    },
    {
     "data": {
      "image/png": "[encoded data removed]",
      "text/plain": [
       "<matplotlib.figure.Figure at 0x7fa8ac1b3350>"
      ]
     },
     "metadata": {},
     "output_type": "display_data"
    }
   ],
   "source": [
    "DROPOUT = 0.5  # Probability of keeping a neuron\n",
    "BATCH_SIZE = 256\n",
    "EPOCHS = 15\n",
    "\n",
    "train_batch_generator = batch_generator(X_tr, y_tr, BATCH_SIZE)\n",
    "\n",
    "loss_tr_l = []\n",
    "loss_val_l = []\n",
    "ce_tr_l = []  # Cross-entropy\n",
    "ce_val_l = []\n",
    "acc_tr_l = []  # Accuracy\n",
    "acc_val_l = []\n",
    "f_macro_tr_l = []\n",
    "f_macro_val_l = []\n",
    "f_fair_tr_l = []\n",
    "f_fair_val_l = []\n",
    "max_val_f = 0.\n",
    "\n",
    "with tf.Session() as sess:\n",
    "    sess.run(tf.global_variables_initializer())\n",
    "    sess.run(init_embeddings, feed_dict={embeddings_ph: embeddings})\n",
    "    print \"Start learning...\"\n",
    "    for epoch in range(EPOCHS):\n",
    "        for i in range(int(X_tr.shape[0] / BATCH_SIZE)):\n",
    "            x_batch, y_batch = train_batch_generator.next()\n",
    "            seq_len_tr = np.array([list(x).index(eos_id) + 1 for x in x_batch])\n",
    "            sess.run(optimizer, feed_dict={batch_ph: x_batch, target_ph: y_batch,\n",
    "                                           seq_len_ph: seq_len_tr, keep_prob_ph: DROPOUT})\n",
    "\n",
    "        y_pred_tr, ce_tr, loss_tr, acc_tr = sess.run([y_hat, cross_entropy, loss, accuracy],\n",
    "                                              feed_dict={batch_ph: x_batch, target_ph: y_batch, \n",
    "                                                         seq_len_ph: seq_len_tr, keep_prob_ph: 1.0})\n",
    "\n",
    "        y_pred_val, ce_val, loss_val, acc_val = [], 0, 0, 0\n",
    "        num_val_batches = X_val.shape[0] / BATCH_SIZE\n",
    "        for i in range(num_val_batches):\n",
    "            x_batch_val, y_batch_val = X_val[i * BATCH_SIZE : (i + 1) * BATCH_SIZE],\\\n",
    "                                       y_val[i * BATCH_SIZE : (i + 1) * BATCH_SIZE]\n",
    "            seq_len_val = np.array([list(x).index(eos_id) + 1 for x in x_batch_val])\n",
    "            y_pred_val_, ce_val_, loss_val_, acc_val_ = sess.run([y_hat, cross_entropy, loss, accuracy],\n",
    "                                                         feed_dict={batch_ph: x_batch_val, target_ph: y_batch_val,\n",
    "                                                                    seq_len_ph: seq_len_val, keep_prob_ph: 1.0})\n",
    "            y_pred_val += list(y_pred_val_)\n",
    "            ce_val += ce_val_\n",
    "            loss_val += loss_val_\n",
    "            acc_val += acc_val_\n",
    "\n",
    "        y_pred_val = np.array(y_pred_val)\n",
    "        ce_val /= num_val_batches\n",
    "        loss_val /= num_val_batches\n",
    "        acc_val /= num_val_batches\n",
    "\n",
    "        y_pred_tr = np.array([cls2probs(cls) for cls in np.argmax(y_pred_tr, 1) - 1])\n",
    "        y_pred_val = np.array([cls2probs(cls) for cls in np.argmax(y_pred_val, 1) - 1])\n",
    "        f_macro_tr, f_micro_tr = f_macro(y_batch, y_pred_tr), f_micro(y_batch, y_pred_tr)\n",
    "        f_macro_val, f_micro_val = f_macro(y_val[:num_val_batches * BATCH_SIZE], y_pred_val),\\\n",
    "                                   f_micro(y_val[:num_val_batches * BATCH_SIZE], y_pred_val)\n",
    "\n",
    "\n",
    "        loss_tr_l.append(loss_tr)\n",
    "        loss_val_l.append(loss_val)\n",
    "        ce_tr_l.append(ce_tr)\n",
    "        ce_val_l.append(ce_val)\n",
    "        acc_tr_l.append(acc_tr)\n",
    "        acc_val_l.append(acc_val)\n",
    "        f_macro_tr_l.append(f_macro_tr)\n",
    "        f_macro_val_l.append(f_macro_val)\n",
    "\n",
    "        clear_output(wait=True)\n",
    "        print \"epoch: {}\".format(epoch)\n",
    "        print \"\\t Train loss: {:.3f}\\t ce: {:.3f}\\t acc: {:.3f}\\t f_macro: {:.3f}\".format(\n",
    "            loss_tr, ce_tr, acc_tr, f_macro_tr)\n",
    "        print \"\\t Valid loss: {:.3f}\\t ce: {:.3f}\\t acc: {:.3f}\\t f_macro: {:.3f}\".format(\n",
    "            loss_val, ce_val, acc_val, f_macro_val)\n",
    "\n",
    "        plt.figure(figsize=(15,10))\n",
    "        plt.plot(ce_tr_l, color='blue', label='ce_tr')\n",
    "        plt.plot(ce_val_l, color='red', label='ce_val')        \n",
    "        plt.plot(f_macro_val_l, color='green', label='f_macro_val')\n",
    "        plt.xlim(0, EPOCHS - 1)\n",
    "        plt.ylim(0, 1)\n",
    "        plt.legend()\n",
    "        plt.show()\n",
    "        \n",
    "    results = [acc_val, f_macro_val]\n",
    "\n",
    "    saver = tf.train.Saver() \n",
    "    saver.save(sess, 'model_att')"
   ]
  },
  {
   "cell_type": "code",
   "execution_count": 22,
   "metadata": {},
   "outputs": [
    {
     "data": {
      "text/plain": [
       "[0.89186789772727271, 0.83238913535332038]"
      ]
     },
     "execution_count": 22,
     "metadata": {},
     "output_type": "execute_result"
    }
   ],
   "source": [
    "results"
   ]
  },
  {
   "cell_type": "markdown",
   "metadata": {},
   "source": [
    "---"
   ]
  },
  {
   "cell_type": "markdown",
   "metadata": {},
   "source": [
    "---"
   ]
  },
  {
   "cell_type": "markdown",
   "metadata": {},
   "source": [
    "---"
   ]
  },
  {
   "cell_type": "markdown",
   "metadata": {},
   "source": [
    "# Testing"
   ]
  },
  {
   "cell_type": "code",
   "execution_count": 20,
   "metadata": {},
   "outputs": [],
   "source": [
    "review_test = pd.read_csv('../data/reviews_test.csv', sep=',', encoding='utf-8')\n",
    "texts_test, labels_test = review_test.text.values, review_test.label.values"
   ]
  },
  {
   "cell_type": "raw",
   "metadata": {},
   "source": [
    "%%time\n",
    "pool = multiprocessing.Pool()\n",
    "X_test = pool.map(text2seq, texts_test)\n",
    "cPickle.dump(X_test, open('../data/X_reviews_test.pkl', 'wb'))"
   ]
  },
  {
   "cell_type": "code",
   "execution_count": 21,
   "metadata": {
    "collapsed": true
   },
   "outputs": [],
   "source": [
    "X_test = cPickle.load(open('../data/X_reviews_test.pkl', 'rb'))"
   ]
  },
  {
   "cell_type": "code",
   "execution_count": 22,
   "metadata": {},
   "outputs": [],
   "source": [
    "X_test = [x[:length_max - 1] for x in X_test]\n",
    "X_test = [x + [eos_id]*(length_max - len(x)) for x in X_test]\n",
    "X_test = np.array(X_test)\n",
    "y_test = np.array([cls2probs(cls) for cls in labels_test])"
   ]
  },
  {
   "cell_type": "code",
   "execution_count": 23,
   "metadata": {},
   "outputs": [
    {
     "data": {
      "text/plain": [
       "((14784, 150), (14784, 2))"
      ]
     },
     "execution_count": 23,
     "metadata": {},
     "output_type": "execute_result"
    }
   ],
   "source": [
    "X_test.shape, y_test.shape"
   ]
  },
  {
   "cell_type": "code",
   "execution_count": 27,
   "metadata": {},
   "outputs": [
    {
     "name": "stdout",
     "output_type": "stream",
     "text": [
      "Constant classifier's test accuracy:\t0.793695887446\n",
      "Constant classifier's macro-averaged F-score on validation set: 0.4424918923\n"
     ]
    },
    {
     "name": "stderr",
     "output_type": "stream",
     "text": [
      "/home/ilivans/.virtualenvs/cmn/local/lib/python2.7/site-packages/sklearn/metrics/classification.py:1113: UndefinedMetricWarning: F-score is ill-defined and being set to 0.0 in labels with no predicted samples.\n",
      "  'precision', 'predicted', average, warn_for)\n"
     ]
    }
   ],
   "source": [
    "print \"Constant classifier's test accuracy:\\t\", [col.nonzero()[0].shape[0] for col in y_test.transpose()][1] * 1. / y_test.shape[0]\n",
    "y_pred_major = np.zeros(y_test.shape)\n",
    "y_pred_major[:,1] = 1.\n",
    "print \"Constant classifier's macro-averaged F-score on validation set:\", f_macro(y_test, y_pred_major)"
   ]
  },
  {
   "cell_type": "code",
   "execution_count": 27,
   "metadata": {
    "collapsed": true
   },
   "outputs": [],
   "source": [
    "with tf.Session() as sess:\n",
    "    new_saver = tf.train.import_meta_graph('model_att.meta')\n",
    "    new_saver.restore(sess, tf.train.latest_checkpoint('./'))\n",
    "\n",
    "    y_pred_test, ce_test, loss_test, acc_test = [], 0, 0, 0\n",
    "    num_test_batches = X_test.shape[0] / BATCH_SIZE\n",
    "    for i in range(num_test_batches):\n",
    "        x_batch_test, y_batch_test = X_test[i * BATCH_SIZE : (i + 1) * BATCH_SIZE],\\\n",
    "                                   y_test[i * BATCH_SIZE : (i + 1) * BATCH_SIZE]\n",
    "        seq_len_test = np.array([list(x).index(eos_id) + 1 for x in x_batch_test])\n",
    "        y_pred_test_, ce_test_, loss_test_, acc_test_ = sess.run([y_hat, cross_entropy, loss, accuracy],\n",
    "                                                     feed_dict={batch_ph: x_batch_test, target_ph: y_batch_test,\n",
    "                                                                seq_len_ph: seq_len_test, keep_prob_ph: 1.0})\n",
    "        y_pred_test += list(y_pred_test_)\n",
    "        ce_test += ce_test_\n",
    "        loss_test += loss_test_\n",
    "        acc_test += acc_test_\n",
    "\n",
    "    y_pred_test = np.array(y_pred_test)\n",
    "    ce_test /= num_test_batches\n",
    "    loss_test /= num_test_batches\n",
    "    acc_test /= num_test_batches"
   ]
  },
  {
   "cell_type": "code",
   "execution_count": 28,
   "metadata": {},
   "outputs": [
    {
     "name": "stdout",
     "output_type": "stream",
     "text": [
      "0.894188596491 0.837713442744\n"
     ]
    }
   ],
   "source": [
    "y_pred_test = np.array([cls2probs(cls) for cls in np.argmax(y_pred_test, 1) - 1])\n",
    "f_macro_test = f_macro(y_test[:num_test_batches * BATCH_SIZE], y_pred_test)\n",
    "print acc_test, f_macro_test"
   ]
  },
  {
   "cell_type": "markdown",
   "metadata": {
    "collapsed": true
   },
   "source": [
    "---"
   ]
  },
  {
   "cell_type": "markdown",
   "metadata": {},
   "source": [
    "## Attention weights"
   ]
  },
  {
   "cell_type": "code",
   "execution_count": 59,
   "metadata": {
    "collapsed": true
   },
   "outputs": [],
   "source": [
    "id2word = {}\n",
    "for word, word_id in word2id.iteritems():\n",
    "    id2word[word_id] = word"
   ]
  },
  {
   "cell_type": "code",
   "execution_count": 84,
   "metadata": {},
   "outputs": [
    {
     "name": "stdout",
     "output_type": "stream",
     "text": [
      "заведение вполне приличный кухня хороший но маловато выбор зато с напиток никакой проблема выбор нет много сорт пиво и другой более крепкий напиток из минус можно сказать только черезмерный громкость живой музыка по выходной сосед не слышный нравиться отзыв </s> </s> </s> </s> </s> </s> </s> </s> </s> </s> </s> </s> </s> </s> </s> </s> </s> </s> </s> </s> </s> </s> </s> </s> </s> </s> </s> </s> </s> </s> </s> </s> </s> </s> </s> </s> </s> </s> </s> </s> </s> </s> </s> </s> </s> </s> </s> </s> </s> </s> </s> </s> </s> </s> </s> </s> </s> </s> </s> </s> </s> </s> </s> </s> </s> </s> </s> </s> </s> </s> </s> </s> </s> </s> </s> </s> </s> </s> </s> </s> </s> </s> </s> </s> </s> </s> </s> </s> </s> </s> </s> </s> </s> </s> </s> </s> </s> </s> </s> </s> </s> </s> </s> </s> </s> </s> </s> </s> </s> </s> </s>\n"
     ]
    }
   ],
   "source": [
    "print \" \".join(map(id2word.get, X_test[20]))"
   ]
  },
  {
   "cell_type": "code",
   "execution_count": 86,
   "metadata": {},
   "outputs": [
    {
     "name": "stdout",
     "output_type": "stream",
     "text": [
      "Заведение вполне приличное, кухня хорошая, но маловато выбора, зато с напитками никакой проблемы выбора нет!! много сортов пива и других более крепких напитков. из минусов можно сказать только черезмерная громкость живой музыки по выходным. соседа не слышно.... \n"
     ]
    }
   ],
   "source": [
    "sentence = u\"Заведение вполне приличное, кухня хорошая, но маловато выбора, зато с напитками никакой проблемы выбора нет!! много сортов пива и других более крепких напитков. из минусов можно сказать только черезмерная громкость живой музыки по выходным. соседа не слышно.... \"\n",
    "print sentence"
   ]
  },
  {
   "cell_type": "code",
   "execution_count": 88,
   "metadata": {
    "collapsed": true
   },
   "outputs": [],
   "source": [
    "with tf.Session() as sess:\n",
    "    new_saver = tf.train.import_meta_graph('model_att.meta')\n",
    "    new_saver.restore(sess, tf.train.latest_checkpoint('./'))\n",
    "    x_batch_test, y_batch_test = X_test[20:21], y_test[20:21]\n",
    "    seq_len_test = np.array([list(x).index(eos_id) + 1 for x in x_batch_test])\n",
    "    y_pred_test, alphas_test = sess.run([y_hat, alphas],\n",
    "                                                 feed_dict={batch_ph: x_batch_test, target_ph: y_batch_test,\n",
    "                                                            seq_len_ph: seq_len_test, keep_prob_ph: 1.0})"
   ]
  },
  {
   "cell_type": "code",
   "execution_count": 89,
   "metadata": {},
   "outputs": [
    {
     "data": {
      "text/plain": [
       "array([[-1.1794126,  0.9992699]], dtype=float32)"
      ]
     },
     "execution_count": 89,
     "metadata": {},
     "output_type": "execute_result"
    }
   ],
   "source": [
    "y_pred_test"
   ]
  },
  {
   "cell_type": "code",
   "execution_count": 119,
   "metadata": {},
   "outputs": [
    {
     "name": "stdout",
     "output_type": "stream",
     "text": [
      "\\colorbox{yellow!14}{Заведение}\n",
      "\\colorbox{yellow!41}{вполне}\n",
      "\\colorbox{yellow!62}{приличное,}\n",
      "\\colorbox{yellow!78}{кухня}\n",
      "\\colorbox{yellow!99}{хорошая,}\n",
      "\\colorbox{yellow!27}{но}\n",
      "\\colorbox{yellow!25}{маловато}\n",
      "\\colorbox{yellow!11}{выбора,}\n",
      "\\colorbox{yellow!8}{зато}\n",
      "\\colorbox{yellow!2}{с}\n",
      "\\colorbox{yellow!2}{напитками}\n",
      "\\colorbox{yellow!2}{никакой}\n",
      "\\colorbox{yellow!2}{проблемы}\n",
      "\\colorbox{yellow!3}{выбора}\n",
      "\\colorbox{yellow!2}{нет!!}\n",
      "\\colorbox{yellow!2}{много}\n",
      "\\colorbox{yellow!2}{сортов}\n",
      "\\colorbox{yellow!2}{пива}\n",
      "\\colorbox{yellow!3}{и}\n",
      "\\colorbox{yellow!2}{других}\n",
      "\\colorbox{yellow!1}{более}\n",
      "\\colorbox{yellow!2}{крепких}\n",
      "\\colorbox{yellow!1}{напитков.}\n",
      "\\colorbox{yellow!1}{из}\n",
      "\\colorbox{yellow!3}{минусов}\n",
      "\\colorbox{yellow!3}{можно}\n",
      "\\colorbox{yellow!4}{сказать}\n",
      "\\colorbox{yellow!4}{только}\n",
      "\\colorbox{yellow!10}{черезмерная}\n",
      "\\colorbox{yellow!8}{громкость}\n",
      "\\colorbox{yellow!12}{живой}\n",
      "\\colorbox{yellow!8}{музыки}\n",
      "\\colorbox{yellow!4}{по}\n",
      "\\colorbox{yellow!5}{выходным.}\n",
      "\\colorbox{yellow!6}{соседа}\n",
      "\\colorbox{yellow!11}{не}\n",
      "\\colorbox{yellow!11}{слышно....}\n"
     ]
    }
   ],
   "source": [
    "for word, coef in zip(sentence.split()[:37], alphas_test[0,:37] * 1000 / 1.7):\n",
    "    print \"\\colorbox{yellow!%d}{%s}\" % (int(coef), word)"
   ]
  },
  {
   "cell_type": "code",
   "execution_count": null,
   "metadata": {
    "collapsed": true
   },
   "outputs": [],
   "source": []
  },
  {
   "cell_type": "code",
   "execution_count": null,
   "metadata": {
    "collapsed": true
   },
   "outputs": [],
   "source": []
  },
  {
   "cell_type": "code",
   "execution_count": null,
   "metadata": {
    "collapsed": true
   },
   "outputs": [],
   "source": []
  },
  {
   "cell_type": "code",
   "execution_count": null,
   "metadata": {
    "collapsed": true
   },
   "outputs": [],
   "source": []
  },
  {
   "cell_type": "code",
   "execution_count": null,
   "metadata": {
    "collapsed": true
   },
   "outputs": [],
   "source": []
  },
  {
   "cell_type": "code",
   "execution_count": null,
   "metadata": {
    "collapsed": true
   },
   "outputs": [],
   "source": []
  }
 ],
 "metadata": {
  "kernelspec": {
   "display_name": "Python 2",
   "language": "python",
   "name": "python2"
  },
  "language_info": {
   "codemirror_mode": {
    "name": "ipython",
    "version": 2
   },
   "file_extension": ".py",
   "mimetype": "text/x-python",
   "name": "python",
   "nbconvert_exporter": "python",
   "pygments_lexer": "ipython2",
   "version": "2.7.12"
  }
 },
 "nbformat": 4,
 "nbformat_minor": 1
}
