{
 "cells": [
  {
   "cell_type": "code",
   "execution_count": 1,
   "metadata": {
    "collapsed": false
   },
   "outputs": [],
   "source": [
    "import pandas as pd\n",
    "from TwitterSearch import *"
   ]
  },
  {
   "cell_type": "code",
   "execution_count": 2,
   "metadata": {
    "collapsed": false,
    "scrolled": false
   },
   "outputs": [],
   "source": [
    "KEY_WORDS = ('сбербанк', 'sberbank', 'втб', 'vtb', 'газпромбанк', 'gazprombank', 'альфабанк', 'alfabank',\n",
    "             'райффайзен', 'raiffeisen', 'райффайзенбанк', 'raiffeisenbank', 'уралсиб', 'uralsib',\n",
    "             'рсхб', 'rshb', 'россельхозбанк',\n",
    "             'rshbmedia', 'raiffeisen_ru', 'uralsib_krd')\n",
    "\n",
    "bases = set()\n",
    "texts = list()\n",
    "cur_tweet_id = 10e30\n",
    "min_tweet_id = 0\n",
    "max_tweet_id = int(cur_tweet_id)\n",
    "response_id = 0\n",
    "\n",
    "ts = TwitterSearch(\n",
    "            consumer_key = '9pZzMqCZss66blrPuMRqsUVxz',\n",
    "            consumer_secret = 'TSiOrPqKDZWi5G7AEVUpHh4eKQJ7j8IHrkv08aN3vr9L7JiciS',\n",
    "            access_token = '4558856717-jRUboGPQzgHn83ikdSIX5p6a4rkFimPxbOiTzbm',\n",
    "            access_token_secret = 'cmp8KIF0zIgJzD7AfZdeJiauUNWnoqR8VtwdDB2eAyyUK'\n",
    "         )"
   ]
  },
  {
   "cell_type": "code",
   "execution_count": 3,
   "metadata": {
    "collapsed": true
   },
   "outputs": [],
   "source": [
    "def contains_keyword(text, key_words):\n",
    "    text_lower = text.lower()\n",
    "    for w in key_words:\n",
    "        if w in text_lower:\n",
    "            return True\n",
    "    return False\n",
    "\n",
    "def extract_base(text):\n",
    "    tokens = text.strip().split()\n",
    "    tokens = filter(lambda t: not (t.startswith('@') or t.startswith('#') or t.startswith('https://t.co') or t == 'RT'), tokens)\n",
    "    basis = ' '.join(tokens)\n",
    "    return basis"
   ]
  },
  {
   "cell_type": "code",
   "execution_count": 4,
   "metadata": {
    "collapsed": false
   },
   "outputs": [],
   "source": [
    "df = pd.read_excel('8390.xls', encoding='utf-8')\n",
    "min_tweet_id = df.tweet_id.max()\n",
    "bases = set(map(extract_base, df.text.values))"
   ]
  },
  {
   "cell_type": "code",
   "execution_count": 5,
   "metadata": {
    "collapsed": false,
    "scrolled": true
   },
   "outputs": [
    {
     "name": "stdout",
     "output_type": "stream",
     "text": [
      "Request #0, texts 63\n",
      "Request #1, texts 119\n",
      "Request #2, texts 164\n",
      "Request #3, texts 210\n",
      "Request #4, texts 255\n",
      "Request #5, texts 296\n",
      "Request #6, texts 329\n",
      "Request #7, texts 389\n",
      "Request #8, texts 450\n",
      "Request #9, texts 502\n",
      "Request #10, texts 555\n",
      "Request #11, texts 595\n",
      "Request #12, texts 622\n",
      "Request #13, texts 655\n",
      "Request #14, texts 705\n",
      "Request #15, texts 760\n",
      "Request #16, texts 802\n",
      "Request #17, texts 844\n",
      "Request #18, texts 882\n",
      "Request #19, texts 926\n",
      "Request #20, texts 971\n",
      "Request #21, texts 1013\n",
      "Request #22, texts 1046\n",
      "Request #23, texts 1074\n",
      "Request #24, texts 1097\n",
      "Request #25, texts 1118\n",
      "Request #26, texts 1159\n",
      "Request #27, texts 1202\n",
      "Request #28, texts 1233\n",
      "Request #29, texts 1259\n",
      "Request #30, texts 1294\n",
      "Request #31, texts 1335\n",
      "Request #32, texts 1383\n",
      "Request #33, texts 1437\n",
      "Request #34, texts 1497\n",
      "Request #35, texts 1546\n",
      "Request #36, texts 1576\n",
      "Request #37, texts 1608\n",
      "Request #38, texts 1641\n",
      "Request #39, texts 1685\n",
      "Request #40, texts 1728\n",
      "Request #41, texts 1775\n",
      "Request #42, texts 1810\n",
      "Request #43, texts 1868\n",
      "Request #44, texts 1925\n",
      "Request #45, texts 1979\n",
      "Request #46, texts 2035\n",
      "Request #47, texts 2100\n",
      "Request #48, texts 2154\n",
      "Request #49, texts 2212\n",
      "Request #50, texts 2266\n",
      "Request #51, texts 2326\n",
      "Request #52, texts 2396\n",
      "Request #53, texts 2460\n",
      "Request #54, texts 2505\n",
      "Request #55, texts 2543\n",
      "Request #56, texts 2586\n",
      "Request #57, texts 2638\n",
      "Request #58, texts 2671\n",
      "Request #59, texts 2698\n",
      "Request #60, texts 2757\n",
      "Request #61, texts 2837\n",
      "Request #62, texts 2903\n",
      "Request #63, texts 2948\n",
      "Request #64, texts 3017\n",
      "Request #65, texts 3051\n",
      "Request #66, texts 3103\n",
      "Request #67, texts 3142\n",
      "Request #68, texts 3184\n",
      "Request #69, texts 3215\n",
      "Request #70, texts 3265\n",
      "Request #71, texts 3313\n",
      "Request #72, texts 3371\n",
      "Request #73, texts 3408\n",
      "Request #74, texts 3432\n",
      "Request #75, texts 3447\n",
      "Request #76, texts 3471\n",
      "Request #77, texts 3513\n",
      "Request #78, texts 3556\n",
      "Request #79, texts 3593\n",
      "Request #80, texts 3631\n",
      "Request #81, texts 3689\n",
      "Request #82, texts 3689\n",
      "Request #83, texts 3689\n",
      "Request #84, texts 3690\n",
      "Request #85, texts 3690\n",
      "Request #86, texts 3690\n",
      "Total catch: 3690\n"
     ]
    }
   ],
   "source": [
    "while True:\n",
    "    try:\n",
    "        tso = TwitterSearchOrder()\n",
    "\n",
    "        # define all words we would like to have a look for\n",
    "        tso.set_keywords(KEY_WORDS, or_operator=True) \n",
    "        tso.set_language('ru') # we want to see Russian tweets only\n",
    "        tso.set_include_entities(False)\n",
    "        tso.set_result_type('recent')\n",
    "        tso.set_max_id(max_tweet_id)\n",
    "        \n",
    "        response = ts.search_tweets(tso)\n",
    "\n",
    "        # check if there are statuses returned and whether we still have work to do\n",
    "        if len(response['content']['statuses']) == 0:\n",
    "            break\n",
    "\n",
    "        # check all tweets according to their ID\n",
    "        for tweet in response['content']['statuses']:\n",
    "            cur_tweet_id = tweet['id']\n",
    "            max_tweet_id = min(cur_tweet_id, max_tweet_id) - 1\n",
    "            text = tweet['text']\n",
    "            \n",
    "            if not contains_keyword(text, map(lambda s: unicode(s.decode('utf-8')), KEY_WORDS)):\n",
    "                continue\n",
    "            base = extract_base(text)\n",
    "            if base in bases:\n",
    "                continue\n",
    "            bases.add(base)\n",
    "            texts.append([cur_tweet_id, text])\n",
    "            \n",
    "        print 'Request #{0}, texts {1}'.format(response_id, len(texts))\n",
    "        \n",
    "        response_id += 1\n",
    "        \n",
    "\n",
    "    except TwitterSearchException as e: # take care of all those ugly errors if there are some\n",
    "        print(e)\n",
    "        break\n",
    "print \"Total catch:\", len(texts)"
   ]
  },
  {
   "cell_type": "code",
   "execution_count": 6,
   "metadata": {
    "collapsed": false
   },
   "outputs": [
    {
     "data": {
      "text/html": [
       "<div>\n",
       "<table border=\"1\" class=\"dataframe\">\n",
       "  <thead>\n",
       "    <tr style=\"text-align: right;\">\n",
       "      <th></th>\n",
       "      <th>tweet_id</th>\n",
       "      <th>text</th>\n",
       "    </tr>\n",
       "  </thead>\n",
       "  <tbody>\n",
       "    <tr>\n",
       "      <th>0</th>\n",
       "      <td>820220678284705796</td>\n",
       "      <td>@Alex_Shvarz @alfabank Чему удивляться, бывает...</td>\n",
       "    </tr>\n",
       "    <tr>\n",
       "      <th>1</th>\n",
       "      <td>820219628957876225</td>\n",
       "      <td>Эти роботы #Сбербанка - не переодетый #Греф? Б...</td>\n",
       "    </tr>\n",
       "    <tr>\n",
       "      <th>2</th>\n",
       "      <td>820219469146583040</td>\n",
       "      <td>I'm at ВТБ Ледовый дворец - @dynamo_ru for Рус...</td>\n",
       "    </tr>\n",
       "    <tr>\n",
       "      <th>3</th>\n",
       "      <td>820219002257633280</td>\n",
       "      <td>Результат пятничного деплоя от @sberbank https...</td>\n",
       "    </tr>\n",
       "    <tr>\n",
       "      <th>4</th>\n",
       "      <td>820218632282271744</td>\n",
       "      <td>RT @nstarikov: Сбербанк объявил о сокращении 3...</td>\n",
       "    </tr>\n",
       "  </tbody>\n",
       "</table>\n",
       "</div>"
      ],
      "text/plain": [
       "             tweet_id                                               text\n",
       "0  820220678284705796  @Alex_Shvarz @alfabank Чему удивляться, бывает...\n",
       "1  820219628957876225  Эти роботы #Сбербанка - не переодетый #Греф? Б...\n",
       "2  820219469146583040  I'm at ВТБ Ледовый дворец - @dynamo_ru for Рус...\n",
       "3  820219002257633280  Результат пятничного деплоя от @sberbank https...\n",
       "4  820218632282271744  RT @nstarikov: Сбербанк объявил о сокращении 3..."
      ]
     },
     "execution_count": 6,
     "metadata": {},
     "output_type": "execute_result"
    }
   ],
   "source": [
    "df_new = pd.DataFrame(texts, columns=['tweet_id', 'text'])\n",
    "df_new.head()"
   ]
  },
  {
   "cell_type": "raw",
   "metadata": {},
   "source": [
    "print df_new.text.apply(lambda s: '\\t' in s).any()\n",
    "df.to_csv('8597.csv', sep='\\t', encoding='utf-8')"
   ]
  },
  {
   "cell_type": "code",
   "execution_count": 7,
   "metadata": {
    "collapsed": false
   },
   "outputs": [
    {
     "name": "stdout",
     "output_type": "stream",
     "text": [
      "@Alex_Shvarz @alfabank Чему удивляться, бывает и в три ночи звонки, страху нагоняют\n",
      "\n",
      "Эти роботы #Сбербанка - не переодетый #Греф? Будут ли эти роботы предъявлять иски к #Сбербанк от имени клиентов и писать жалобы в ЦБ РФ?\n",
      "\n",
      "I'm at ВТБ Ледовый дворец - @dynamo_ru for Русская Классика. Динамо Бшх - Химик in Москва w/ @bskkvmarina https://t.co/pHqO5JVII6\n",
      "\n",
      "Результат пятничного деплоя от @sberbank https://t.co/7qbUqCN6yf\n",
      "\n",
      "RT @nstarikov: Сбербанк объявил о сокращении 3000 юристов и замене их роботами. А вот Грефа менять не надо - он уже робот, судя по его отно…\n",
      "\n",
      "Сбербанк профинансировал лизинг в Татарстане в рамках первой...\n",
      "\n",
      "RT @Suerya14: Tonton di #Periscope: Скиньтесь мне на котика Карта Сбербанк 67628038 9783019222 https://t.co/yxmz9MYbJp\n",
      "\n",
      "Смотрите в #Periscope: Скиньтесь мне на котика Карта Сбербанк 67628038 9783019222 https://t.co/jTg6WOI6Pv https://t.co/MkuRfh6x1N\n",
      "\n",
      "Когда услышал, что Сбербанк закрывается horse with a blister Хорст вессель 206 было\n",
      "\n",
      "Когда услышал, что Сбербанк закрывается\n",
      "\n",
      "Роботы наступают\n",
      "\n",
      "«Сбербанк намерен уволить три тысячи сотрудников и заменить их роботами. Об этом заявил зампред п… https://t.co/3yHX567VY6\n",
      "\n",
      "ВФСО \"Динамо\": Заявление ФАС не означает, что общество обязательно приобретет акции у ВТБ\n",
      "\n",
      "RT @rate_rus: курс тенге к рублю втб. Курс 0.18 #KZT #RUB https://t.co/NvWcXzfPH0 https://t.co/E0VttNqBSY\n",
      "\n",
      "А вот подарок Стефана мне сильно велик 😄4 года прошло уже как знакомы, Кубок ВТБ сближает 😂\n",
      "\n",
      "Сбербанк уволит 3000 сотрудников из-за робота-юриста https://t.co/z1C4dOxoXu\n",
      "\n",
      "#втб бланк доверенности https://t.co/713T8ojK8F\n",
      "\n",
      "@Sterlyaznikof Ваш Сбербанк стал успешным не благодаря Грефу, а благодаря тому, что Набиуллина массово уничтожает банки, отзывая лицензии.…\n",
      "\n",
      "Дебильный Сбербанк!!!\n",
      "\n",
      "RT @Jochen_mn: Оросын Сбербанк 2017 онд 3000 ажлын байрыг роботуудаар орлуулахаа мэдэгдлээ. \n",
      "Банкны ажилтнууд роботуудийн эхний хохирогчид…\n",
      "\n",
      "зэ (@ Сбербанк in Ступино, МО) https://t.co/OICHQRCBUv\n",
      "\n",
      "Сбербанк в 2017 году заменит три тысячи рабочих мест...\n",
      "\n",
      "Сбербанк профинансировал лизинг в Татарстане в рамках первой «исламской» сделки https://t.co/75OTSDJDnG\n",
      "\n",
      "ВТБ предоставит ВФСО \"Динамо\" спонсорский вклад на сумму 10,62 млрд руб.\n",
      "\n",
      "Сбербанк заменит роботами типовую юридическую работу - https://t.co/xCbeG5lcur\n",
      "\n",
      "RT @sportsru: Сначала ВТБ просит денег у государства. А потом бросает очередные десятки миллионов $ в огонь этой безнадежной топки\n",
      "https://…\n",
      "\n",
      "RT @GruzdevVladimir: Сбербанк нарастил годовую прибыль более чем вдвое :: РБК https://t.co/OLk1S6v7nA\n",
      "\n",
      "@KGBKAratelnyi когда ж мы дождемся там бляцких мегафоноф-билайнов-мтээсов и йопанного сбербанка, который по недоразумению - сбербанк России?\n",
      "\n",
      "Сбербанк профинансировал лизинг в Татарстане в рамках первой «исламской» сделки: Сбербанк провел пилотную сделку по исламскому…\n",
      "\n",
      "RT @xZETY: @sberbank КАК ТОЛЬКО ТАК СРАЗУ ЕСЛИ НЕ БОРТАНЕТЕ БЕЗ КАКОЙ НИБУДЬ БУМАЖКИ...СМС УЖЕ ПРИСЛАЛИ ТИПА УЖЕ ОДОБРИЛИ. Не откажите на н…\n",
      "\n",
      "Сбербанк в 2016 году выдал 38 млрд рублей по программе 6,5%\n",
      "\n",
      "В 12:30 в Петербурге стартовал первый матч Единой молодежной лиги ВТБ между командами ЦОП КБ (С-Петербург) и &amp;quot.. https://t.co/bqhlQHie5I\n",
      "\n",
      "Сбербанк им должен\n",
      "\n",
      "Сбербанк перевёл меня на уровень обслуживания Премьер и выделил персонального менеджера. Говорят, я у них важный клиент\n",
      "\n",
      "@olegtinkov ИТОГ - звонят и говорят что не хватает каких-то фотографий от представителя БАНКА. @alfabank открыли счёт за 2 дня, как по маслу\n",
      "\n",
      "I'm at ВТБ Ледовый дворец for Русская Классика. Динамо Бшх - Химик in Москва w/ @asr_rainman @nnailgun https://t.co/7QQ0A3AYoe\n",
      "\n",
      "Ленинград в ВТБ Арена (РЕН-ТВ) - видео, программа Соль https://t.co/Z3qPCQHJDf\n",
      "\n",
      "RT @RT_russian: Запуск робота-юриста лишит работы несколько тысяч сотрудников Сбербанка https://t.co/DeSPreOCQM https://t.co/hJd8TtzrFf\n",
      "\n",
      "Новости. Скончалась экс-солистка группы \"Лицей\" Сбербанк...\n",
      "\n",
      "Сбербанк прекратил прием средств на самый выгодный вклад\n",
      "\n",
      "Сбербанк выдал малому и среднему бизнесу кредиты на 38 млрд рублей\n",
      "\n",
      "Добавлен новый отзыв о «Россельхозбанк»: https://t.co/KYiXsAc7oF\n",
      "\n",
      "Сбербанк с помощью смс пригласил меня забрать карту сегодня, а отделение куда пригласил закрыто на сб/вс 👍🏻\n",
      "\n",
      "Ведущим Матча звезд Единой лиги ВТБ в Сочи станет Иван Ургант  https://t.co/sBMvuB11sO\n",
      "\n",
      "RT @CatMoriz: Сбербанк передаст работу 3 тыс. сотрудников роботам-юристам. https://t.co/Pg73ey3gZJ\n",
      "\n",
      "@sberbank окей, жду с удовольствием, и пусть мой меизу не потянет. Буду верить, что вы сработаетесь и с андроид пэй😍\n",
      "\n",
      "RT @BuabinRussia: Сегодня на районе не работали три банкомата @sberbank и все люди  сбежались к одному работающему и говорили, что у сбера…\n",
      "\n",
      "Сегодня на районе не работали три банкомата @sberbank и все люди  сбежались к одному работающему и говорили, что у сбера забрали лицензию.\n",
      "\n",
      "Президент – председатель правления банка Банк ВТБ 24 Михаил Задорнов основным достижением антикризисных мер в... https://t.co/a88Fk9fwxB\n",
      "\n",
      "#Динамо получит более 10 миллиардов от #ВТБ\n",
      "\n",
      "Нет, не евро\n",
      "\n",
      "https://t.co/8bnhHM6omr https://t.co/Dp6LKszmO1\n",
      "\n",
      "I'm at ВТБ Ледовый дворец - @dynamo_ru for Русская Классика. Динамо Бшх - Химик in Москва https://t.co/Fb9CnYd0dM\n",
      "\n",
      "Сбербанк сократит три тысячи рабочих мест из-за внедрения робота-юриста\n",
      "\n",
      "@Bank_VTB24 @VTB24_complaint Второй раз за три дня не работает ВТБ Онлайн. Зачем вообще нужен такой онлайн банкинг? Риторический вопрос.\n",
      "\n",
      "ДТП в Верхней Галилее, погиб водитель мотовездехода Сбербанк...\n",
      "\n",
      "RT @vcru: «Сбербанк» рассказал о планах заменить три тысячи сотрудников на одного робота-юриста https://t.co/3VoY7ReeYL\n",
      "\n",
      "Сбербанк заморозил программу кредитования в сфере образования https://t.co/O2AY8selMB #Правительство… https://t.co/VT0elJLAaE\n",
      "\n",
      ".@alfabank как это должно быть https://t.co/n8IH0Fv2e2\n",
      "\n",
      "14 и 15 января в Санкт-Петербурге пройдут очередные игры Единой молодежной лиги ВТБ-2016/17, в которых ЦОП КБ буде.. https://t.co/lXV843bxVT\n",
      "\n",
      "У @alfabank хорошее мобильное приложение, но, блядь, сделайте с этим что-нибудь пожалуйста 😩 https://t.co/dQTc5CXwv6\n",
      "\n",
      "АНАЛИЗ БАНКОВСКОЙ ЛИКВИДНОСТИ НА ПРИМЕРЕ АО \"РОССЕЛЬХОЗБАНК\"…https://t.co/Kojxh2lIXP https://t.co/prBSL5wd1U\n",
      "\n",
      "Продление ипотеки с господдержкой ипотека без первоначального взноса сбербанк Всё о банковских кредитах. Как оформить кредит. Кредиты онлайн\n",
      "\n",
      "Продление ипотеки с господдержкой ипотека без первоначального взноса сбербанк #Новости\n",
      "\n",
      "Продление ипотеки с господдержкой ипотека без первоначального взноса сбербанк В связи с ухудшением макроэкономической ситуации в России  ...\n",
      "\n",
      "Титов: сумма спонсорского вклада ВТБ для \"Динамо\" обусловлена...\n",
      "\n",
      "@kadievrasul @sberbank В 2016, договорились с ними, что в каждом мфц поставят банкомат. До этого люди на большие ра… https://t.co/ADeEgCFCq1\n",
      "\n",
      "В 2017 г. Сбербанк планирует сократить около 3 тыс. рабочих мест из-за внедрения роботов-юристов для оформления ис.. https://t.co/Uz8e5eOn8q\n",
      "\n",
      "#втб ледовый дворец схема зала по секторам https://t.co/8ebJfvkPnl\n",
      "\n",
      "Втб 24 обновил мобильный банк для ios _ банки. ру аннуитетный кредит Всё о банковских кредитах. Как оформить кредит. Кредиты онлайн\n",
      "\n",
      "Втб 24 обновил мобильный банк для ios _ банки. ру аннуитетный кредит #Новости\n",
      "\n",
      "ВТБ 24 представил обновленное мобильное приложение для устройств на платформе iOS, сообщается в релизе кредитной организации. Потребите ...\n",
      "\n",
      "Втб 24 обновил мобильный банк для ios _ банки. ру аннуитетный кредит ВТБ 24 представил обновленное мобильное приложение для устройств на ...\n",
      "\n",
      "В 2017 г. Сбербанк планирует сократить около 3 тыс. рабочих мест из-за внедрения роботов-юристов для оформления... https://t.co/2Ul3Mi4Zal\n",
      "\n",
      "Сбербанк заменит роботами-юристами около 3 тыс. сотрудников https://t.co/kfbmg3Woo9 https://t.co/cRzbvo8DS3\n",
      "\n",
      "Сбербанк: финтех давит на всех игроков рынка - https://t.co/ytjZT9iUQw\n",
      "\n",
      "@mironov_fm я не понимаю. Греф же не какой экономист тем-более удачны. Он был министром. Он от улюкаева не отстаёт. Его сбербанк хоть видели\n",
      "\n",
      "Съездили в жилстройсбербанк и просто Сбербанк узнать про ипотеку. Так и не понял в чем там разница. В месяц приблизительно одинаково выходит\n",
      "\n",
      "ВТБ предоставит ВФСО \"Динамо\" спонсорский вклад на сумму 10...\n",
      "\n",
      "RT @ChopperWatte: Ууупссс! 😂\n",
      "\n",
      "Сбербанк - нахуй это туда 👉🚽 https://t.co/5FjvngvyGQ\n",
      "\n",
      "Ебаный сбербанк я тебя ненавижу❤\n",
      "\n",
      "#справка о доходах по форме банка сбербанк для ипотеки https://t.co/A1bHAXPwxD\n",
      "\n",
      "@vitos700x @Alex_Shvarz @sberbank да у них всё хз.сегодня выписку со своего же счета не смогли сделать 😂\n",
      "\n",
      "Сбербанк купил здание «не-Кемпински» за 2 руб. – это не шутка https://t.co/qgC99QDEIW https://t.co/kwB16GJLLF\n",
      "\n",
      "RT @rosbaltru: Сбербанк закрыл более 1 тыс. 300 офисов по обслуживанию за прошлый год https://t.co/LUZSytrnoH\n",
      "\n",
      "Сбербанк им должен Конкурс громил. В Киеве официально...\n",
      "\n",
      "Иван Ургант будет ведущим Матча звезд Единой лиги ВТБ\n",
      "\n",
      "Мне кажется место в очереди в #телекомсервис передаётся по наследству. Хуже, чем #сбербанк и #почтароссии вместе.\n",
      "\n",
      "Качайте Сбербанк онлайн, нам показали сюжет, с помощью Сбербанка можно найти свою любовь!!!! https://t.co/hz08etS7Hl\n",
      "\n",
      "I'm at Сбербанк - @sberbank in город Владивосток https://t.co/nr4uvMea0p\n",
      "\n",
      "RT @gudmy60: Сбербанк - государственная воровская малина.\n",
      "\n",
      "Сбербанк начал прием средств на самый доходный вклад\n",
      "\n",
      "ВТБ предоставляет обществу \"Динамо\" спонсорский вклад в 10,6 млрд руб  https://t.co/wF2vQmTfv4 https://t.co/cQHjfKNY1H\n",
      "\n",
      "СБЕРБАНК ПОРУЧИТ СОСТАВЛЕНИЕ ИСКОВ РОБОТАМ-ЮРИСТАМ / В конце прошлого года Сбербанк начал пользоваться услугами ю.. https://t.co/BUicRZ37FN\n",
      "\n",
      "Сбербанк прогнозирует начало массового применения блокчейна в 2018 году — Rambler News Service: https://t.co/VE7uR6lHIT\n",
      "\n",
      "#заявление о присоединении сбербанк образец https://t.co/5KM00b8dv8\n",
      "\n",
      "RT @InApple_net: У Apple на счетах скопилось $237.6 млрд. Больше стоимости Газпрома, Роснефти, Сбербанка, ВТБ и РЖД вместе взятых. Неплохо,…\n",
      "\n",
      "@luchinwa @Alex_Shvarz @sberbank было подключено, а сейчас овердрафт типа не выдают вообще, но списания происходят, хз короче\n",
      "\n",
      "Сбербанк заменит 3 тыс. юристов роботами https://t.co/L9jld91Bom\n",
      "\n",
      "@luchinwa @Alex_Shvarz @sberbank мне сказали что это из за карты, типа старая, была бы новая, все было хорошо, а к этой что то ранее было\n",
      "\n",
      "Сбербанк в иркутской области выдал кредиты по новой программе «кредит за один день» - информационное агентство «тел ... Всё о бан ...\n",
      "\n",
      "Сбербанк в иркутской области выдал кредиты по новой программе «кредит за один день» - информационное ... #Новости\n",
      "\n",
      "Сбербанк в иркутской области выдал кредиты по новой программе «кредит за один день» - информационное агентство «тел ... , 1.12.16 (ИА « ...\n",
      "\n"
     ]
    }
   ],
   "source": [
    "for text in texts[:100]:\n",
    "    print text[1]\n",
    "    print"
   ]
  },
  {
   "cell_type": "code",
   "execution_count": 8,
   "metadata": {
    "collapsed": false
   },
   "outputs": [],
   "source": [
    "df_new.loc[:, 'tweet_id'] = df_new.tweet_id.astype(str)"
   ]
  },
  {
   "cell_type": "code",
   "execution_count": 9,
   "metadata": {
    "collapsed": false
   },
   "outputs": [
    {
     "data": {
      "text/plain": [
       "(12080, 3)"
      ]
     },
     "execution_count": 9,
     "metadata": {},
     "output_type": "execute_result"
    }
   ],
   "source": [
    "df.loc[:, 'tweet_id'] = df.tweet_id.astype(str)\n",
    "df_concat = pd.concat([df, df_new])\n",
    "df_concat.index = range(df_concat.shape[0])\n",
    "df_concat.shape"
   ]
  },
  {
   "cell_type": "code",
   "execution_count": 10,
   "metadata": {
    "collapsed": false
   },
   "outputs": [],
   "source": [
    "df_concat = df_concat[['tweet_id', 'text', 'label']]"
   ]
  },
  {
   "cell_type": "code",
   "execution_count": 11,
   "metadata": {
    "collapsed": true
   },
   "outputs": [],
   "source": [
    "df_concat.to_excel('12080.xls', index=False, encoding='utf-8')"
   ]
  },
  {
   "cell_type": "markdown",
   "metadata": {},
   "source": [
    "---"
   ]
  },
  {
   "cell_type": "markdown",
   "metadata": {},
   "source": [
    "# Labels"
   ]
  },
  {
   "cell_type": "code",
   "execution_count": 43,
   "metadata": {
    "collapsed": false
   },
   "outputs": [
    {
     "data": {
      "text/html": [
       "<div>\n",
       "<table border=\"1\" class=\"dataframe\">\n",
       "  <thead>\n",
       "    <tr style=\"text-align: right;\">\n",
       "      <th></th>\n",
       "      <th>tweet_id</th>\n",
       "      <th>text</th>\n",
       "      <th>label</th>\n",
       "    </tr>\n",
       "  </thead>\n",
       "  <tbody>\n",
       "    <tr>\n",
       "      <th>0</th>\n",
       "      <td>814131630948450304</td>\n",
       "      <td>@alfabank недели две имеет значение?</td>\n",
       "      <td>0</td>\n",
       "    </tr>\n",
       "    <tr>\n",
       "      <th>1</th>\n",
       "      <td>814131371690131456</td>\n",
       "      <td>@alfabank ну зачем же вы мне опять открытку на...</td>\n",
       "      <td>NaN</td>\n",
       "    </tr>\n",
       "    <tr>\n",
       "      <th>2</th>\n",
       "      <td>814130811784101888</td>\n",
       "      <td>@AsvHelp  Сегодня 28.12.2016  из ВТБ 24 почтой...</td>\n",
       "      <td>0</td>\n",
       "    </tr>\n",
       "    <tr>\n",
       "      <th>3</th>\n",
       "      <td>814130709233332228</td>\n",
       "      <td>С вкладчиками Межрегионального Клирингового Ба...</td>\n",
       "      <td>0</td>\n",
       "    </tr>\n",
       "    <tr>\n",
       "      <th>4</th>\n",
       "      <td>814130458560606208</td>\n",
       "      <td>Сбербанк в 2016 году зафиксировал 74 кибератак...</td>\n",
       "      <td>0</td>\n",
       "    </tr>\n",
       "  </tbody>\n",
       "</table>\n",
       "</div>"
      ],
      "text/plain": [
       "             tweet_id                                               text  \\\n",
       "0  814131630948450304               @alfabank недели две имеет значение?   \n",
       "1  814131371690131456  @alfabank ну зачем же вы мне опять открытку на...   \n",
       "2  814130811784101888  @AsvHelp  Сегодня 28.12.2016  из ВТБ 24 почтой...   \n",
       "3  814130709233332228  С вкладчиками Межрегионального Клирингового Ба...   \n",
       "4  814130458560606208  Сбербанк в 2016 году зафиксировал 74 кибератак...   \n",
       "\n",
       "   label  \n",
       "0      0  \n",
       "1    NaN  \n",
       "2      0  \n",
       "3      0  \n",
       "4      0  "
      ]
     },
     "execution_count": 43,
     "metadata": {},
     "output_type": "execute_result"
    }
   ],
   "source": [
    "df = pd.read_excel('5221.xls', encoding='utf-8')\n",
    "df.head()"
   ]
  },
  {
   "cell_type": "code",
   "execution_count": 44,
   "metadata": {
    "collapsed": false
   },
   "outputs": [
    {
     "data": {
      "text/plain": [
       " 0    113\n",
       "-1     27\n",
       " 1      6\n",
       "dtype: int64"
      ]
     },
     "execution_count": 44,
     "metadata": {},
     "output_type": "execute_result"
    }
   ],
   "source": [
    "df.label.value_counts()"
   ]
  },
  {
   "cell_type": "code",
   "execution_count": 49,
   "metadata": {
    "collapsed": false
   },
   "outputs": [
    {
     "data": {
      "text/plain": [
       "tweet_id                    814070779474247680\n",
       "text        о да, детка, сбербанк - onelove 💚\n",
       "label                                      NaN\n",
       "Name: 204, dtype: object"
      ]
     },
     "execution_count": 49,
     "metadata": {},
     "output_type": "execute_result"
    }
   ],
   "source": [
    "df.ix[204]"
   ]
  },
  {
   "cell_type": "markdown",
   "metadata": {},
   "source": [
    "# TODO"
   ]
  },
  {
   "cell_type": "code",
   "execution_count": 55,
   "metadata": {
    "collapsed": false
   },
   "outputs": [
    {
     "name": "stdout",
     "output_type": "stream",
     "text": [
      "&amp;quot;Барис&amp;quot;\n",
      "tinkoff_bank сбер\n"
     ]
    }
   ],
   "source": [
    "print u'&amp;quot;Барис&amp;quot;'\n",
    "print 'tinkoff_bank', 'сбер'"
   ]
  }
 ],
 "metadata": {
  "anaconda-cloud": {},
  "kernelspec": {
   "display_name": "Python [default]",
   "language": "python",
   "name": "python2"
  },
  "language_info": {
   "codemirror_mode": {
    "name": "ipython",
    "version": 2.0
   },
   "file_extension": ".py",
   "mimetype": "text/x-python",
   "name": "python",
   "nbconvert_exporter": "python",
   "pygments_lexer": "ipython2",
   "version": "2.7.11"
  }
 },
 "nbformat": 4,
 "nbformat_minor": 0
}