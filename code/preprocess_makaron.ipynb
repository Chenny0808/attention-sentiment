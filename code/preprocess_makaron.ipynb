{
 "cells": [
  {
   "cell_type": "code",
   "execution_count": 1,
   "metadata": {
    "collapsed": true
   },
   "outputs": [],
   "source": [
    "import pandas as pd\n",
    "import random"
   ]
  },
  {
   "cell_type": "code",
   "execution_count": 2,
   "metadata": {
    "collapsed": true
   },
   "outputs": [],
   "source": [
    "col_names = ['id', 'tdate', 'tmane', 'ttext', 'ttype', 'trep', 'tfav', 'tstcount', 'tfol', 'tfrien', 'listcount']\n",
    "positive = pd.read_csv('../data/positive.csv', sep=';', encoding='utf-8', names=col_names, index_col=False)\n",
    "negative = pd.read_csv('../data/negative.csv', sep=';', encoding='utf-8', names=col_names, index_col=False)\n",
    "data = positive.append(negative)\n",
    "data = data[['ttext', 'ttype']]"
   ]
  },
  {
   "cell_type": "code",
   "execution_count": 3,
   "metadata": {
    "collapsed": false
   },
   "outputs": [
    {
     "name": "stdout",
     "output_type": "stream",
     "text": [
      "В последнее время меня очень радует фраза-\"ну это жизнь, было и было\". И правда.. Было и было)\n",
      "@Ilovesport13 спасибо, доченька &lt;3\n",
      "это Украина, здесь 12 - высший балл :D\n",
      "@deshaannik Может....а может думает, что у нас только деревни и постоянная зима)))) Бедный Адам)) ^ ^\n",
      "Ладно,я все равно сделаю презентацию по Конституции РФ)\n",
      "@dariayurina  он дал нам примерные вопросы , для подготовки)\n"
     ]
    }
   ],
   "source": [
    "for _ in range(5):\n",
    "    i = random.randint(0, positive.ttext.shape[0] - 1)\n",
    "    print positive.ttext.values[i]"
   ]
  },
  {
   "cell_type": "code",
   "execution_count": 4,
   "metadata": {
    "collapsed": false
   },
   "outputs": [
    {
     "name": "stdout",
     "output_type": "stream",
     "text": [
      "Хочу чтоб новый год прошел быстро.. никуда не хочу ехать, настроения никакого(\n",
      "До сих пор как-то неловко, что я задала девочке вопрос про грязное зеркало, а она из-за этого удалила свой профиль на этой спрашивалке(\n",
      "RT @to_over_kill: @frnkmustdie_ привет с:\n",
      "А потом я бегала по какому-то замку и меня хотело съесть и высосать всю кровь летающее чудовище(\n",
      "Тот момент,когда началась регистрация на ЗНО:(((\n"
     ]
    }
   ],
   "source": [
    "for _ in range(5):\n",
    "    i = random.randint(0, negative.ttext.shape[0] - 1)\n",
    "    print negative.ttext.values[i]"
   ]
  },
  {
   "cell_type": "code",
   "execution_count": 5,
   "metadata": {
    "collapsed": true
   },
   "outputs": [],
   "source": [
    "from pymystem3 import Mystem\n",
    "\n",
    "lemmatizer = Mystem()"
   ]
  },
  {
   "cell_type": "raw",
   "metadata": {},
   "source": [
    "# Detecting HTML character entities\n",
    "character_entities = set()\n",
    "for idx, symbol in enumerate(whole_text):\n",
    "    if symbol == u'&':\n",
    "        character_entities.add(whole_text[idx:idx+whole_text[idx:].find(';') + 1])\n",
    "character_entities"
   ]
  },
  {
   "cell_type": "code",
   "execution_count": 7,
   "metadata": {
    "collapsed": false
   },
   "outputs": [
    {
     "name": "stdout",
     "output_type": "stream",
     "text": [
      "@first_timee хоть я и школота, но поверь, у нас то же самое :D общество профилирующий предмет типа)\n",
      "Да, все-таки он немного похож на него. Но мой мальчик все равно лучше:D\n",
      "RT @KatiaCheh: Ну ты идиотка) я испугалась за тебя!!!\n",
      "RT @digger2912: \"Кто то в углу сидит и погибает от голода, а мы ещё 2 порции взяли, хотя уже и так жрать не хотим\" :DD http://t.co/GqG6iuE2…\n",
      "@irina_dyshkant Вот что значит страшилка :D\n",
      "Но блин,посмотрев все части,у тебя создастся ощущение,что авторы курили что-то :D\n",
      "ну любишь или нет? — Я не знаю кто ты бля:D http://t.co/brf9eNg1U6\n",
      "RT @SpoonLamer: Ох,900 :D ну это конечно же @twinkleAYO . Чтобы у нее было много друзей, ведь она такая мимими <3\n",
      "RT @veregijytaqo: У тебя есть ухажёр? Нет - мои уши не кто не жрёт :D\n",
      "Поприветствуем моего нового читателя @Alexey1789 ;)\n",
      "Теперь у меня есть частичка Сиднея :) #Sydney #SydneyOperaHouse http://t.co/agnto3CZEi\n"
     ]
    }
   ],
   "source": [
    "dictionary = set()\n",
    "for msg in data.ttext.values[:10]:\n",
    "    msg = msg.replace('&lt;', '<')\n",
    "    msg = msg.replace('&gt;', '>')\n",
    "    msg = msg.replace('&amp;', '&')\n",
    "    print msg\n",
    "    for w in lemmatizer.lemmatize(msg):\n",
    "        dictionary.add(w)"
   ]
  },
  {
   "cell_type": "code",
   "execution_count": 8,
   "metadata": {
    "collapsed": true
   },
   "outputs": [],
   "source": [
    "whole_text = u' '.join(data.ttext.values)"
   ]
  },
  {
   "cell_type": "code",
   "execution_count": null,
   "metadata": {
    "collapsed": true
   },
   "outputs": [],
   "source": []
  }
 ],
 "metadata": {
  "kernelspec": {
   "display_name": "Python 2",
   "language": "python",
   "name": "python2"
  },
  "language_info": {
   "codemirror_mode": {
    "name": "ipython",
    "version": 2
   },
   "file_extension": ".py",
   "mimetype": "text/x-python",
   "name": "python",
   "nbconvert_exporter": "python",
   "pygments_lexer": "ipython2",
   "version": "2.7.12"
  }
 },
 "nbformat": 4,
 "nbformat_minor": 1
}
