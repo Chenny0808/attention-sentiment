{
 "cells": [
  {
   "cell_type": "code",
   "execution_count": 1,
   "metadata": {
    "collapsed": false
   },
   "outputs": [],
   "source": [
    "import numpy as np\n",
    "import pandas as pd\n",
    "import cPickle\n",
    "import multiprocessing\n",
    "import matplotlib.pyplot as plt\n",
    "%matplotlib inline\n",
    "from IPython.display import clear_output"
   ]
  },
  {
   "cell_type": "markdown",
   "metadata": {},
   "source": [
    "### Reading tweets"
   ]
  },
  {
   "cell_type": "code",
   "execution_count": 2,
   "metadata": {
    "collapsed": false
   },
   "outputs": [],
   "source": [
    "bank_train = pd.read_csv('../data/bank_train.csv', sep='\\t', encoding='utf-8')"
   ]
  },
  {
   "cell_type": "code",
   "execution_count": 3,
   "metadata": {
    "collapsed": false
   },
   "outputs": [
    {
     "data": {
      "text/html": [
       "<div>\n",
       "<table border=\"1\" class=\"dataframe\">\n",
       "  <thead>\n",
       "    <tr style=\"text-align: right;\">\n",
       "      <th></th>\n",
       "      <th>id</th>\n",
       "      <th>text</th>\n",
       "      <th>label</th>\n",
       "    </tr>\n",
       "  </thead>\n",
       "  <tbody>\n",
       "    <tr>\n",
       "      <th>0</th>\n",
       "      <td>1</td>\n",
       "      <td>http://t.co/YEVHuvVGA1 Взять кредит тюмень аль...</td>\n",
       "      <td>0</td>\n",
       "    </tr>\n",
       "    <tr>\n",
       "      <th>1</th>\n",
       "      <td>2</td>\n",
       "      <td>Мнение о кредитной карте втб 24 http://t.co/SB...</td>\n",
       "      <td>0</td>\n",
       "    </tr>\n",
       "    <tr>\n",
       "      <th>2</th>\n",
       "      <td>3</td>\n",
       "      <td>«Райффайзенбанк»: Снижение ключевой ставки ЦБ ...</td>\n",
       "      <td>0</td>\n",
       "    </tr>\n",
       "    <tr>\n",
       "      <th>3</th>\n",
       "      <td>4</td>\n",
       "      <td>Современное состояние кредитного поведения в р...</td>\n",
       "      <td>0</td>\n",
       "    </tr>\n",
       "    <tr>\n",
       "      <th>4</th>\n",
       "      <td>5</td>\n",
       "      <td>@sawik_shuster @YevhenS Главное чтоб банки СБЕ...</td>\n",
       "      <td>1</td>\n",
       "    </tr>\n",
       "  </tbody>\n",
       "</table>\n",
       "</div>"
      ],
      "text/plain": [
       "   id                                               text  label\n",
       "0   1  http://t.co/YEVHuvVGA1 Взять кредит тюмень аль...      0\n",
       "1   2  Мнение о кредитной карте втб 24 http://t.co/SB...      0\n",
       "2   3  «Райффайзенбанк»: Снижение ключевой ставки ЦБ ...      0\n",
       "3   4  Современное состояние кредитного поведения в р...      0\n",
       "4   5  @sawik_shuster @YevhenS Главное чтоб банки СБЕ...      1"
      ]
     },
     "execution_count": 3,
     "metadata": {},
     "output_type": "execute_result"
    }
   ],
   "source": [
    "bank_train.head()"
   ]
  },
  {
   "cell_type": "code",
   "execution_count": 4,
   "metadata": {
    "collapsed": false
   },
   "outputs": [],
   "source": [
    "texts, labels = bank_train.text.values, bank_train.label.values"
   ]
  },
  {
   "cell_type": "markdown",
   "metadata": {},
   "source": [
    "### Reading vocabulary and embeddings"
   ]
  },
  {
   "cell_type": "code",
   "execution_count": 5,
   "metadata": {
    "collapsed": true
   },
   "outputs": [],
   "source": [
    "word2id, embeddings = cPickle.load(open('../data/w2v/vectors_l.pkl', 'rb'))\n",
    "# word2id, embeddings = cPickle.load(open('../data/w2v/parkin_vectors.pkl', 'rb'))"
   ]
  },
  {
   "cell_type": "raw",
   "metadata": {},
   "source": [
    "# For a case when <EOS> symbol is not presented in downloaded embeddings\n",
    "word2id[u'</s>'] = embeddings.shape[0]\n",
    "embeddings = np.concatenate((embeddings, np.zeros((1, embeddings.shape[1]))))"
   ]
  },
  {
   "cell_type": "code",
   "execution_count": 6,
   "metadata": {
    "collapsed": false
   },
   "outputs": [],
   "source": [
    "vocabulary = word2id.keys()\n",
    "eos_id = word2id[u'</s>']"
   ]
  },
  {
   "cell_type": "markdown",
   "metadata": {},
   "source": [
    "### Lemmatizing and replacing words with ids"
   ]
  },
  {
   "cell_type": "code",
   "execution_count": 7,
   "metadata": {
    "collapsed": false
   },
   "outputs": [
    {
     "name": "stdout",
     "output_type": "stream",
     "text": [
      "http://t.co/14dY9LVVeV Взять кредит на технику в альфа банке\n",
      "Взять кредит на технику в альфа банке\n",
      "взять кредит на техника в альфа банка\n",
      "[218, 992, 5, 1032, 2, 6915, 979, 0]\n"
     ]
    }
   ],
   "source": [
    "from nltk.tokenize import RegexpTokenizer\n",
    "import pymorphy2\n",
    "\n",
    "tokenizer = RegexpTokenizer(u'[а-яА-Я]+')\n",
    "morph = pymorphy2.MorphAnalyzer()\n",
    "\n",
    "def text2seq(text):\n",
    "    tokens_norm = [morph.parse(w)[0].normal_form for w in tokenizer.tokenize(text)]\n",
    "    return [word2id[w] for w in tokens_norm if w in vocabulary] + [eos_id]\n",
    "\n",
    "sample = texts[49]\n",
    "\n",
    "print sample\n",
    "print u' '.join(tokenizer.tokenize(sample))\n",
    "print u' '.join([morph.parse(w)[0].normal_form for w in tokenizer.tokenize(sample)])\n",
    "print text2seq(sample)"
   ]
  },
  {
   "cell_type": "raw",
   "metadata": {},
   "source": [
    "# TODO: adding new words to vocabulary\n",
    "from fuzzywuzzy import fuzz\n",
    "metric = fuzz.ratio\n",
    "if word not in vocabulary:        \n",
    "    max_score = 0\n",
    "    closest_word = vocabulary[0]\n",
    "    for w in vocabulary:\n",
    "        score = metric(word, w)\n",
    "        if score > max_score:\n",
    "            max_score = score\n",
    "            closest_word = w\n",
    "    ..."
   ]
  },
  {
   "cell_type": "raw",
   "metadata": {
    "collapsed": false
   },
   "source": [
    "%%time\n",
    "pool = multiprocessing.Pool()\n",
    "X = pool.map(text2seq, texts)"
   ]
  },
  {
   "cell_type": "markdown",
   "metadata": {},
   "source": [
    "Dumping"
   ]
  },
  {
   "cell_type": "raw",
   "metadata": {
    "collapsed": true
   },
   "source": [
    "cPickle.dump(X, open('../data/X_bank_train_full.pkl', 'wb'))"
   ]
  },
  {
   "cell_type": "markdown",
   "metadata": {},
   "source": [
    "Loading"
   ]
  },
  {
   "cell_type": "code",
   "execution_count": 8,
   "metadata": {
    "collapsed": false
   },
   "outputs": [],
   "source": [
    "X = cPickle.load(open('../data/X_bank_train_full.pkl', 'rb'))"
   ]
  },
  {
   "cell_type": "markdown",
   "metadata": {},
   "source": [
    "Distribution of sequences' lengths "
   ]
  },
  {
   "cell_type": "code",
   "execution_count": 9,
   "metadata": {
    "collapsed": false
   },
   "outputs": [
    {
     "data": {
      "image/png": "[encoded data removed]",
      "text/plain": [
       "<matplotlib.figure.Figure at 0x7f57cbb74750>"
      ]
     },
     "metadata": {},
     "output_type": "display_data"
    }
   ],
   "source": [
    "length_max = max(map(len, X))\n",
    "plt.hist(map(len, X), bins=length_max)\n",
    "plt.title(\"Banks domain\", fontsize=15)\n",
    "plt.xlabel(\"Message length (word count)\", fontsize=15)\n",
    "plt.ylabel(\"Number of messages\", fontsize=15)\n",
    "plt.show()"
   ]
  },
  {
   "cell_type": "markdown",
   "metadata": {},
   "source": [
    "### Zero padding"
   ]
  },
  {
   "cell_type": "code",
   "execution_count": 10,
   "metadata": {
    "collapsed": true
   },
   "outputs": [],
   "source": [
    "X = [x + [eos_id]*(length_max - len(x)) for x in X]"
   ]
  },
  {
   "cell_type": "markdown",
   "metadata": {},
   "source": [
    "### Examples"
   ]
  },
  {
   "cell_type": "code",
   "execution_count": 11,
   "metadata": {
    "collapsed": false
   },
   "outputs": [
    {
     "name": "stdout",
     "output_type": "stream",
     "text": [
      "[218, 992, 10694, 6915, 1730, 0, 0, 0, 0, 0, 0, 0, 0, 0, 0, 0, 0, 0, 0, 0, 0, 0, 0, 0, 0, 0, 0, 0, 0]\n",
      "[192, 26, 5239, 1196, 10418, 0, 0, 0, 0, 0, 0, 0, 0, 0, 0, 0, 0, 0, 0, 0, 0, 0, 0, 0, 0, 0, 0, 0, 0]\n",
      "[67959, 2767, 2520, 1918, 2234, 5, 2306, 2, 29, 3832, 76, 10158, 0, 0, 0, 0, 0, 0, 0, 0, 0, 0, 0, 0, 0, 0, 0, 0, 0]\n",
      "[544, 627, 5239, 1297, 2, 32, 5599, 0, 0, 0, 0, 0, 0, 0, 0, 0, 0, 0, 0, 0, 0, 0, 0, 0, 0, 0, 0, 0, 0]\n"
     ]
    }
   ],
   "source": [
    "for x in X[:4]:\n",
    "    print x"
   ]
  },
  {
   "cell_type": "markdown",
   "metadata": {},
   "source": [
    "### One-hot encode labels"
   ]
  },
  {
   "cell_type": "code",
   "execution_count": 12,
   "metadata": {
    "collapsed": false
   },
   "outputs": [],
   "source": [
    "X = np.array(X)\n",
    "y = bank_train.label.values"
   ]
  },
  {
   "cell_type": "code",
   "execution_count": 13,
   "metadata": {
    "collapsed": true
   },
   "outputs": [],
   "source": [
    "def cls2probs(cls):\n",
    "    if cls == -1:\n",
    "        return [1., 0., 0.]\n",
    "    elif cls == 0:\n",
    "        return [0., 1., 0.]\n",
    "    else:\n",
    "        return [0., 0., 1.]\n",
    "\n",
    "y = np.array([cls2probs(cls) for cls in y])"
   ]
  },
  {
   "cell_type": "markdown",
   "metadata": {},
   "source": [
    "### Split into train and validation sets"
   ]
  },
  {
   "cell_type": "code",
   "execution_count": 14,
   "metadata": {
    "collapsed": false
   },
   "outputs": [],
   "source": [
    "from sklearn.model_selection import train_test_split\n",
    "\n",
    "VAL_SIZE = 0.1\n",
    "\n",
    "X_tr, X_val, y_tr, y_val = train_test_split(X, y, test_size=VAL_SIZE, random_state=40)"
   ]
  },
  {
   "cell_type": "raw",
   "metadata": {},
   "source": [
    "# To use if y is one-dimensional array\n",
    "from collections import Counter\n",
    "\n",
    "print Counter(y_tr)\n",
    "print Counter(y_val)"
   ]
  },
  {
   "cell_type": "code",
   "execution_count": 15,
   "metadata": {
    "collapsed": false
   },
   "outputs": [
    {
     "name": "stdout",
     "output_type": "stream",
     "text": [
      "Train class frequencies:\t[2517, 6449, 686]\n",
      "Validation class frequencies:\t[290, 709, 74]\n",
      "Constant classifier's validation accuracy:\t0.660764212488\n"
     ]
    }
   ],
   "source": [
    "print \"Train class frequencies:\\t\", [col.nonzero()[0].shape[0] for col in y_tr.transpose()]\n",
    "print \"Validation class frequencies:\\t\", [col.nonzero()[0].shape[0] for col in y_val.transpose()]\n",
    "print \"Constant classifier's validation accuracy:\\t\", [col.nonzero()[0].shape[0] for col in y_val.transpose()][1] * 1. / y_val.shape[0]"
   ]
  },
  {
   "cell_type": "markdown",
   "metadata": {},
   "source": [
    "### Resampling"
   ]
  },
  {
   "cell_type": "raw",
   "metadata": {
    "collapsed": true
   },
   "source": [
    "# from imblearn.under_sampling import RandomUnderSampler\n",
    "# rus = RandomUnderSampler()\n",
    "# _y = np.argmax(y_tr, 1) - 1\n",
    "# X_resampled, y_resampled = rus.fit_sample(X_tr, _y)\n",
    "# y_resampled = np.array([cls2probs(cls) for cls in y_resampled])\n",
    "\n",
    "neutral_indices = np.random.choice(np.nonzero(y_tr[:,1])[0], np.nonzero(y_tr[:,0])[0].shape[0], replace=False)\n",
    "negative_indices = np.nonzero(y_tr[:,0])[0]\n",
    "positive_indices = np.nonzero(y_tr[:,2])[0]\n",
    "\n",
    "X_resampled = X_tr[np.concatenate([negative_indices, neutral_indices, positive_indices])]\n",
    "y_resampled = y_tr[np.concatenate([negative_indices, neutral_indices, positive_indices])]"
   ]
  },
  {
   "cell_type": "markdown",
   "metadata": {},
   "source": [
    "---"
   ]
  },
  {
   "cell_type": "markdown",
   "metadata": {},
   "source": [
    "# Network learning"
   ]
  },
  {
   "cell_type": "code",
   "execution_count": 16,
   "metadata": {
    "collapsed": false
   },
   "outputs": [],
   "source": [
    "import tensorflow as tf\n",
    "from tensorflow.contrib.rnn import GRUCell\n",
    "from tensorflow.python.ops.rnn import bidirectional_dynamic_rnn as bi_rnn\n",
    "from tensorflow.contrib.layers import fully_connected\n",
    "\n",
    "from utils import *"
   ]
  },
  {
   "cell_type": "code",
   "execution_count": 17,
   "metadata": {
    "collapsed": false
   },
   "outputs": [
    {
     "name": "stdout",
     "output_type": "stream",
     "text": [
      "Constant classifier's F-score on validation set: 0.212765957447\n"
     ]
    }
   ],
   "source": [
    "y_pred_major = np.zeros(y_val.shape)\n",
    "y_pred_major[:,0] = 1.\n",
    "print \"Constant classifier's F-score on validation set:\", f_macro(y_val, y_pred_major)"
   ]
  },
  {
   "cell_type": "markdown",
   "metadata": {},
   "source": [
    "---"
   ]
  },
  {
   "cell_type": "markdown",
   "metadata": {},
   "source": [
    "### Bi-RNN with Attention mechanism"
   ]
  },
  {
   "cell_type": "markdown",
   "metadata": {},
   "source": [
    "Attention mechanism formulas and notation\n",
    "$$\n",
    "\\upsilon_{t}=\\tanh{(W_{\\omega}\\left[\\overrightarrow{h_{t}},\\overleftarrow{h_{t}}\\right]+b_{\\omega})}\\\\\n",
    "\\alpha_{t}=\\frac{\\exp{(\\upsilon_{t}^{T}u_{\\omega})}}{\\sum_{j=1}^{T}\\exp{(\\upsilon_{j}^{T}u_{\\omega})}}\\\\\n",
    "\\upsilon=\\sum_{t=1}^{T}\\alpha_{t}h_{t}\t\n",
    "$$"
   ]
  },
  {
   "cell_type": "code",
   "execution_count": 18,
   "metadata": {
    "collapsed": false
   },
   "outputs": [],
   "source": [
    "EMBED_DIM = 300\n",
    "SEQ_LENGTH = length_max\n",
    "HIDDEN_SIZE = 300\n",
    "ATTENTION_SIZE = 100\n",
    "NUM_CLASSES = 3\n",
    "\n",
    "tf.reset_default_graph()\n",
    "\n",
    "batch_ph   = tf.placeholder(tf.int32, [None, SEQ_LENGTH])\n",
    "target_ph  = tf.placeholder(tf.float32, [None, NUM_CLASSES])\n",
    "seq_len_ph = tf.placeholder(tf.int32, [None])\n",
    "keep_prob_ph = tf.placeholder(tf.float32)\n",
    "\n",
    "embeddings_ph = tf.placeholder(tf.float32, [len(vocabulary), EMBED_DIM])\n",
    "embeddings_var = tf.Variable(tf.constant(0., shape=[len(vocabulary), EMBED_DIM]), trainable=False)\n",
    "init_embeddings = embeddings_var.assign(embeddings_ph)\n",
    "\n",
    "batch_embedded = tf.nn.embedding_lookup(embeddings_var, batch_ph)\n",
    "\n",
    "# Bi-RNN layers\n",
    "outputs,_ = bi_rnn(GRUCell(HIDDEN_SIZE), GRUCell(HIDDEN_SIZE),\n",
    "                   inputs=batch_embedded,sequence_length=seq_len_ph, dtype=tf.float32, scope=\"bi_rnn1\")  \n",
    "outputs = tf.concat(outputs, 2)\n",
    "# outputs,_ = bi_rnn(GRUCell(HIDDEN_SIZE), GRUCell(HIDDEN_SIZE),\n",
    "#                          inputs=outputs,sequence_length=seq_len_ph, dtype=tf.float32, scope=\"bi_rnn2\")\n",
    "# outputs = tf.concat(outputs, 2)\n",
    "\n",
    "# Attention mechanism\n",
    "W_omega = tf.Variable(tf.random_normal([2 * HIDDEN_SIZE, ATTENTION_SIZE], stddev=0.1))\n",
    "b_omega = tf.Variable(tf.random_normal([ATTENTION_SIZE], stddev=0.1))\n",
    "u_omega = tf.Variable(tf.random_normal([ATTENTION_SIZE], stddev=0.1))\n",
    "\n",
    "v = tf.tanh(tf.matmul(tf.reshape(outputs, [-1, 2 * HIDDEN_SIZE]), W_omega) + tf.reshape(b_omega, [1, -1]))\n",
    "vu = tf.matmul(v, tf.reshape(u_omega, [-1, 1]))\n",
    "exps = tf.reshape(tf.exp(vu), [-1, SEQ_LENGTH])\n",
    "alphas = exps / tf.reshape(tf.reduce_sum(exps, 1), [-1, 1])\n",
    "\n",
    "# Output of Bi-RNN reduced with attention vector\n",
    "output = tf.reduce_sum(outputs * tf.reshape(alphas, [-1, SEQ_LENGTH, 1]), 1)\n",
    "\n",
    "# Dropout\n",
    "drop = tf.nn.dropout(output, keep_prob_ph)\n",
    "\n",
    "# Fully connected layer\n",
    "W = tf.Variable(tf.truncated_normal([HIDDEN_SIZE * 2, NUM_CLASSES], stddev=0.1), name=\"W\")\n",
    "b = tf.Variable(tf.constant(0., shape=[NUM_CLASSES]), name=\"b\")\n",
    "y_hat = tf.nn.xw_plus_b(drop, W, b, name=\"scores\")"
   ]
  },
  {
   "cell_type": "code",
   "execution_count": 19,
   "metadata": {
    "collapsed": false
   },
   "outputs": [],
   "source": [
    "# Adam parameters\n",
    "LEARNING_RATE = 1e-4\n",
    "EPSILON = 1e-5\n",
    "BETA1 = 0.9\n",
    "BETA2 = 0.9\n",
    "# L2 regularization coefficient\n",
    "BETA = 0\n",
    "\n",
    "cross_entropy = tf.reduce_mean(tf.nn.softmax_cross_entropy_with_logits(logits=y_hat, labels=target_ph),\n",
    "                               name=\"cross_entropy\")\n",
    "l2_loss = tf.nn.l2_loss(W, name=\"l2_loss\")\n",
    "loss = cross_entropy + l2_loss * BETA\n",
    "optimizer = tf.train.AdamOptimizer(learning_rate=LEARNING_RATE, beta1=BETA1, beta2=BETA2,\n",
    "                                   epsilon=EPSILON).minimize(loss)\n",
    "# optimizer = tf.train.AdadeltaOptimizer(learning_rate=LEARNING_RATE, rho=0.7).minimize(loss)\n",
    "# optimizer = tf.train.AdagradOptimizer(learning_rate=LEARNING_RATE, initial_accumulator_value=0.1).minimize(loss)\n",
    "# optimizer = tf.train.MomentumOptimizer(learning_rate=1e-1, momentum=0.1).minimize(loss)\n",
    "# optimizer = tf.train.RMSPropOptimizer(learning_rate=LEARNING_RATE, decay=0.9, momentum=0.1).minimize(loss)\n",
    "\n",
    "accuracy = tf.reduce_mean(tf.cast(tf.equal(tf.argmax(target_ph, 1), tf.argmax(y_hat, 1)), tf.float32))"
   ]
  },
  {
   "cell_type": "code",
   "execution_count": 20,
   "metadata": {
    "collapsed": false,
    "scrolled": false
   },
   "outputs": [
    {
     "name": "stdout",
     "output_type": "stream",
     "text": [
      "epoch: 99\n",
      "\t Train loss: 0.043\t ce: 0.043\t acc: 0.992\t f_macro: 0.976\n",
      "\t Valid loss: 0.558\t ce: 0.558\t acc: 0.894\t f_macro: 0.739\n"
     ]
    },
    {
     "data": {
      "image/png": "[encoded data removed]",
      "text/plain": [
       "<matplotlib.figure.Figure at 0x7f578d0f5510>"
      ]
     },
     "metadata": {},
     "output_type": "display_data"
    }
   ],
   "source": [
    "DROPOUT = 0.5  # Probability of keeping a neuron\n",
    "BATCH_SIZE = 256\n",
    "EPOCHS = 100\n",
    "\n",
    "results = []\n",
    "\n",
    "train_batch_generator = batch_generator(X_tr, y_tr, BATCH_SIZE)\n",
    "\n",
    "loss_tr_l = []\n",
    "loss_val_l = []\n",
    "ce_tr_l = []  # Cross-entropy\n",
    "ce_val_l = []\n",
    "acc_tr_l = []  # Accuracy\n",
    "acc_val_l = []\n",
    "f_macro_tr_l = []\n",
    "f_macro_val_l = []\n",
    "f_fair_tr_l = []\n",
    "f_fair_val_l = []\n",
    "\n",
    "with tf.Session() as sess:\n",
    "    sess.run(tf.global_variables_initializer())\n",
    "    sess.run(init_embeddings, feed_dict={embeddings_ph: embeddings})\n",
    "    print \"Start learning...\"\n",
    "    for epoch in range(EPOCHS):\n",
    "        for i in range(int(X_tr.shape[0] / BATCH_SIZE)):\n",
    "            x_batch, y_batch = train_batch_generator.next()\n",
    "            seq_len_tr = np.array([list(x).index(eos_id) + 1 for x in x_batch])\n",
    "            sess.run(optimizer, feed_dict={batch_ph: x_batch, target_ph: y_batch,\n",
    "                                           seq_len_ph: seq_len_tr, keep_prob_ph: DROPOUT})\n",
    "\n",
    "        y_pred_tr, ce_tr, loss_tr, acc_tr = sess.run([y_hat, cross_entropy, loss, accuracy],\n",
    "                                              feed_dict={batch_ph: x_batch, target_ph: y_batch, \n",
    "                                                         seq_len_ph: seq_len_tr, keep_prob_ph: 1.0})\n",
    "        seq_len_val = np.array([list(x).index(eos_id) + 1 for x in X_val])\n",
    "        y_pred_val, ce_val, loss_val, acc_val = sess.run([y_hat, cross_entropy, loss, accuracy],\n",
    "                                                         feed_dict={batch_ph: X_val, target_ph: y_val,\n",
    "                                                                    seq_len_ph: seq_len_val, keep_prob_ph: 1.0})\n",
    "\n",
    "\n",
    "        y_pred_tr = np.array([cls2probs(cls) for cls in np.argmax(y_pred_tr, 1) - 1])\n",
    "        y_pred_val = np.array([cls2probs(cls) for cls in np.argmax(y_pred_val, 1) - 1])\n",
    "        f_macro_tr, f_micro_tr = f_macro(y_batch, y_pred_tr), f_micro(y_batch, y_pred_tr)\n",
    "        f_macro_val, f_micro_val = f_macro(y_val, y_pred_val), f_micro(y_val, y_pred_val)\n",
    "\n",
    "        loss_tr_l.append(loss_tr)\n",
    "        loss_val_l.append(loss_val)\n",
    "        ce_tr_l.append(ce_tr)\n",
    "        ce_val_l.append(ce_val)\n",
    "        acc_tr_l.append(acc_tr)\n",
    "        acc_val_l.append(acc_val)\n",
    "        f_macro_tr_l.append(f_macro_tr)\n",
    "        f_macro_val_l.append(f_macro_val)\n",
    "\n",
    "        clear_output(wait=True)\n",
    "        print \"epoch: {}\".format(epoch)\n",
    "        print \"\\t Train loss: {:.3f}\\t ce: {:.3f}\\t acc: {:.3f}\\t f_macro: {:.3f}\".format(\n",
    "            loss_tr, ce_tr, acc_tr, f_macro_tr)\n",
    "        print \"\\t Valid loss: {:.3f}\\t ce: {:.3f}\\t acc: {:.3f}\\t f_macro: {:.3f}\".format(\n",
    "            loss_val, ce_val, acc_val, f_macro_val)\n",
    "\n",
    "        plt.figure(figsize=(15,10))\n",
    "        plt.plot(ce_tr_l, color='blue', label='ce_tr')\n",
    "        plt.plot(ce_val_l, color='red', label='ce_val')        \n",
    "        plt.plot(f_macro_val_l, color='green', label='f_macro_val')\n",
    "        plt.xlim(0, EPOCHS - 1)\n",
    "        plt.ylim(0, 1)\n",
    "        plt.legend()\n",
    "        plt.show()\n",
    "\n",
    "    saver = tf.train.Saver() \n",
    "    saver.save(sess, 'model')"
   ]
  },
  {
   "cell_type": "code",
   "execution_count": 21,
   "metadata": {
    "collapsed": false
   },
   "outputs": [
    {
     "name": "stdout",
     "output_type": "stream",
     "text": [
      "0.893756 0.739179802298\n"
     ]
    }
   ],
   "source": [
    "print acc_val, f_macro_val"
   ]
  },
  {
   "cell_type": "markdown",
   "metadata": {},
   "source": [
    "---"
   ]
  },
  {
   "cell_type": "markdown",
   "metadata": {},
   "source": [
    "---"
   ]
  },
  {
   "cell_type": "markdown",
   "metadata": {},
   "source": [
    "---"
   ]
  },
  {
   "cell_type": "markdown",
   "metadata": {},
   "source": [
    "# Testing"
   ]
  },
  {
   "cell_type": "code",
   "execution_count": 22,
   "metadata": {
    "collapsed": true
   },
   "outputs": [],
   "source": [
    "bank_test = pd.read_csv('../data/bank_test.csv', sep='\\t', encoding='utf-8')\n",
    "texts_test, labels_test = bank_test.text.values, bank_test.label.values"
   ]
  },
  {
   "cell_type": "raw",
   "metadata": {
    "collapsed": false
   },
   "source": [
    "%%time\n",
    "pool = multiprocessing.Pool()\n",
    "X_test = pool.map(text2seq, texts_test)\n",
    "cPickle.dump(X_test, open('../data/X_bank_test.pkl', 'wb'))"
   ]
  },
  {
   "cell_type": "code",
   "execution_count": 23,
   "metadata": {
    "collapsed": true
   },
   "outputs": [],
   "source": [
    "X_test = cPickle.load(open('../data/X_bank_test.pkl', 'rb'))"
   ]
  },
  {
   "cell_type": "code",
   "execution_count": 24,
   "metadata": {
    "collapsed": false
   },
   "outputs": [],
   "source": [
    "X_test = [x + [eos_id]*(length_max - len(x)) for x in X_test]\n",
    "X_test = np.array(X_test)\n",
    "y_test = np.array([cls2probs(cls) for cls in labels_test])"
   ]
  },
  {
   "cell_type": "raw",
   "metadata": {},
   "source": [
    "# For experiments with mixing training set with test.\n",
    "X = np.vstack((X, X_test))\n",
    "y = np.vstack((y, y_test))"
   ]
  },
  {
   "cell_type": "code",
   "execution_count": 25,
   "metadata": {
    "collapsed": false
   },
   "outputs": [],
   "source": [
    "with tf.Session() as sess:\n",
    "    new_saver = tf.train.import_meta_graph('model.meta')\n",
    "    new_saver.restore(sess, tf.train.latest_checkpoint('./'))\n",
    "    \n",
    "    seq_len_test = np.array([list(x).index(eos_id) + 1 for x in X_test])\n",
    "    y_pred_test, ce_test, loss_test, acc_test = sess.run([y_hat, cross_entropy, loss, accuracy],\n",
    "                                                     feed_dict={batch_ph: X_test, target_ph: y_test,\n",
    "                                                                seq_len_ph: seq_len_test, keep_prob_ph: 1.0})\n",
    "    seq_len_val = np.array([list(x).index(eos_id) + 1 for x in X_val])\n",
    "    y_pred_val, ce_val, loss_val, acc_val = sess.run([y_hat, cross_entropy, loss, accuracy],\n",
    "                                                         feed_dict={batch_ph: X_val, target_ph: y_val,\n",
    "                                                                    seq_len_ph: seq_len_val, keep_prob_ph: 1.0})"
   ]
  },
  {
   "cell_type": "code",
   "execution_count": 26,
   "metadata": {
    "collapsed": false
   },
   "outputs": [
    {
     "name": "stdout",
     "output_type": "stream",
     "text": [
      "0.739179802298 0.818304172275\n"
     ]
    }
   ],
   "source": [
    "y_pred_val = np.array([cls2probs(cls) for cls in np.argmax(y_pred_val, 1) - 1])\n",
    "f_macro_val, f_micro_val = f_macro(y_val, y_pred_val), f_micro(y_val, y_pred_val)\n",
    "print f_macro_val, f_micro_val"
   ]
  },
  {
   "cell_type": "code",
   "execution_count": 27,
   "metadata": {
    "collapsed": false
   },
   "outputs": [
    {
     "name": "stdout",
     "output_type": "stream",
     "text": [
      "0.494204049857 0.52677508925\n"
     ]
    }
   ],
   "source": [
    "y_pred_test = np.array([cls2probs(cls) for cls in np.argmax(y_pred_test, 1) - 1])\n",
    "f_macro_test, f_micro_test = f_macro(y_test, y_pred_test), f_micro(y_test, y_pred_test)\n",
    "print f_macro_test, f_micro_test"
   ]
  },
  {
   "cell_type": "code",
   "execution_count": 49,
   "metadata": {
    "collapsed": true
   },
   "outputs": [],
   "source": [
    "id2word = {}\n",
    "for word, word_id in word2id.iteritems():\n",
    "    id2word[word_id] = word"
   ]
  },
  {
   "cell_type": "code",
   "execution_count": 54,
   "metadata": {
    "collapsed": false
   },
   "outputs": [
    {
     "name": "stdout",
     "output_type": "stream",
     "text": [
      "@RSHBmedia почему такой неудобный и не информативный интернет-банк? Учитесь у @sberbank и его Сбербанк-онлайн.\n"
     ]
    }
   ],
   "source": [
    "sentence=texts_test[160]\n",
    "print sentence"
   ]
  },
  {
   "cell_type": "code",
   "execution_count": 56,
   "metadata": {
    "collapsed": false
   },
   "outputs": [
    {
     "name": "stdout",
     "output_type": "stream",
     "text": [
      "почему такой неудобный и не информативный интернет банк Учитесь у и его Сбербанк онлайн\n"
     ]
    }
   ],
   "source": [
    "print \" \".join(tokenizer.tokenize(sentence))"
   ]
  },
  {
   "cell_type": "code",
   "execution_count": 57,
   "metadata": {
    "collapsed": true
   },
   "outputs": [],
   "source": [
    "tokens = [\"почему\", \"такой\", \"неудобный\", \"и\", \"не\", \"информативный\", \"интернет-\", \"банк?\",\n",
    "          \"Учитесь\", \"у @sberbank\", \"и\", \"его\", \"Сбербанк-\", \"онлайн.\"]"
   ]
  },
  {
   "cell_type": "code",
   "execution_count": 53,
   "metadata": {
    "collapsed": false
   },
   "outputs": [
    {
     "name": "stdout",
     "output_type": "stream",
     "text": [
      "[  103    30  6611     1     3 18272   413  1730   686    18     1    15\n",
      "  5599  5852     0     0     0     0     0     0     0     0     0     0\n",
      "     0     0     0     0     0]\n"
     ]
    }
   ],
   "source": [
    "print X_test[160]"
   ]
  },
  {
   "cell_type": "code",
   "execution_count": 51,
   "metadata": {
    "collapsed": true
   },
   "outputs": [],
   "source": [
    "with tf.Session() as sess:\n",
    "    new_saver = tf.train.import_meta_graph('model.meta')\n",
    "    new_saver.restore(sess, tf.train.latest_checkpoint('./'))\n",
    "    x_batch_test, y_batch_test = X_test[160:161], y_test[160:161]\n",
    "    seq_len_test = np.array([list(x).index(eos_id) + 1 for x in x_batch_test])\n",
    "    y_pred_test, alphas_test = sess.run([y_hat, alphas],\n",
    "                                                 feed_dict={batch_ph: x_batch_test, target_ph: y_batch_test,\n",
    "                                                            seq_len_ph: seq_len_test, keep_prob_ph: 1.0})"
   ]
  },
  {
   "cell_type": "code",
   "execution_count": 52,
   "metadata": {
    "collapsed": false
   },
   "outputs": [
    {
     "data": {
      "text/plain": [
       "array([[ 3.81976366, -7.70932531,  3.54561615]], dtype=float32)"
      ]
     },
     "execution_count": 52,
     "metadata": {},
     "output_type": "execute_result"
    }
   ],
   "source": [
    "y_pred_test"
   ]
  },
  {
   "cell_type": "code",
   "execution_count": 59,
   "metadata": {
    "collapsed": false
   },
   "outputs": [
    {
     "name": "stdout",
     "output_type": "stream",
     "text": [
      "\\colorbox{yellow!87}{почему}\n",
      "\\colorbox{yellow!100}{такой}\n",
      "\\colorbox{yellow!69}{неудобный}\n",
      "\\colorbox{yellow!71}{и}\n",
      "\\colorbox{yellow!69}{не}\n",
      "\\colorbox{yellow!68}{информативный}\n",
      "\\colorbox{yellow!3}{интернет-}\n",
      "\\colorbox{yellow!3}{банк?}\n",
      "\\colorbox{yellow!8}{Учитесь}\n",
      "\\colorbox{yellow!16}{у @sberbank}\n",
      "\\colorbox{yellow!17}{и}\n",
      "\\colorbox{yellow!12}{его}\n",
      "\\colorbox{yellow!19}{Сбербанк-}\n",
      "\\colorbox{yellow!1}{онлайн.}\n"
     ]
    }
   ],
   "source": [
    "for word, coef in zip(tokens, alphas_test[0,:len(tokens)] * 1000 / 1.81):\n",
    "    print \"\\colorbox{yellow!%d}{%s}\" % (int(coef), word)"
   ]
  },
  {
   "cell_type": "markdown",
   "metadata": {},
   "source": [
    "---"
   ]
  },
  {
   "cell_type": "code",
   "execution_count": 101,
   "metadata": {
    "collapsed": true
   },
   "outputs": [],
   "source": [
    "idx = 821\n",
    "with tf.Session() as sess:\n",
    "    new_saver = tf.train.import_meta_graph('model.meta')\n",
    "    new_saver.restore(sess, tf.train.latest_checkpoint('./'))\n",
    "    x_batch_test, y_batch_test = X_test[idx:idx + 1], y_test[idx:idx + 1]\n",
    "    seq_len_test = np.array([list(x).index(eos_id) + 1 for x in x_batch_test])\n",
    "    y_pred_test, alphas_test = sess.run([y_hat, alphas],\n",
    "                                                 feed_dict={batch_ph: x_batch_test, target_ph: y_batch_test,\n",
    "                                                            seq_len_ph: seq_len_test, keep_prob_ph: 1.0})"
   ]
  },
  {
   "cell_type": "code",
   "execution_count": 102,
   "metadata": {
    "collapsed": false
   },
   "outputs": [
    {
     "name": "stdout",
     "output_type": "stream",
     "text": [
      "@sberbank Почему-то не приходят смс-сообщения для подтверждения входа\n",
      "\\colorbox{yellow!61}{Почему}\n",
      "\\colorbox{yellow!77}{то}\n",
      "\\colorbox{yellow!100}{не}\n",
      "\\colorbox{yellow!57}{приходят}\n",
      "\\colorbox{yellow!15}{смс}\n",
      "\\colorbox{yellow!22}{сообщения}\n",
      "\\colorbox{yellow!5}{для}\n",
      "\\colorbox{yellow!7}{подтверждения}\n",
      "\\colorbox{yellow!0}{входа}\n"
     ]
    }
   ],
   "source": [
    "print texts_test[idx]\n",
    "tokens = texts_test[idx].split()\n",
    "tokens = tokenizer.tokenize(texts_test[idx])\n",
    "coefs = alphas_test[0,:len(tokens)] / max(alphas_test[0,:len(tokens)])\n",
    "for word, coef in zip(tokens,  coefs * 100):\n",
    "    print \"\\colorbox{yellow!%d}{%s}\" % (int(coef), word)"
   ]
  },
  {
   "cell_type": "code",
   "execution_count": 100,
   "metadata": {
    "collapsed": false
   },
   "outputs": [
    {
     "name": "stdout",
     "output_type": "stream",
     "text": [
      "1 -1 Сбербанк: Банк друзей\n",
      "Многоуважаемый банк!\n",
      "Нельзя ли как-нибудь оградить меня от иронических реплик друзей,... http://t.co/YtIPk2GMy3\n",
      "3 -1 RT @donaldiboforiw: #Не могу снять деньги с кредитки сбербанка\n",
      "8 -1 RT @kennethimujebad: http://t.co/MNY6rwzejR #Сбербанк онлайн не видит мою\n",
      "9 -1 Крупнейшие российские банки сокращают персонал в своих западных отделениях. Сбербанк уволил в своем офисе в Лондоне семь человек, сообщает\n",
      "11 -1 Правильно. \n",
      "Сбербанку и работодателю я бы тоже не доверил свой паспорт. \n",
      "Куда потом пойдет скан паспорта никаму не известно.&amp;raquo;\n",
      "15 -1 nesty\n",
      "Привет,ты не знаешь со скольки работают сбербанки?\n",
      "Ёрик @home\n",
      "привет, они вообще не работают\n",
      "Ёрик @home\n",
      "они сидят и пиздят весь\n",
      "21 -1 @sberbank Почему-то не приходят смс-сообщения для подтверждения входа\n",
      "32 -1 @Alexey_Pushkov Греф  отказывается в Крым  приходить со своим  сбербанком и Костин глава ВТБ,также  они   дочки  своих банком  на Украине\n",
      "34 -1 потом ждешь полчаса, когда придут деньги и с третьей попытки (синхронизация с смс-оповещениями вк так же как и в сбербанке работает не оч)-&gt;\n",
      "41 -1 #Год не самый высокий темп прироста объема беззалоговых кредитов у «сбербанка»\n",
      "44 -1 Сбербанк-это не банк России, это ее -позор - http://t.co/cY4F2ocQ0R #GoogleAlerts\n",
      "45 -1 #Почему на кредитную карточку сбербанка деньги не поступают\n",
      "61 -1 RT @davydov_a: Чуда нет, деньги так и не пришли. @sberbank нарушает условия договора, у нас зачисление не позднее сл дня должно быть! #кост…\n",
      "62 -1 3 дня деньги не могут прийти на счет РПР-ПАРНАС,пожертвованые в соседнем зале. @sberbank зачислите их в конце концов! http://t.co/mqcg0rB97u\n",
      "63 -1 RT @sobakachorna: заблудилась в огромном, 5этажном сбербанке. я реально чуть не обоссалась от страха, тут ужасно, я хочу домой!\n",
      "64 -1 @RSHBmedia кто у вас отвечает за вымогательство? Справка не в состоянии решить проблему. СБ работать не хочет. Директор Веденисов врун.\n",
      "66 -1 RT @GlashaM: всё настолько медленно, редко и сдержанно, что у меня ощущение будто я флиртую со сбербанком.\n",
      "67 -1 Читаю тут как вся опозиционная коалиция ругает сбербанк. Грусть-тоска в том что в банках вообще ничего не работает.. https://t.co/nmwdjWyov2\n",
      "69 -1 RT @kmmbvnr: Читаю тут как вся опозиционная коалиция ругает сбербанк. Грусть-тоска в том что в банках вообще ничего не работает.. https://t…\n",
      "71 -1 RT @maryel2002: Грефу привет \"@brewerov: Удивительное рядом, @sberbank не видит зачисленные в пятницу(!) днем деньги - что является нарушен…\n",
      "72 -1 RT @maryel2002: Греф рассказывает про реформы и модернизацию, а его @sberbank не может нормально работать с избирательными счетами. Реформа…\n",
      "73 -1 @alyona_tin сбер, альфа, втб24, отп и тд имеют свои дыры. Конкретно в Сбере воруют сотрудники (говорил не один знакомый сотрудник)\n",
      "74 -1 @sberbank С утра   не работает Сбербанк -Онлайн....\n",
      "75 -1 Терпеть не могу проходить мимо Сбербанка\n",
      "Суки, до сих пор не дали мне карточку, суки\n",
      "76 -1 мой аванс ушёл в ростов-на-дону. а все потому, что работник сбербанка продиктовал не тот счёт карты. \n",
      "вопрос, куда он смотрел?\n",
      "77 -1 Вот в этом весь Сбербанк. Я бы вам лозунг предложил: Нам плевать на ваше время!&amp;raquo;. Кому нужна этот пост с канцелярской инструкцией? Со\n",
      "79 -1 @sberbank почему указанные правила не отражены в вашем договоре банковского счета?\n",
      "86 -1 @sberbank банкомат 185615 принял деньги, дал чек, а на счет зачислить - не зачислил. Ждать в колл-центре велели от 5 до 30 дней. Без денег.\n",
      "90 -1 @sberbank прошло три месяца с момента вашего ответа мне  впервые. А в конт.центре не знают что должны мне ответить. Дезинформируете?\n",
      "91 -1 #бизнес #новости Сбербанк не ждет в 2015 году прибыли на уровне прошлого года #финансы\n",
      "93 -1 sberbank Что случилось с интернет банкингом? Не приходят СМС от любого оператора\n",
      "96 -1 Представители Сбербанка констатируют снижение прибыли более чем в 2 раза http://t.co/SbcoH2O5St\n",
      "98 -1 Прибыль Сбербанка продолжает падать http://t.co/U0zVBcHh9T\n",
      "99 -1 Терминал @sberbank 472965 не настроен: выплевывает все чеки на скорости прямо на пол (((\n",
      "107 -1 @AnchenFi параллельно открывают счёт рублёвый, на всякий случай. Якобы от сбербанка на дельфин-карту долетают не всегда..\n",
      "109 -1 Совестливый Сбербанк отказывается работать в Крыму. Напомните Цепляевой. Если она не знает @volkova_v @MitichkinS\n",
      "110 -1 в голове не укладывается, как и за что сбербанк арестовал мои счета?\n",
      "111 -1 RT @yeleleo: Прощаюсь с @alfa_bank. Причина простая — воровство, без моего ведома украл мои деньги со счета «Сейф», оформив на меня виртуал…\n",
      "114 -1 @alfa_bank в управление карточкой в принципе зайти нельзя (нет стрелочки, это видно на скрине)\n",
      "116 -1 За последнюю неделю меня отправляли не в те отделения:Сбербанк (2 раза);почта: 1 раз. Общая продолжительность ожидания: 2,5 драгоценных часа\n",
      "117 -1 @sberbank а нельзя что-нибудь действительно полезное клиенту а не банку? Например выпустить вторую карту с бесплатным обслуживанием?\n",
      "118 -1 @sberbank платежи по кредиту на до скидывать на сберкнижку где еще струнником печатают! СБЕРКНИЖКУ КАРЛ!!!! Какие карты, не не слышал!\n",
      "122 -1 Письма коллекторов - Альфа-банк #альфабанк От мелкого мошенничества до серьезного преступления http://t.co/I8GEkP57XT\n",
      "124 -1 Сбербанк сцуко обрадовал! Раньше было без проблем, теперь бечполезная программа http://t.co/0XibP8efrD\n",
      "125 -1 RT @t_yikanadam: Акции Сбербанка рухнули на бирже Нью-Йорка. \"Мужчина, вы что не видите у нас обед\" - прокомментировали события представит…\n",
      "127 -1 сБЕРбанк - медвежий банк\n",
      "128 -1 @sberbank всё, деньги не вернулись, больше нечего сказать?)\n",
      "130 -1 КМПКВ, я сожгу все сбербанки. \n",
      "Число рублей прописью, число копеек - цифрами. Между рублями и копейками – тире (или дефис), а не запятая.\n",
      "131 -1 Сбербанк онлайн предлагает работать только через мозилу или интернет эксплорер. С остальными браузерами может работать некорректно, пишут.\n",
      "133 -1 @trofzv ЕСЛИ И ВТОРАЯ КАРТА БУДЕТ ОФОРМЛЯТЬСЯ ЕЩЁ 40 ДНЕЙ, ТО ПЕНСИОНЕР ПРОСТО УМРЁТ С ГОЛОДА...АУ,ГЛАВА СБЕРБАНКА, ТАК РАБОТАТЬ НЕЛЬЗЯ !!!\n",
      "136 -1 После долгих финансовых махинаций,и полное отсутствие Сбербанка,мы сняли часть денег\n",
      "139 -1 RT @Sandy_mustache: Теперь продать душу дьяволу можно в любом отделении Сбербанка России.\n",
      "140 -1 не работают карты сбербанка в Крыму ,руководители всех уровней уже не раз отчитывались о том что карты Visa и Master Card работают-ложь\n",
      "143 -1 кто бы знал, насколько сложно не переходить на мат при общении с сотрудниками сбербанка, кто бы знал\n",
      "144 -1 @sberbank почему мне заблокировали мобильный банк и не прислали ни одного оповещения об этом?\n",
      "145 -1 @sberbank и чтобы их снять со счета мне нужно будет по 40 минут висеть у вас на линии и каждый раз проходить проверку личности?\n",
      "150 -1 @AlfabankBY уже нет возможности проверить. Просто после выбора платежей и вводе сумм кнопка далее не реагировала на нажатие.\n",
      "151 -1 Секторальные санкции ЕС и США, под которые в прошлом году наряду с другими российскими госбанками подпал Россельхозбанк, не помешали SWIFT\n",
      "152 -1 Какая же @sberbank мутная контора (( погорели бы они в аду уже.. В СбербанкOnline деньги снялись с одной карты, но на другую не зачислись..\n",
      "155 -1 RT @D_Suharev: Я помню гениальнейший импортозаместитель Visa - Сберкарт. Даже в Петербурге не во всех Сбербанках принимали. А оплатить ей н…\n",
      "156 -1 Суд разрешил ВТБ24 не пересчитывать ипотеку по курсу 24руб./долл. Как противостоять человеку с детьми, работой банку? http://t.co/Tnuf7eZc61\n",
      "158 -1 я не поняла, что за бред... если забыл пин-код, перевыпускать карту??в втб24 вообще с дуба свалились?\n",
      "161 -1 @sberbank @tutrinkirill  в мобильной версии почти ничего нельзя. сайт банка работает очень плохо из за ерунды на жс.\n",
      "162 -1 Пошел в \"горячо любимый\" сбербанк снять с сберкнижки деньги (клал в разных филиалах) http://t.co/uJeR9mqaly\n",
      "163 -1 @sberbank ясно.  Я наконец с третьего раза спустя суммарное ожидание более 2 часов смогла наконец получить за 3 мин свою карту\n",
      "165 -1 @sberbankkz работает на расслабоне,  суббота-а значит должна работать только одна касса \n",
      "169 -1 RT @dpasrusbuzzther: Не дали кредит в сбербанке http://t.co/91KX8OYHtf\n",
      "170 -1 @xrunik_ а ты не знала чтоли? Сбербанк он такой\n",
      "172 -1 Я не устану повторять, что ненавижу Райффайзен банк. В ЮБ всего два банкомата и оба не выдают наличку сегодня.\n",
      "174 -1 Карточки Сбербанка не работают в Крыму. Берём наличные с собой\n",
      "178 -1 Капец . Блин посоветуйте банк. Сбербанку я уже не доверяю...\n",
      "179 -1 Капец как можно делать крупные вклады, копить на что то если банк отьебывается и не может дать доступ к моему вкладу #Сбербанк\n",
      "180 -1 легче пройти по всем местам где ты мог потерять карту, чем дозвониться до \"круглосуточного\" консультанта @alfa_bank и заблокировать ее\n",
      "183 -1 бога благодарю, что не имела и не имею дел со сбербанком, который как застрял в эре сберкнижек так там и сидит\n",
      "187 -1 @Raiffeisen_Ru надеюсь получить письменный ответ по сути претензии о царящем у вас хаосе и блокировке карт без информирования клиентов\n",
      "194 -1 @alfa_bank @Suvitruf глаза откройте что ли. там ВСЁ НЕ ТАК\n",
      "196 -1 @alfa_bank Звонят по 20 раз в день, не смотря на то, что я даже не являюсь клиентом банка. И теперь никогда не буду\n",
      "198 -1 @evgenygoman @av_sharkov Недешево стоит без очередей в Сбербанке обслуживаться )) А ведь - https://t.co/j0Agl8PZgb\n",
      "204 -1 Словом Настя тоже в бешенстве от сбера..((  РТ @Chereshnya_A: Ближайшее отделение Сбербанка этого сделать не может))\n",
      "210 -1 @sberbank прошло несколько месяцев, но никакого ответа так и не последовало. Причем это не первый раз, когда ваш просто  банк не отвечает.\n",
      "213 -1 В каждом городе России есть уродливое здание Сбербанка, которое напоминает, что хорошей архитектуры никогда не будет.http://t.co/DbRgNtU9eg\n",
      "217 -1 @s7max @sberbank Не работает!\n",
      "218 -1 Сбербанк решил вложится в сельское хозяйство, видимо там будут пахать просрочившие кредит.#ЦепочкаФолловеров\n",
      "221 -1 @Yacsbera Да, \"Сбер\" уже не тот.... Их спасибо от сбербанка просто насмешка...\n",
      "223 -1 @KSyomin #Сбербанк боится работать в Крыму и Севастополе\n",
      "https://t.co/7qZyOFvY4U\n",
      "225 -1 RT @brnstew: сбербанк - и пусть весь мир подождет, пока ты пытаешься до нас дозвониться, маленький ублюдок\n",
      "228 -1 Господа ИТ-ки Сбербанка, лично я ни за что не поставлю ваше приложение на свой телефон, я тупо боюсь так над ним издеваться, потому что пос\n",
      "229 -1 Про сбербанк рассмешили. Попробуйте пойти в отделение в соседнем городе и попробовать снять деньги со своего счета (не карты). Они даже вып\n",
      "236 -1 Обратилась с заявлением через онлайн-банк в @sberbank,получила ответ.Такое чувство, что они вообще не читают текст.К кому еще обратиться?\n",
      "237 -1 @sberbank я так и сделала,но вопрос по-прежнему не решен.Я физически приехать я не могу,т.к.нахожусь в другой стране на 2 года\n",
      "243 -1 Российские банки - от мелкого мошенничества до серьезного преступления #альфабанк @bank_rs @Rus_Standard http://t.co/UTJhFAIfoL\n",
      "244 -1 @sberbank почему тогда в СПб больше 30 000 банкомат не выдает, и через операциониста не удалось снять?\n",
      "246 -1 Как себя обезопасить от наглости СБЕРБАНКА? http://t.co/qezjCURsle\n",
      "249 -1 СберБанк, как и Почта России при нашей жизни уже не изменятся, по крайней мере я\n",
      "252 -1 RT @airily_ann: Из-за ограничения по символам в назначении платежа у @sberbank приходится возвращать пожертвования: данные просто не влезаю…\n",
      "253 -1 Я вот не поэт, но у меня уж третий месяц\n",
      "сбербанковские счета заблокированы. http://t.co/Zt9rmTTAtM\n",
      "254 -1 @Volutar @airily_ann @alburov @sberbank ограничивает не только сбер. В прошлом году весь Ситибанк вернули, там в 4 раза меньше символов\n",
      "255 -1 RT @GaninaSA: \"Я их душил-душил, душил-душил...\". В смысл, Сбербанк... В смысле нас,.. русских. http://t.co/RIvkYaQu6p -- Грефф в Крыму не …\n",
      "256 -1 RT @markethell: ЦБ РФ выявил в Тихоокеанском Внешторгбанке признаки уголовных преступлений\n",
      "http://t.co/e9EVITBn8p\n",
      "в стране куда не глянь, в…\n",
      "257 -1 @svetonum @sberbank чаще всего не влезают данные паспорта/гражданство, приходится возвращать обратно\n",
      "258 -1 RT @pridemon: Банк Москвы @bm_twit требует денег за перевыпуск карты, которая не читается. А почему я должен платить? Не ломал, в микроволн…\n",
      "260 -1 16.07.2015 11:30 : Банкоматы Сбербанка в Москве не принимают купюры в тысячу рублей\n",
      "  \n",
      " http://t.co/OcIbjx3bBy #echo.msk #новости #news\n",
      "262 -1 Банкоматы и другие устройства самообслуживания Московского банка \"Сбербанка\" 16 июля не принимают купюры достоинством 1 тысяча рублей...\n",
      "263 -1 RT @YodNews: Московские банкоматы Сбербанка не принимают купюры номиналом 1 тысяча рублей http://t.co/uMkub11is9 Будьте бдительны http://t.…\n",
      "264 -1 RT @vesti_news: Московские банкоматы Сбербанка не принимают тысячерублевые купюры http://t.co/gs5Iy34iiR\n",
      "265 -1 RT @GazetaRu: Банкоматы Сбербанка не принимают тысячные купюры\n",
      "http://t.co/TiGUztlicg http://t.co/6K08UpTtsS\n",
      "266 -1 Банкоматы Сбербанка в Москве не принимают купюры номиналом 1 000 рублей.\n",
      "http://t.co/UHGgLsAybU http://t.co/f6I3vzaGbN\n",
      "267 -1 В Москве банкоматы Сбербанка не принимают купюры в 1000 рублей — Рамблер-Новости http://t.co/PuFSufRgIG\n",
      "268 -1 RT @banki_ru: Банкоматы Сбербанка в Москве не принимают купюры номиналом 1 000 рублей http://t.co/knTPuD5icH http://t.co/i1CCcRvBxC\n",
      "270 -1 В Москве банкоматы и другие устройства самообслуживания Сбербанка 16 июля не принимают купюры достоинством в 1 тысячу рублей. Об этом сообща\n",
      "272 -1 Банкоматы Сбербанка в Москве не принимают купюры в 1000 рублей http://t.co/s1rtvV8Vr7 http://t.co/eBWgF2pZab\n",
      "273 -1 Банкоматы Сбербанка в Москве не принимают купюры в тысячу рублей http://t.co/uzX4HUcLAc\n",
      "274 -1 Банкоматы Сбербанка в Москве не принимают купюры в тысячу рублей http://t.co/vmLNNyPDf8\n",
      "275 -1 Банкоматы Сбербанка в Москве не принимают купюры в тысячу рублей http://t.co/tV4cMJ7rLR #финансы #экономика\n",
      "277 -1 Московские банкоматы Сбербанка не принимают купюры в 1тыс рублей: Банкоматы и аппараты самообслуживания Сбербанка в Москве перестали…\n",
      "278 -1 Московские банкоматы Сбербанка не принимают тысячерублевые купюры http://t.co/AJ6i7JlQSM\n",
      "280 -1 Банкоматы \"Сбербанка\" не принимают однотысячные купюры до 18 июля: Компания проводит плановые работы по усилен... http://t.co/w0ua2XKYZp\n",
      "281 -1 Новости: Банкоматы \"Сбербанка\" не принимают однотысячные купюры до 18 июля  #новости\n",
      "282 -1 @budoweb Банкоматы \"Сбербанка\" не принимают однотысячные купюры до 18 июля\n",
      "283 -1 Купюры номиналом 1 тыс. рублей через банкоматы сбербанк не принимает, нет 5-ти тысяч, в очередь\n",
      "http://t.co/XF5xfpWGV3\n",
      "284 -1 В кол-центре Сбербанка \"Газете.Ru\" не смогли назвать точных сроков, когда банкоматы Москвы восстановят прием тысячных купюр. \"В настоящий…\n",
      "287 -1 @Ilya_Morss @Virtual_jurist Не вернут вклады в Сбербанке и их прокатим...\n",
      "292 -1 @bookeanarium в Сбербанк не книгу надо брать, а дробовик\n",
      "293 -1 Терминалы Сбербанка не принимали тусячерублевки из-за перенастройки системы безопасности http://t.co/r8rtvABnuh\n",
      "294 -1 Назрел один такой вопрос: \"Нахрена мне, шестнадцатилетнему школьнику, знать новости сбербанка?\" http://t.co/P1vaAeJ7f2\n",
      "295 -1 RT @ShadenFM: Сбербанк. Банкоматы не принимают одно тысячные купюры. В банке обещают восстановить приём купюр к 18 июля\n",
      "296 -1 Переводы с карты @alfa_bank на карту @tinkoff_bank через https://t.co/Kkhaj02B6u не проходят. Бида-пичаль.\n",
      "297 -1 Банкоматы Сбербанка в Москве не будут принимать купюры в 1000 рублей до 17 июля http://t.co/9vdRwqi1HE\n",
      "298 -1 https://t.co/Jxx0m0EMHX Этот сученок Греф, видно решил обанкротить Сбербанк и ничего не выплачивать вкладчикам!!!\n",
      "301 -1 @alfa_bank  а банк совсем не обязан сообщать изменения по кредитному договору? Раньше вроде по таким случаям и смс и поста.\n",
      "302 -1 #Московские банкоматы Сбербанка не принимают тысячерублевые купюры #Банкоматы и другие устройства самообслуживания Московского банка Сберба\n",
      "304 -1 Самое идиотское изобретение это автоматический контакт центр с которым надо разговаривать, а не на кнопки жать. @sberbank\n",
      "305 -1 В #калуга_решает не получается перевести пожертвовавание на избирательный счёт @dem_coalition в отделении @sberbank - не помещаются данные.\n",
      "309 -1 @sberbank что у вас за мозгоебалово творится? у меня за полмесяца 2 раза отключался сам мобильный банк и 2 раза блокировался. почините уже\n",
      "312 -1 Воробьев хочет, чтобы его чиновники работали как в Сбербанке. КАК В СБЕРБАНКЕ! Даже пенсионеров такой шнягой уже не обманешь.\n",
      "314 -1 #dirty Феерия от Сбербанка: 300 миллионов потратят на айпады http://t.co/BcWxn141Lq\n",
      "315 -1 @CoderRemix я в него засунул карточку Сбербанка РФ, а он пишет: \"Эта карта не обслуживается\"\n",
      "316 -1 Ипотека под 2% от Сбербанка для народа... Чехии | Крамола http://t.co/jlNVVeJXrJ\n",
      "319 -1 RT @redhunky: А для Сбербанка Крым — не Россия? http://t.co/ZGQMkwinmS\n",
      "324 -1 @sberbank При долгих пытках поддержки они понесли абсолютную чушь. Мой ИНН не видит сбер и потому мне нужно пойти в тот банк где у меня счёт\n",
      "327 -1 @alfa_bank а что уже СМС уведомления о транзакциях не приходят? Или опять билинг сломали?\n",
      "328 -1 Кроме сбербанка,других траблов не было пока #НиегоНеПроисходило ,да и тут #НичегоНеПроизошло,пацаны сами... http://t.co/xM0hCEpWLj\n",
      "329 -1 сбербанк россии нах пошел из моей ленты меня не интересуют твои услуги\n",
      "334 -1 @sberbank  почему не проходит покупка в iTunes Store? В чем дело?\n",
      "335 -1 То, что творит @alfabank_ru с дизайном приложения, вызывает желание убежать в @rocketbank. Но они не умеют 2 карты на разных людей на 1 счет\n",
      "337 -1 Альфабанк не дробя прервал партнерские отношения с ТКС. Печально, придется пополнять с ВТБ.\n",
      "338 -1 @sberbank С вашим сбербанком лучше не связываться.Деньги целее будут\n",
      "341 -1 RT @airily_ann: Отделение @sberbank-Пермь подталкивает наших жертвователей отправлять деньги в бюджет Магаданской области, указывая не то н…\n",
      "342 -1 Финансы  Банк Москвы стал самым убыточным по итогам полугодия: У него портятся не только кредиты, выданные при прежних владельцах, но и…\n",
      "351 -1 Спасение денег в Сбербанке – дело клиента Сбербанка! http://t.co/iA5o716UAF\n",
      "352 -1 Сайт сбербанка -- дерьмо. Уже 2 месяца пытаюсь обратно подключить мобильный банк, а он НЕ ХОЧЕТ.\n",
      "353 -1 @sberbank Спасибо, но как корректно поправите? На сайте одно, оператор на телефоне говорит другое, и что так как на сайте не должно работать\n",
      "362 -1 В общем всё понятно, надо избавляться от карт @sberbank\n",
      "367 -1 @tinkoff_bank @sberbank не могу перевести, в чем проблема? http://t.co/NEncqbRZcY\n",
      "371 -1 Капец,даже в Судаке и Ялте нельзя  снять деньги с нашей карты Сбербанка.Родители поехали на паром,в настоящую Россию снимать деньги.ПИЗДЕЦ!\n",
      "373 -1 #сбербанк. С каждым разом всё хуже. Вынужден отказаться от услуг.\n",
      "381 -1 Сидел в очереди в сбербанке. Номера шли НЕ по порядку. Передо мной прошли сначала номера больше моего, потом пошли те, что меньше, потом вн\n",
      "388 -1 @sberbank спасибо. Как же хочется сервис более высокого уровня. Частые перебои.\n",
      "394 -1 @tinkoff_bank @pskobelev @alfa_bank только что пробовал с альфы, таки да, не проходит\n"
     ]
    }
   ],
   "source": [
    "for i, (c, l) in enumerate(zip(texts_test, labels_test)[800:1200]):\n",
    "    if l == -1:\n",
    "        print i, l, c"
   ]
  }
 ],
 "metadata": {
  "kernelspec": {
   "display_name": "Python 2",
   "language": "python",
   "name": "python2"
  },
  "language_info": {
   "codemirror_mode": {
    "name": "ipython",
    "version": 2
   },
   "file_extension": ".py",
   "mimetype": "text/x-python",
   "name": "python",
   "nbconvert_exporter": "python",
   "pygments_lexer": "ipython2",
   "version": "2.7.12"
  }
 },
 "nbformat": 4,
 "nbformat_minor": 1
}
