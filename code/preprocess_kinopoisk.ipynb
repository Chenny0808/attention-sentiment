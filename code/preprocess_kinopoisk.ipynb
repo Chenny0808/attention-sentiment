{
 "cells": [
  {
   "cell_type": "code",
   "execution_count": 22,
   "metadata": {
    "collapsed": true
   },
   "outputs": [],
   "source": [
    "import xml.etree.ElementTree\n",
    "\n",
    "import numpy as np\n",
    "import pandas as pd\n",
    "import matplotlib\n",
    "%matplotlib inline"
   ]
  },
  {
   "cell_type": "code",
   "execution_count": 2,
   "metadata": {},
   "outputs": [],
   "source": [
    "reviews = pd.read_csv('../data/reviews_arhip.csv', names=['text', 'label'], encoding='utf-8')"
   ]
  },
  {
   "cell_type": "code",
   "execution_count": 57,
   "metadata": {},
   "outputs": [],
   "source": [
    "kinopoisk_bottom100_xml = xml.etree.ElementTree.parse('../data/datasets/kinopoisk_bottom100.xml').getroot()\n",
    "kinopoisk_top250_xml = xml.etree.ElementTree.parse('../data/datasets/kinopoisk_top250.xml').getroot()#.getchildren()[1]\n",
    "rows = []\n",
    "for row_xml in list(kinopoisk_bottom100_xml) + list(kinopoisk_top250_xml):\n",
    "    row = []\n",
    "    for cell in list(row_xml):\n",
    "        row.append(cell.text)\n",
    "    rows.append(row)"
   ]
  },
  {
   "cell_type": "code",
   "execution_count": 58,
   "metadata": {},
   "outputs": [
    {
     "data": {
      "text/html": [
       "<div>\n",
       "<table border=\"1\" class=\"dataframe\">\n",
       "  <thead>\n",
       "    <tr style=\"text-align: right;\">\n",
       "      <th></th>\n",
       "      <th>text</th>\n",
       "      <th>label</th>\n",
       "    </tr>\n",
       "  </thead>\n",
       "  <tbody>\n",
       "    <tr>\n",
       "      <th>0</th>\n",
       "      <td>\\n      Сегодня пришло время поговорить об одн...</td>\n",
       "      <td>1</td>\n",
       "    </tr>\n",
       "    <tr>\n",
       "      <th>1</th>\n",
       "      <td>\\n      Смотрела этот фильм, периодически став...</td>\n",
       "      <td>1</td>\n",
       "    </tr>\n",
       "    <tr>\n",
       "      <th>2</th>\n",
       "      <td>\\n      Когда-то американское кино для подрост...</td>\n",
       "      <td>-1</td>\n",
       "    </tr>\n",
       "    <tr>\n",
       "      <th>3</th>\n",
       "      <td>\\n      Представь, что тебе в ухо вставляют со...</td>\n",
       "      <td>-1</td>\n",
       "    </tr>\n",
       "    <tr>\n",
       "      <th>4</th>\n",
       "      <td>\\n      Мне не понравился этот фильм. \\n\\n\\n\\n...</td>\n",
       "      <td>-1</td>\n",
       "    </tr>\n",
       "  </tbody>\n",
       "</table>\n",
       "</div>"
      ],
      "text/plain": [
       "                                                text  label\n",
       "0  \\n      Сегодня пришло время поговорить об одн...      1\n",
       "1  \\n      Смотрела этот фильм, периодически став...      1\n",
       "2  \\n      Когда-то американское кино для подрост...     -1\n",
       "3  \\n      Представь, что тебе в ухо вставляют со...     -1\n",
       "4  \\n      Мне не понравился этот фильм. \\n\\n\\n\\n...     -1"
      ]
     },
     "execution_count": 58,
     "metadata": {},
     "output_type": "execute_result"
    }
   ],
   "source": [
    "kinopoisk = pd.DataFrame(rows, columns=['author', 'date', 'title', 'label', 'grade10', 'movieName', 'text'])\n",
    "kinopoisk = kinopoisk[['text', 'label']]\n",
    "kinopoisk.loc[:, 'label'] = kinopoisk['label'].apply({'Bad' : -1, 'Neutral' : 0, 'Good' : 1}.get)\n",
    "kinopoisk.head()"
   ]
  },
  {
   "cell_type": "code",
   "execution_count": 59,
   "metadata": {},
   "outputs": [
    {
     "data": {
      "text/plain": [
       "(36358, 2)"
      ]
     },
     "execution_count": 59,
     "metadata": {},
     "output_type": "execute_result"
    }
   ],
   "source": [
    "kinopoisk.shape"
   ]
  },
  {
   "cell_type": "code",
   "execution_count": 61,
   "metadata": {},
   "outputs": [
    {
     "name": "stdout",
     "output_type": "stream",
     "text": [
      "\n",
      "      Сегодня пришло время поговорить об одном из самых интересных феноменов мирового кинематографа XXI века: о фильме «18-летняя девственница», который с невероятной легкостью покорежил мозги, сердца и души тысяч киноманов по всему миру. \n",
      "\n",
      "\n",
      "\n",
      "Правдивая история создания. Исследователи полагают, что появлением «Девственницы» мы обязаны сочетанию тяжелого материального положения, сурового алкогольного опьянения и не вовремя просмотренных «Зак и Мири снимают порно» Кевина Смита. В этих условиях Тамара Олсон просто обречена была попытаться заработать на липосакцию выпуском порноленты в духе незабвенных «Пэтэушниц в камере пыток». Она выдала себя за режиссера и заманила в проект четверых актеров, умиравших от голода на задворках Голливуда, а также мужика с личной камерой, готового работать за строчку в титрах. Видя недостаток ресурсов, предприимчивая леди попробовала себя в роли няни и сиделки: так в ее сети попали детишки и чей-то парализованный дедушка. Статистами выступили гости частной вечеринки, которые искренне принимали съемки за розыгрыш, а актрису Оливию Алайну Мэй — за вполне девственную школьную зубрилку, зачем-то снявшую очки и нацепившую лифчик.\n",
      "\n",
      "\n",
      "\n",
      "Трансмутации сюжета и жанра. Сценаристом картины выступила Наоми Селфман, чьи сублимированные инстинкты вылились в потрясающий по глубине сюжет. Поскольку очевидно, что девственность потерять можно лишь однажды (иначе весь бюджет уйдет на восстановления), героиню решено было пустить тяжким путем неудовлетворенности, последовательно проводя ее через постели робкого импотента, наглого жеребца со специфической анатомией, чокнутого мастера «энергетического секса», усталого многостаночника, гея-мазохиста, просто гея, пребывающего в коме дедушки и… снова робкого импотента (эдакий открытый финал). Однако сразу выяснилось, что актеры недостаточно набрались/прониклись идеей, чтобы отбросить ложный стыд, к тому же робкий импотент так вошел в роль, что испортил свою сцену, а оператор перевозбудился, уронил камеру и дальше работал с мобильником. Посему сценарий переписали, заменив порно психологизмом. Именно так фильм обогатился ставшей классикой психоделически-философской сценой «обкуренная Кэти беседует с мужским половым членом», дидактической притчей «Кэти плетью вколачивает культуру английского языка», физкультурным этюдом «Кэти совершает прыжок лосося в погоне за оргазмом» и, конечно, знаменитым пособием по интимной гигиене «Кэти ломает бритву, пытаясь стать привлекательней». \n",
      "\n",
      "\n",
      "\n",
      "Судьба шедевра. К сожалению, косная и предвзятая публика не смогла оценить новаторского подхода и нестандартного мышления авторов «Девственницы». Ситуацию не спасла даже своевременно подвезенная артистам выпивка, обогатившая вторую половину фильма голыми сиськами и прочими деталями анатомии. Поэтому даже сегодня истинная глубинная история Кэти остается достоянием немногих ценителей, способных за внешним постмодернистским антуражем разглядеть, как сильная личность сквозь шипы и тернии бескомпромиссно стремится к высокой цели, на этом сложном пути теряя остатки прежних иллюзий, воспитывая характер, укрепляясь духом и телом. \n",
      "\n",
      "\n",
      "\n",
      "Мы, однако, верим, что этот необыкновенный фильм дождется своего часа и однажды его начнут показывать в детских садах, с младенчества приобщая девочек к доброму, светлому и прекрасному.\n",
      "\n",
      "\n",
      "\n",
      "2 из 10\n",
      "\n",
      "\n",
      "\n",
      "P.S.: Внимание! Если при прочтении данного текста вы обнаружили у себя признаки серьезного восприятия оного, советуем немедленно обратиться к психоаналитику.\n",
      "      \n"
     ]
    }
   ],
   "source": [
    "print kinopoisk.text[0]"
   ]
  },
  {
   "cell_type": "code",
   "execution_count": 62,
   "metadata": {},
   "outputs": [
    {
     "data": {
      "text/plain": [
       "(36346, 2)"
      ]
     },
     "execution_count": 62,
     "metadata": {},
     "output_type": "execute_result"
    }
   ],
   "source": [
    "kinopoisk = kinopoisk[~kinopoisk.text.duplicated()]\n",
    "kinopoisk.shape"
   ]
  },
  {
   "cell_type": "code",
   "execution_count": 63,
   "metadata": {},
   "outputs": [
    {
     "name": "stdout",
     "output_type": "stream",
     "text": [
      "(36346, 2)\n",
      "(36346, 2)\n"
     ]
    }
   ],
   "source": [
    "print kinopoisk.shape\n",
    "kinopoisk.dropna(inplace=True)\n",
    "print kinopoisk.shape"
   ]
  },
  {
   "cell_type": "markdown",
   "metadata": {},
   "source": [
    "Соотношение классов:"
   ]
  },
  {
   "cell_type": "code",
   "execution_count": 64,
   "metadata": {},
   "outputs": [
    {
     "data": {
      "text/plain": [
       " 1    27044\n",
       "-1     4743\n",
       " 0     4559\n",
       "Name: label, dtype: int64"
      ]
     },
     "execution_count": 64,
     "metadata": {},
     "output_type": "execute_result"
    }
   ],
   "source": [
    "kinopoisk['label'].value_counts()"
   ]
  },
  {
   "cell_type": "markdown",
   "metadata": {},
   "source": [
    "Распределение длин сообщений (в символах)"
   ]
  },
  {
   "cell_type": "code",
   "execution_count": 65,
   "metadata": {},
   "outputs": [
    {
     "data": {
      "image/png": "[encoded data removed]",
      "text/plain": [
       "<matplotlib.figure.Figure at 0x7f982204de90>"
      ]
     },
     "metadata": {},
     "output_type": "display_data"
    }
   ],
   "source": [
    "kinopoisk.text.apply(len).hist(bins=50);"
   ]
  },
  {
   "cell_type": "markdown",
   "metadata": {},
   "source": [
    "Распределение длин сообщений (~в словах)"
   ]
  },
  {
   "cell_type": "code",
   "execution_count": 66,
   "metadata": {},
   "outputs": [
    {
     "data": {
      "image/png": "[encoded data removed]",
      "text/plain": [
       "<matplotlib.figure.Figure at 0x7f98272de050>"
      ]
     },
     "metadata": {},
     "output_type": "display_data"
    }
   ],
   "source": [
    "kinopoisk.text.apply(lambda s: len(s.split())).hist(bins=30);"
   ]
  },
  {
   "cell_type": "code",
   "execution_count": 67,
   "metadata": {
    "collapsed": true
   },
   "outputs": [],
   "source": [
    "from sklearn.model_selection import train_test_split\n",
    "\n",
    "TEST_SIZE = 0.2\n",
    "\n",
    "X_train, X_test, y_train, y_test = train_test_split(kinopoisk.text, kinopoisk.label,\n",
    "                                                    test_size=TEST_SIZE, random_state=42)"
   ]
  },
  {
   "cell_type": "code",
   "execution_count": 68,
   "metadata": {},
   "outputs": [],
   "source": [
    "reviews_train = pd.DataFrame(X_train)\n",
    "reviews_train['label'] = y_train\n",
    "\n",
    "reviews_test = pd.DataFrame(X_test)\n",
    "reviews_test['label'] = y_test"
   ]
  },
  {
   "cell_type": "code",
   "execution_count": 69,
   "metadata": {},
   "outputs": [],
   "source": [
    "reviews_train.to_csv('../data/kinopoisk_train.csv', index=False, encoding='utf-8')\n",
    "reviews_test.to_csv('../data/kinopoisk_test.csv', index=False, encoding='utf-8')"
   ]
  },
  {
   "cell_type": "markdown",
   "metadata": {},
   "source": [
    "---"
   ]
  }
 ],
 "metadata": {
  "kernelspec": {
   "display_name": "Python 2",
   "language": "python",
   "name": "python2"
  },
  "language_info": {
   "codemirror_mode": {
    "name": "ipython",
    "version": 2
   },
   "file_extension": ".py",
   "mimetype": "text/x-python",
   "name": "python",
   "nbconvert_exporter": "python",
   "pygments_lexer": "ipython2",
   "version": "2.7.12"
  }
 },
 "nbformat": 4,
 "nbformat_minor": 1
}
